{
  "nbformat": 4,
  "nbformat_minor": 0,
  "metadata": {
    "colab": {
      "provenance": []
    },
    "kernelspec": {
      "name": "python3",
      "display_name": "Python 3"
    },
    "language_info": {
      "name": "python"
    }
  },
  "cells": [
    {
      "cell_type": "code",
      "execution_count": 1,
      "metadata": {
        "id": "ErAEhzpZMM9S"
      },
      "outputs": [],
      "source": [
        "#decorators>> allows to modify or extend the behaviour or functions/class without directly modifying their  original code\n",
        "#similar to you decorating your room (putting different lights, sticker, posters)>>extends/decorates the basic behaviour of room\n"
      ]
    },
    {
      "cell_type": "code",
      "source": [
        "#function decorators and class decorators\n",
        "\n",
        "#function decorators"
      ],
      "metadata": {
        "id": "_Ee8rLmrNB0-"
      },
      "execution_count": 1,
      "outputs": []
    },
    {
      "cell_type": "markdown",
      "source": [
        "- To understand use case>> say you want to use the line before compuation and after computation after each time you create a function or call function. So it will take a lot of time to type the lines repeatatively\n",
        "- And thatwhy the concept of decorators comes into the picture"
      ],
      "metadata": {
        "id": "-dlONcPRN3M-"
      }
    },
    {
      "cell_type": "code",
      "source": [
        "\n",
        "def my_decorator_func():\n",
        "    print(\"The line before computation.\")\n",
        "    print(11*1200) #decorating the actual computation with line above and line below\n",
        "    print(\"The line after computation\")\n",
        "#In the above approach you have to write all the line as many times as you are creating the different functions\n",
        "#lets see the decorator approach"
      ],
      "metadata": {
        "id": "MAMmBJXONB9u"
      },
      "execution_count": 4,
      "outputs": []
    },
    {
      "cell_type": "code",
      "source": [
        "my_decorator_func()"
      ],
      "metadata": {
        "colab": {
          "base_uri": "https://localhost:8080/"
        },
        "id": "KZY-1EvLNB-P",
        "outputId": "f6b0e124-5038-4857-ca00-57260d110380"
      },
      "execution_count": 5,
      "outputs": [
        {
          "output_type": "stream",
          "name": "stdout",
          "text": [
            "The line before computation.\n",
            "13200\n",
            "The line after computation\n"
          ]
        }
      ]
    },
    {
      "cell_type": "code",
      "source": [
        "#decorator approach for functions>>use case 1\n",
        "def my_decorator(func): #decorator function that takes another func as arguement\n",
        "    def wrapper(): #wrapper is a nested function that adds the functionality before and after calling original func func\n",
        "        print(\"The line before computation.\")\n",
        "        func() #say_hello which is the func here will be executed here\n",
        "        print(\"The line after computation\")\n",
        "    return wrapper"
      ],
      "metadata": {
        "id": "cT0s0papNB-x"
      },
      "execution_count": 6,
      "outputs": []
    },
    {
      "cell_type": "code",
      "source": [
        "@my_decorator\n",
        "def say_hello():\n",
        "  print(\"hello\")"
      ],
      "metadata": {
        "id": "AeFNhecfNB_S"
      },
      "execution_count": 14,
      "outputs": []
    },
    {
      "cell_type": "code",
      "source": [
        "say_hello()\n",
        "# when say_hello is called , it is actually first calling the decorator function >>\n",
        "#which in return is calling wrapper function and then wrapped function is printing the line\n",
        "#and callig the say_hello function"
      ],
      "metadata": {
        "colab": {
          "base_uri": "https://localhost:8080/"
        },
        "id": "rZsGWNobNCAM",
        "outputId": "65c3b217-e81a-4dc4-a76d-c13d3ff9f008"
      },
      "execution_count": 15,
      "outputs": [
        {
          "output_type": "stream",
          "name": "stdout",
          "text": [
            "The line before computation.\n",
            "hello\n",
            "The line after computation\n"
          ]
        }
      ]
    },
    {
      "cell_type": "code",
      "source": [
        "#another use case of function decorator\n",
        "#run time of a code\n",
        "\n",
        "import time\n",
        "def timer_decorator(func):\n",
        "    def timer():\n",
        "        start = time.time()\n",
        "        func()\n",
        "        end = time.time()\n",
        "        print(\"The time for executing the code\", end-start)\n",
        "    return timer"
      ],
      "metadata": {
        "id": "ni93vShzNCBY"
      },
      "execution_count": 16,
      "outputs": []
    },
    {
      "cell_type": "code",
      "source": [
        "@timer_decorator\n",
        "def func_test():\n",
        "    print(1100000*1000)"
      ],
      "metadata": {
        "id": "I6FnrJyVNCB6"
      },
      "execution_count": 17,
      "outputs": []
    },
    {
      "cell_type": "code",
      "source": [
        "func_test()"
      ],
      "metadata": {
        "colab": {
          "base_uri": "https://localhost:8080/"
        },
        "id": "DXWdM_ZhNCCi",
        "outputId": "9d175b0f-78ae-42af-c66d-dcc4e2118dba"
      },
      "execution_count": 18,
      "outputs": [
        {
          "output_type": "stream",
          "name": "stdout",
          "text": [
            "1100000000\n",
            "The time for executing the code 7.414817810058594e-05\n"
          ]
        }
      ]
    },
    {
      "cell_type": "code",
      "source": [
        "@timer_decorator\n",
        "def func_test1():\n",
        "    print(1100000 + 1000* 231)\n",
        "\n",
        "func_test1()"
      ],
      "metadata": {
        "colab": {
          "base_uri": "https://localhost:8080/"
        },
        "id": "UElTYZLPNCDH",
        "outputId": "0108b8fe-42f7-444a-bbb3-e20085905360"
      },
      "execution_count": 19,
      "outputs": [
        {
          "output_type": "stream",
          "name": "stdout",
          "text": [
            "1331000\n",
            "The time for executing the code 5.340576171875e-05\n"
          ]
        }
      ]
    },
    {
      "cell_type": "code",
      "source": [
        "#why do need decorators?\n",
        "#reusability of code >> reuse the common code\n",
        "#enhancing the function without modifying the original function\n",
        "#use cases>> execution time of code, logging, caching, validation"
      ],
      "metadata": {
        "id": "Lvcgny6LNCDq"
      },
      "execution_count": 20,
      "outputs": []
    },
    {
      "cell_type": "code",
      "source": [
        "# class decorators >>\n",
        "class MyDecorator:\n",
        "    def __init__(self, func):\n",
        "        self.func = func\n",
        "        print(\"inside the init method\")\n",
        "    def __call__(self):\n",
        "        print(\"Something is happening before function.\")\n",
        "        self.func()\n",
        "        print(\"Something is happening after function.\")"
      ],
      "metadata": {
        "id": "qiHO7HEtNCEL"
      },
      "execution_count": 22,
      "outputs": []
    },
    {
      "cell_type": "code",
      "source": [
        "@MyDecorator #class __call__ will be executed as the object if the class will be called as function>> so first __init__ and then __call__method will be executed\n",
        "def say_hello():\n",
        "    print(\"Hello\")\n",
        "say_hello()"
      ],
      "metadata": {
        "colab": {
          "base_uri": "https://localhost:8080/"
        },
        "id": "TTFxHiwVNCE1",
        "outputId": "49ddf1ed-e15d-42cb-8685-3e3752f874b3"
      },
      "execution_count": 23,
      "outputs": [
        {
          "output_type": "stream",
          "name": "stdout",
          "text": [
            "inside the init method\n",
            "Something is happening before function.\n",
            "Hello\n",
            "Something is happening after function.\n"
          ]
        }
      ]
    },
    {
      "cell_type": "code",
      "source": [
        "#__call__ is  special method which is called/invoked when you call instance/object of the class as a function"
      ],
      "metadata": {
        "id": "ShlutIdhNCFe"
      },
      "execution_count": 1,
      "outputs": []
    },
    {
      "cell_type": "code",
      "source": [
        "class MyDecorator:\n",
        "    def __init__(self): #similar to function decorator you are passing func in class decorator\n",
        "        # self.func=func\n",
        "        print(\"Inside the init method\")\n",
        "    def __call__(self):\n",
        "        print(\"Something is happening before function.\")\n",
        "        # self.func()\n",
        "        print(\"Something is happening after function.\")\n",
        "\n",
        "\n"
      ],
      "metadata": {
        "id": "5wZnk9SENCGD"
      },
      "execution_count": 24,
      "outputs": []
    },
    {
      "cell_type": "code",
      "source": [
        "obj1 = MyDecorator() #when you make an object of the class, init is executed first"
      ],
      "metadata": {
        "colab": {
          "base_uri": "https://localhost:8080/"
        },
        "id": "eRxY1ytGNCGp",
        "outputId": "b38ef586-f03c-47bd-892a-b125c14ebd1d"
      },
      "execution_count": 25,
      "outputs": [
        {
          "output_type": "stream",
          "name": "stdout",
          "text": [
            "Inside the init method\n"
          ]
        }
      ]
    },
    {
      "cell_type": "code",
      "source": [
        "obj1() #when you call an object of a class as function __call__ method will be invoked"
      ],
      "metadata": {
        "colab": {
          "base_uri": "https://localhost:8080/"
        },
        "id": "UpxjOPcbNCHO",
        "outputId": "89d83c50-73c6-4c53-cf9b-8e1fb3add814"
      },
      "execution_count": 26,
      "outputs": [
        {
          "output_type": "stream",
          "name": "stdout",
          "text": [
            "Something is happening before function.\n",
            "Something is happening after function.\n"
          ]
        }
      ]
    },
    {
      "cell_type": "markdown",
      "source": [
        "- some inbuilt decorators >> details in the next class\n",
        "- @classmethod >> The method that takes the class itself as the first argument"
      ],
      "metadata": {
        "id": "jC0T6AcfVnm_"
      }
    },
    {
      "cell_type": "code",
      "source": [
        "class Math:\n",
        "    @classmethod #takes reference to the class itself to modify and access class level attributes\n",
        "    def add(cls, x, y):\n",
        "        return cls.__name__, x + y  #cls.__name__>> class Math"
      ],
      "metadata": {
        "id": "rDwN6ZuMNCHz"
      },
      "execution_count": 27,
      "outputs": []
    },
    {
      "cell_type": "code",
      "source": [
        "#you dontt need any init method to take data\n",
        "Math.add(3, 5)"
      ],
      "metadata": {
        "colab": {
          "base_uri": "https://localhost:8080/"
        },
        "id": "AfpqUJBhNCIY",
        "outputId": "7cf7bd50-192f-4b2c-d3ad-5b31876002cc"
      },
      "execution_count": 29,
      "outputs": [
        {
          "output_type": "execute_result",
          "data": {
            "text/plain": [
              "('Math', 8)"
            ]
          },
          "metadata": {},
          "execution_count": 29
        }
      ]
    },
    {
      "cell_type": "code",
      "source": [
        "#class method is bound to class and not the instance of the class,\n",
        "#class itsef as the first argument>> conventionally cls"
      ],
      "metadata": {
        "id": "r1eo2SijWb-L"
      },
      "execution_count": null,
      "outputs": []
    },
    {
      "cell_type": "code",
      "source": [
        "#next inbuild decorator is static method\n",
        "#static method>> the method which can be called without creating any instance of class, adn without using self or self"
      ],
      "metadata": {
        "id": "3lOQ3K37Wc0V"
      },
      "execution_count": null,
      "outputs": []
    },
    {
      "cell_type": "code",
      "source": [
        "#earlier\n",
        "class Math:\n",
        "    def add(self, x, y):\n",
        "        return x+y"
      ],
      "metadata": {
        "id": "LHdMBrmUVdCy"
      },
      "execution_count": 32,
      "outputs": []
    },
    {
      "cell_type": "code",
      "source": [
        "a = Math() #make object/instance"
      ],
      "metadata": {
        "id": "pTlNj2-DVdGD"
      },
      "execution_count": 31,
      "outputs": []
    },
    {
      "cell_type": "code",
      "source": [
        "a.add(2, 3) #this is the way to call regular class method"
      ],
      "metadata": {
        "colab": {
          "base_uri": "https://localhost:8080/"
        },
        "id": "hG9DB_7lVdJA",
        "outputId": "8515607a-df10-4da5-e9ae-9d4f37d610f5"
      },
      "execution_count": 33,
      "outputs": [
        {
          "output_type": "execute_result",
          "data": {
            "text/plain": [
              "5"
            ]
          },
          "metadata": {},
          "execution_count": 33
        }
      ]
    },
    {
      "cell_type": "code",
      "source": [
        "#use of static method\n",
        "class Math:\n",
        "    @staticmethod\n",
        "    def add(x, y): #no need of self or cls\n",
        "        return x+y"
      ],
      "metadata": {
        "id": "_xEZqkzkVdL4"
      },
      "execution_count": 34,
      "outputs": []
    },
    {
      "cell_type": "code",
      "source": [
        "Math.add(2, 3) #no need of making any object"
      ],
      "metadata": {
        "colab": {
          "base_uri": "https://localhost:8080/"
        },
        "id": "9zEOpsGVVdPS",
        "outputId": "4b1785e1-0006-4d00-e87e-76252898c5d2"
      },
      "execution_count": 35,
      "outputs": [
        {
          "output_type": "execute_result",
          "data": {
            "text/plain": [
              "5"
            ]
          },
          "metadata": {},
          "execution_count": 35
        }
      ]
    },
    {
      "cell_type": "code",
      "source": [
        "#class method to be used when you want to modify class level data\n",
        "#static method>> when you dont want to interact with class level data"
      ],
      "metadata": {
        "id": "BuHLh_JiVdSk"
      },
      "execution_count": 29,
      "outputs": []
    },
    {
      "cell_type": "code",
      "source": [
        "#property decorator>>It allows method to be accessed as attribute"
      ],
      "metadata": {
        "id": "JbCtCRfCVdVW"
      },
      "execution_count": 29,
      "outputs": []
    },
    {
      "cell_type": "code",
      "source": [
        "class Circle:\n",
        "    def __init__(self, radius):\n",
        "        self.radius = radius"
      ],
      "metadata": {
        "id": "qvhacSPJVdXx"
      },
      "execution_count": 36,
      "outputs": []
    },
    {
      "cell_type": "code",
      "source": [
        "obj = Circle(5)"
      ],
      "metadata": {
        "id": "hHV8BcNaW7ay"
      },
      "execution_count": 38,
      "outputs": []
    },
    {
      "cell_type": "code",
      "source": [
        "obj.radius #accessing data/attibute"
      ],
      "metadata": {
        "colab": {
          "base_uri": "https://localhost:8080/"
        },
        "id": "kx-XDBx3W7XR",
        "outputId": "b5548ab4-d852-4859-a449-7577f31eb3fa"
      },
      "execution_count": 39,
      "outputs": [
        {
          "output_type": "execute_result",
          "data": {
            "text/plain": [
              "5"
            ]
          },
          "metadata": {},
          "execution_count": 39
        }
      ]
    },
    {
      "cell_type": "code",
      "source": [
        "class Circle:\n",
        "    def __init__(self, radius):\n",
        "        self.radius = radius\n",
        "    def area(self):\n",
        "        radius = self.radius\n",
        "        return 3.14*radius**2"
      ],
      "metadata": {
        "id": "Vqo-iU1UW7U5"
      },
      "execution_count": null,
      "outputs": []
    },
    {
      "cell_type": "code",
      "source": [
        "obj = Circle(5)\n",
        "obj.radius"
      ],
      "metadata": {
        "colab": {
          "base_uri": "https://localhost:8080/"
        },
        "id": "15F3IyF1W7S9",
        "outputId": "4f155a07-ac13-4493-9375-d4b1e0782ba3"
      },
      "execution_count": 40,
      "outputs": [
        {
          "output_type": "execute_result",
          "data": {
            "text/plain": [
              "5"
            ]
          },
          "metadata": {},
          "execution_count": 40
        }
      ]
    },
    {
      "cell_type": "code",
      "source": [
        "#using proertu decorator\n",
        "class Circle:\n",
        "    def __init__(self, radius):\n",
        "        self.radius = radius\n",
        "    @property\n",
        "    def area(self):\n",
        "        radius = self.radius\n",
        "        return 3.14*radius**2"
      ],
      "metadata": {
        "id": "oREkSYKaW7QX"
      },
      "execution_count": 41,
      "outputs": []
    },
    {
      "cell_type": "code",
      "source": [
        "obj1 = Circle(5)\n",
        "obj1.area #no need of parenthis"
      ],
      "metadata": {
        "colab": {
          "base_uri": "https://localhost:8080/"
        },
        "id": "i9jw8KUlW7N4",
        "outputId": "5614a118-8244-483f-d803-f7931b85b0bb"
      },
      "execution_count": 42,
      "outputs": [
        {
          "output_type": "execute_result",
          "data": {
            "text/plain": [
              "78.5"
            ]
          },
          "metadata": {},
          "execution_count": 42
        }
      ]
    },
    {
      "cell_type": "markdown",
      "source": [
        "**Property Decorators**"
      ],
      "metadata": {
        "id": "LY_-pdWbXafG"
      }
    },
    {
      "cell_type": "code",
      "source": [
        "#property decorators >> you are allowed to use class method as an attribute"
      ],
      "metadata": {
        "id": "ajZ7J5TcW7Cj"
      },
      "execution_count": null,
      "outputs": []
    },
    {
      "cell_type": "code",
      "source": [
        "class Student:\n",
        "    def __init__(self, name, price):\n",
        "        self.__name = name\n",
        "        self.__price = price"
      ],
      "metadata": {
        "id": "lLQC--gMW6_J"
      },
      "execution_count": 43,
      "outputs": []
    },
    {
      "cell_type": "code",
      "source": [
        "#here name and price are private variables which you will not be able to acces from outside the class\n",
        "stud = Student(\"Ajay\", 3000)"
      ],
      "metadata": {
        "id": "yVTaksDYW68z"
      },
      "execution_count": 45,
      "outputs": []
    },
    {
      "cell_type": "code",
      "source": [
        "stud.name #error as name and price private variables"
      ],
      "metadata": {
        "colab": {
          "base_uri": "https://localhost:8080/",
          "height": 146
        },
        "id": "lCTOvpz4YGAi",
        "outputId": "5ded8727-b1a9-4aad-e6e2-c2047f191eab"
      },
      "execution_count": 46,
      "outputs": [
        {
          "output_type": "error",
          "ename": "AttributeError",
          "evalue": "'Student' object has no attribute 'name'",
          "traceback": [
            "\u001b[0;31m---------------------------------------------------------------------------\u001b[0m",
            "\u001b[0;31mAttributeError\u001b[0m                            Traceback (most recent call last)",
            "\u001b[0;32m/tmp/ipython-input-46-1983505003.py\u001b[0m in \u001b[0;36m<cell line: 0>\u001b[0;34m()\u001b[0m\n\u001b[0;32m----> 1\u001b[0;31m \u001b[0mstud\u001b[0m\u001b[0;34m.\u001b[0m\u001b[0mname\u001b[0m \u001b[0;31m#error as name and price private variables\u001b[0m\u001b[0;34m\u001b[0m\u001b[0;34m\u001b[0m\u001b[0m\n\u001b[0m",
            "\u001b[0;31mAttributeError\u001b[0m: 'Student' object has no attribute 'name'"
          ]
        }
      ]
    },
    {
      "cell_type": "code",
      "source": [
        "#still you can access private variable if you know structure of the class\n",
        "stud._Student__name #using class name and exact variable name"
      ],
      "metadata": {
        "colab": {
          "base_uri": "https://localhost:8080/",
          "height": 36
        },
        "id": "BGN4eK8HYGDU",
        "outputId": "de83852d-7eeb-4363-a21b-8843c4d3cb90"
      },
      "execution_count": 47,
      "outputs": [
        {
          "output_type": "execute_result",
          "data": {
            "text/plain": [
              "'Ajay'"
            ],
            "application/vnd.google.colaboratory.intrinsic+json": {
              "type": "string"
            }
          },
          "metadata": {},
          "execution_count": 47
        }
      ]
    },
    {
      "cell_type": "code",
      "source": [
        "#another way to expose private variables using property decorators\n",
        "\n",
        "class Student:\n",
        "    def __init__(self, name, price):\n",
        "        self.__name = name\n",
        "        self.__price = price\n",
        "    @property\n",
        "    def access_price(self):\n",
        "        return self.__price"
      ],
      "metadata": {
        "id": "z0FzyiakYGGH"
      },
      "execution_count": 48,
      "outputs": []
    },
    {
      "cell_type": "code",
      "source": [
        "stud = Student(\"Ajay\", 5000)"
      ],
      "metadata": {
        "id": "8ALqgNveYGJP"
      },
      "execution_count": 49,
      "outputs": []
    },
    {
      "cell_type": "code",
      "source": [
        "stud.access_price"
      ],
      "metadata": {
        "colab": {
          "base_uri": "https://localhost:8080/"
        },
        "id": "DPfUOXylYGLU",
        "outputId": "518ae08c-2913-40d5-eed2-516af79b640b"
      },
      "execution_count": 50,
      "outputs": [
        {
          "output_type": "execute_result",
          "data": {
            "text/plain": [
              "5000"
            ]
          },
          "metadata": {},
          "execution_count": 50
        }
      ]
    },
    {
      "cell_type": "code",
      "source": [
        "#you want to modify the price\n",
        "class Student:\n",
        "    def __init__(self, name, price):\n",
        "        self.__name = name\n",
        "        self.__price = price\n",
        "\n",
        "    @property\n",
        "    def access_price(self):\n",
        "        return self.__price\n",
        "\n",
        "    @access_price.setter\n",
        "    def price_set(self, price_new):\n",
        "        self.__price = price_new"
      ],
      "metadata": {
        "id": "oVi9m_kHYGN6"
      },
      "execution_count": 51,
      "outputs": []
    },
    {
      "cell_type": "code",
      "source": [
        "stud = Student(\"Ajay\", 5000)"
      ],
      "metadata": {
        "id": "-V5KjGXzYGQt"
      },
      "execution_count": 52,
      "outputs": []
    },
    {
      "cell_type": "code",
      "source": [
        "stud.access_price"
      ],
      "metadata": {
        "colab": {
          "base_uri": "https://localhost:8080/"
        },
        "id": "CPmmZ99tYGTL",
        "outputId": "fe6005e8-18cf-4f46-8899-3fef2fc90e3c"
      },
      "execution_count": 54,
      "outputs": [
        {
          "output_type": "execute_result",
          "data": {
            "text/plain": [
              "5000"
            ]
          },
          "metadata": {},
          "execution_count": 54
        }
      ]
    },
    {
      "cell_type": "code",
      "source": [
        "stud.price_set = 1500"
      ],
      "metadata": {
        "id": "P-nwlEV3YGVf"
      },
      "execution_count": 55,
      "outputs": []
    },
    {
      "cell_type": "code",
      "source": [
        "stud.access_price"
      ],
      "metadata": {
        "colab": {
          "base_uri": "https://localhost:8080/"
        },
        "id": "BQkitp4ZYuoP",
        "outputId": "cfe8376e-36ad-4637-ad7c-6720cbe68b32"
      },
      "execution_count": 56,
      "outputs": [
        {
          "output_type": "execute_result",
          "data": {
            "text/plain": [
              "1500"
            ]
          },
          "metadata": {},
          "execution_count": 56
        }
      ]
    },
    {
      "cell_type": "code",
      "source": [
        "#delete a variable\n",
        "\n",
        "class Student:\n",
        "    def __init__(self, name, price):\n",
        "        self.__name = name\n",
        "        self.__price = price\n",
        "\n",
        "    @property\n",
        "    def access_price(self):\n",
        "        return self.__price\n",
        "\n",
        "    @access_price.setter\n",
        "    def access_price(self, price_new):\n",
        "        self.__price = price_new\n",
        "\n",
        "    @access_price.deleter\n",
        "    def access_price(self):\n",
        "        del self.__price"
      ],
      "metadata": {
        "id": "TQDFNlBnYyrF"
      },
      "execution_count": 58,
      "outputs": []
    },
    {
      "cell_type": "code",
      "source": [
        "stud = Student(\"Ajay\", 15000)"
      ],
      "metadata": {
        "id": "USMxlIpSaB0R"
      },
      "execution_count": 59,
      "outputs": []
    },
    {
      "cell_type": "code",
      "source": [
        "stud.access_price"
      ],
      "metadata": {
        "colab": {
          "base_uri": "https://localhost:8080/"
        },
        "id": "pbubwdwMaB3I",
        "outputId": "3ec10e42-034b-4af4-d4e0-0997bb90a3d3"
      },
      "execution_count": 60,
      "outputs": [
        {
          "output_type": "execute_result",
          "data": {
            "text/plain": [
              "15000"
            ]
          },
          "metadata": {},
          "execution_count": 60
        }
      ]
    },
    {
      "cell_type": "code",
      "source": [
        "del stud.access_price"
      ],
      "metadata": {
        "id": "5GoyXMyaaB53"
      },
      "execution_count": 61,
      "outputs": []
    },
    {
      "cell_type": "code",
      "source": [
        "stud.access_price"
      ],
      "metadata": {
        "colab": {
          "base_uri": "https://localhost:8080/",
          "height": 272
        },
        "id": "OgoBcBMxaB8i",
        "outputId": "38cb535e-9f7c-4c17-93e7-86febe8e4096"
      },
      "execution_count": 62,
      "outputs": [
        {
          "output_type": "error",
          "ename": "AttributeError",
          "evalue": "'Student' object has no attribute '_Student__price'",
          "traceback": [
            "\u001b[0;31m---------------------------------------------------------------------------\u001b[0m",
            "\u001b[0;31mAttributeError\u001b[0m                            Traceback (most recent call last)",
            "\u001b[0;32m/tmp/ipython-input-62-592882502.py\u001b[0m in \u001b[0;36m<cell line: 0>\u001b[0;34m()\u001b[0m\n\u001b[0;32m----> 1\u001b[0;31m \u001b[0mstud\u001b[0m\u001b[0;34m.\u001b[0m\u001b[0maccess_price\u001b[0m\u001b[0;34m\u001b[0m\u001b[0;34m\u001b[0m\u001b[0m\n\u001b[0m",
            "\u001b[0;32m/tmp/ipython-input-58-605131909.py\u001b[0m in \u001b[0;36maccess_price\u001b[0;34m(self)\u001b[0m\n\u001b[1;32m      8\u001b[0m     \u001b[0;34m@\u001b[0m\u001b[0mproperty\u001b[0m\u001b[0;34m\u001b[0m\u001b[0;34m\u001b[0m\u001b[0m\n\u001b[1;32m      9\u001b[0m     \u001b[0;32mdef\u001b[0m \u001b[0maccess_price\u001b[0m\u001b[0;34m(\u001b[0m\u001b[0mself\u001b[0m\u001b[0;34m)\u001b[0m\u001b[0;34m:\u001b[0m\u001b[0;34m\u001b[0m\u001b[0;34m\u001b[0m\u001b[0m\n\u001b[0;32m---> 10\u001b[0;31m         \u001b[0;32mreturn\u001b[0m \u001b[0mself\u001b[0m\u001b[0;34m.\u001b[0m\u001b[0m__price\u001b[0m\u001b[0;34m\u001b[0m\u001b[0;34m\u001b[0m\u001b[0m\n\u001b[0m\u001b[1;32m     11\u001b[0m \u001b[0;34m\u001b[0m\u001b[0m\n\u001b[1;32m     12\u001b[0m     \u001b[0;34m@\u001b[0m\u001b[0maccess_price\u001b[0m\u001b[0;34m.\u001b[0m\u001b[0msetter\u001b[0m\u001b[0;34m\u001b[0m\u001b[0;34m\u001b[0m\u001b[0m\n",
            "\u001b[0;31mAttributeError\u001b[0m: 'Student' object has no attribute '_Student__price'"
          ]
        }
      ]
    },
    {
      "cell_type": "code",
      "source": [
        "#use case\n",
        "class Circle:\n",
        "    def __init__(self, radius):\n",
        "        self.__radius = radius\n",
        "\n",
        "    @property\n",
        "    def radius(self):\n",
        "        return self.__radius"
      ],
      "metadata": {
        "id": "Z29cunaUaCAB"
      },
      "execution_count": 63,
      "outputs": []
    },
    {
      "cell_type": "code",
      "source": [
        "c = Circle(5)"
      ],
      "metadata": {
        "id": "7an-NUbQaLp0"
      },
      "execution_count": 64,
      "outputs": []
    },
    {
      "cell_type": "code",
      "source": [
        "c.radius"
      ],
      "metadata": {
        "id": "x00k1uKKaM55"
      },
      "execution_count": null,
      "outputs": []
    },
    {
      "cell_type": "code",
      "source": [
        "class Circle:\n",
        "    def __init__(self, radius):\n",
        "        self.__radius = radius\n",
        "\n",
        "    @property\n",
        "    def radius(self):\n",
        "        return self.__radius\n",
        "    @radius.setter\n",
        "    def radius(self, value):\n",
        "        if value <= 0:\n",
        "            raise ValueError(\"Radius is not positive\")\n",
        "        self.__radius = value\n",
        "    def area(self):\n",
        "        return 3.14*self.__radius*self.__radius"
      ],
      "metadata": {
        "id": "xSemozG3aOf_"
      },
      "execution_count": 65,
      "outputs": []
    },
    {
      "cell_type": "code",
      "source": [
        "c = Circle(5)"
      ],
      "metadata": {
        "id": "bMkYZnUWaOiw"
      },
      "execution_count": 66,
      "outputs": []
    },
    {
      "cell_type": "code",
      "source": [
        "c.radius"
      ],
      "metadata": {
        "colab": {
          "base_uri": "https://localhost:8080/"
        },
        "id": "MkWFTgneaOlh",
        "outputId": "2cb11198-b7b5-4e0b-a0db-a2bd6430a17f"
      },
      "execution_count": 67,
      "outputs": [
        {
          "output_type": "execute_result",
          "data": {
            "text/plain": [
              "5"
            ]
          },
          "metadata": {},
          "execution_count": 67
        }
      ]
    },
    {
      "cell_type": "code",
      "source": [
        "c.radius=10"
      ],
      "metadata": {
        "id": "lDWeYBP_aOoS"
      },
      "execution_count": 68,
      "outputs": []
    },
    {
      "cell_type": "code",
      "source": [
        "c.area()"
      ],
      "metadata": {
        "colab": {
          "base_uri": "https://localhost:8080/"
        },
        "id": "8z7y9vbUaOrN",
        "outputId": "e7d937c4-da3f-4989-c512-a07cf8e4a54a"
      },
      "execution_count": 69,
      "outputs": [
        {
          "output_type": "execute_result",
          "data": {
            "text/plain": [
              "314.0"
            ]
          },
          "metadata": {},
          "execution_count": 69
        }
      ]
    },
    {
      "cell_type": "code",
      "source": [
        "class Circle:\n",
        "    def __init__(self, radius):\n",
        "        self.__radius = radius\n",
        "\n",
        "    @property\n",
        "    def radius(self):\n",
        "        return self.__radius\n",
        "    @radius.setter\n",
        "    def radius(self, value):\n",
        "        if value <= 0:\n",
        "            raise ValueError(\"Radius is not positive\")\n",
        "        self.__radius = value\n",
        "    @radius.deleter\n",
        "    def radius(self):\n",
        "        del self.__radius\n",
        "    def area(self):\n",
        "        return 3.14*self.__radius*self.__radius"
      ],
      "metadata": {
        "id": "4lfIj-RzaOt-"
      },
      "execution_count": 70,
      "outputs": []
    },
    {
      "cell_type": "code",
      "source": [
        "c = Circle(5)\n",
        "c.area()"
      ],
      "metadata": {
        "colab": {
          "base_uri": "https://localhost:8080/"
        },
        "id": "EKYA_GWBaOwV",
        "outputId": "7ffb476d-08d7-429e-f5a8-bc2de661045a"
      },
      "execution_count": 71,
      "outputs": [
        {
          "output_type": "execute_result",
          "data": {
            "text/plain": [
              "78.5"
            ]
          },
          "metadata": {},
          "execution_count": 71
        }
      ]
    },
    {
      "cell_type": "code",
      "source": [
        "c.radius"
      ],
      "metadata": {
        "colab": {
          "base_uri": "https://localhost:8080/"
        },
        "id": "q40ntCIKan7s",
        "outputId": "a13f00f6-0633-49f7-9f0d-a481434efba3"
      },
      "execution_count": 72,
      "outputs": [
        {
          "output_type": "execute_result",
          "data": {
            "text/plain": [
              "5"
            ]
          },
          "metadata": {},
          "execution_count": 72
        }
      ]
    }
  ]
}
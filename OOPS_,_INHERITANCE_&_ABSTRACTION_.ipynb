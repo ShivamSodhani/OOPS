{
  "nbformat": 4,
  "nbformat_minor": 0,
  "metadata": {
    "colab": {
      "provenance": []
    },
    "kernelspec": {
      "name": "python3",
      "display_name": "Python 3"
    },
    "language_info": {
      "name": "python"
    }
  },
  "cells": [
    {
      "cell_type": "code",
      "execution_count": null,
      "metadata": {
        "colab": {
          "base_uri": "https://localhost:8080/"
        },
        "id": "hOIx8gD1SFY_",
        "outputId": "9b827ceb-4fc8-46b9-9d5c-a45fa4951ed7"
      },
      "outputs": [
        {
          "output_type": "execute_result",
          "data": {
            "text/plain": [
              "5"
            ]
          },
          "metadata": {},
          "execution_count": 2
        }
      ],
      "source": [
        "#oops>> object oriented programming system\n",
        "a = 5\n",
        "a"
      ]
    },
    {
      "cell_type": "code",
      "source": [
        "type(a)"
      ],
      "metadata": {
        "colab": {
          "base_uri": "https://localhost:8080/"
        },
        "id": "CO82u03hSSs9",
        "outputId": "9febf9b6-54e3-4ee2-ecb1-87c1856f2289"
      },
      "execution_count": null,
      "outputs": [
        {
          "output_type": "execute_result",
          "data": {
            "text/plain": [
              "int"
            ]
          },
          "metadata": {},
          "execution_count": 3
        }
      ]
    },
    {
      "cell_type": "code",
      "source": [
        "print(type(a))"
      ],
      "metadata": {
        "colab": {
          "base_uri": "https://localhost:8080/"
        },
        "id": "1lrb6jtcSSv3",
        "outputId": "09a2fd54-0a2f-4cbd-f2e2-52dd162a7567"
      },
      "execution_count": null,
      "outputs": [
        {
          "output_type": "stream",
          "name": "stdout",
          "text": [
            "<class 'int'>\n"
          ]
        }
      ]
    },
    {
      "cell_type": "code",
      "source": [
        "b = 4\n",
        "print(type(b))"
      ],
      "metadata": {
        "colab": {
          "base_uri": "https://localhost:8080/"
        },
        "id": "NcO25GjwSSye",
        "outputId": "cfbc656e-6942-4778-9385-0f712b44fbd7"
      },
      "execution_count": null,
      "outputs": [
        {
          "output_type": "stream",
          "name": "stdout",
          "text": [
            "<class 'int'>\n"
          ]
        }
      ]
    },
    {
      "cell_type": "code",
      "source": [
        "s = \"pwskills\"\n",
        "type(s)"
      ],
      "metadata": {
        "colab": {
          "base_uri": "https://localhost:8080/"
        },
        "id": "vabo91cTSS07",
        "outputId": "b7d59b26-6950-4e4a-f03c-be4c1df8ba3d"
      },
      "execution_count": null,
      "outputs": [
        {
          "output_type": "execute_result",
          "data": {
            "text/plain": [
              "str"
            ]
          },
          "metadata": {},
          "execution_count": 6
        }
      ]
    },
    {
      "cell_type": "code",
      "source": [
        "print(type(s))"
      ],
      "metadata": {
        "colab": {
          "base_uri": "https://localhost:8080/"
        },
        "id": "WKQShigBSS3t",
        "outputId": "b3a97fe3-84a5-416a-90e9-0c15a577da79"
      },
      "execution_count": null,
      "outputs": [
        {
          "output_type": "stream",
          "name": "stdout",
          "text": [
            "<class 'str'>\n"
          ]
        }
      ]
    },
    {
      "cell_type": "code",
      "source": [
        "a = \" ajay\"\n",
        "print(type(a))"
      ],
      "metadata": {
        "colab": {
          "base_uri": "https://localhost:8080/"
        },
        "id": "v5q96oRUSS6p",
        "outputId": "04c0ea1d-8fa3-4e66-edac-84d685d3b385"
      },
      "execution_count": null,
      "outputs": [
        {
          "output_type": "stream",
          "name": "stdout",
          "text": [
            "<class 'str'>\n"
          ]
        }
      ]
    },
    {
      "cell_type": "code",
      "source": [
        "#iit form(template) example, cars example, human being example\n",
        "#classes are blueprint/template for creating an object\n",
        "#we are different objects of class human being\n",
        "#gujiya maker, thekua maker"
      ],
      "metadata": {
        "id": "8JEIhhRQUzaI"
      },
      "execution_count": null,
      "outputs": []
    },
    {
      "cell_type": "code",
      "source": [
        "#class Car is nothing but a template\n",
        "class Car: #naming convention>> UpperCamelCase\n",
        "    pass"
      ],
      "metadata": {
        "id": "UEuEQmZ4Uzea"
      },
      "execution_count": null,
      "outputs": []
    },
    {
      "cell_type": "code",
      "source": [
        "c1  = Car() # instance / object"
      ],
      "metadata": {
        "id": "1UyP_sMhUzlA"
      },
      "execution_count": null,
      "outputs": []
    },
    {
      "cell_type": "code",
      "source": [
        "print(type(c1))"
      ],
      "metadata": {
        "colab": {
          "base_uri": "https://localhost:8080/"
        },
        "id": "kcRXayPOUztm",
        "outputId": "32ecd942-661b-46fb-ed73-1b793e8181fc"
      },
      "execution_count": null,
      "outputs": [
        {
          "output_type": "stream",
          "name": "stdout",
          "text": [
            "<class '__main__.Car'>\n"
          ]
        }
      ]
    },
    {
      "cell_type": "code",
      "source": [
        "#why oops? we already had function\n",
        "#a project can have many components, say backend(f1, f2), frontend(f3, f4), data pipeline(f5, f6)\n",
        "\n",
        "# def f1():\n",
        "#     pass\n",
        "\n",
        "# def f6():\n",
        "#     pass\n",
        "\n",
        "# def f4():\n",
        "#     pass\n",
        "\n",
        "# def f2():\n",
        "#     pass\n",
        "\n",
        "# def d5():\n",
        "#     pass\n",
        "\n",
        "# def f3():\n",
        "#     pass\n",
        "\n",
        "#if a backend developer wants to work/change some backend function>> all the functions are at one place\n",
        "#oops helps you to arrange the required functions in respective classes"
      ],
      "metadata": {
        "id": "yupNVP00Uzu7"
      },
      "execution_count": null,
      "outputs": []
    },
    {
      "cell_type": "code",
      "source": [
        "class Car :\n",
        "  pass"
      ],
      "metadata": {
        "id": "-9hwNhGzUzwN"
      },
      "execution_count": null,
      "outputs": []
    },
    {
      "cell_type": "code",
      "source": [
        "c1 = Car()\n",
        "print(type(c1))"
      ],
      "metadata": {
        "colab": {
          "base_uri": "https://localhost:8080/"
        },
        "id": "dw02nyY6Uzxz",
        "outputId": "3c0cc608-8a40-467f-d1e3-02f9e7e36be1"
      },
      "execution_count": null,
      "outputs": [
        {
          "output_type": "stream",
          "name": "stdout",
          "text": [
            "<class '__main__.Car'>\n"
          ]
        }
      ]
    },
    {
      "cell_type": "code",
      "source": [
        "class Car: #function/method of a car\n",
        "    def accelerate():\n",
        "        print(\"car is accelerating\")"
      ],
      "metadata": {
        "id": "LlGZ8puiUzzL"
      },
      "execution_count": null,
      "outputs": []
    },
    {
      "cell_type": "code",
      "source": [
        "c1 = Car()"
      ],
      "metadata": {
        "id": "BQEHQBmuUz0b"
      },
      "execution_count": null,
      "outputs": []
    },
    {
      "cell_type": "code",
      "source": [
        "c1.accelerate() # it will through an error"
      ],
      "metadata": {
        "colab": {
          "base_uri": "https://localhost:8080/",
          "height": 141
        },
        "id": "sVeQYt2ZUz2U",
        "outputId": "5710f444-4bce-4b06-c1a7-b3b07335f05e"
      },
      "execution_count": null,
      "outputs": [
        {
          "output_type": "error",
          "ename": "TypeError",
          "evalue": "Car.accelerate() takes 0 positional arguments but 1 was given",
          "traceback": [
            "\u001b[0;31m---------------------------------------------------------------------------\u001b[0m",
            "\u001b[0;31mTypeError\u001b[0m                                 Traceback (most recent call last)",
            "\u001b[0;32m/tmp/ipython-input-21-1437687545.py\u001b[0m in \u001b[0;36m<cell line: 0>\u001b[0;34m()\u001b[0m\n\u001b[0;32m----> 1\u001b[0;31m \u001b[0mc1\u001b[0m\u001b[0;34m.\u001b[0m\u001b[0maccelerate\u001b[0m\u001b[0;34m(\u001b[0m\u001b[0;34m)\u001b[0m \u001b[0;31m# it will through an error\u001b[0m\u001b[0;34m\u001b[0m\u001b[0;34m\u001b[0m\u001b[0m\n\u001b[0m",
            "\u001b[0;31mTypeError\u001b[0m: Car.accelerate() takes 0 positional arguments but 1 was given"
          ]
        }
      ]
    },
    {
      "cell_type": "code",
      "source": [
        "class Car: #function/method of a car\n",
        "    def accelerate(self):\n",
        "        print(\"car is accelerating\")\n",
        "\n",
        "# #self>> a variable that represent instance of the class using which you can access method/function of class, also attribute/property/data of the class\n",
        "#self makes sure that each object knows that the method is associated with it\n",
        "#in other words the method is referenced to that particular object"
      ],
      "metadata": {
        "id": "rsnVRhCXUz3i"
      },
      "execution_count": null,
      "outputs": []
    },
    {
      "cell_type": "code",
      "source": [
        "a = Car()\n",
        "a . accelerate()"
      ],
      "metadata": {
        "colab": {
          "base_uri": "https://localhost:8080/"
        },
        "id": "-bW1Pn6tUz42",
        "outputId": "f66cd4d5-8014-4eec-cdd9-9ef5aada043c"
      },
      "execution_count": null,
      "outputs": [
        {
          "output_type": "stream",
          "name": "stdout",
          "text": [
            "car is accelerating\n"
          ]
        }
      ]
    },
    {
      "cell_type": "code",
      "source": [
        "class Car: #function/method of a car\n",
        "    def accelerate(self):\n",
        "        print(\"car is accelerating\")\n",
        "    def brake(self):\n",
        "         print(\"car is stoping\")\n",
        "\n",
        "         #self is not a python keyword, you can pass any variable name\n",
        "#best practise is to pass self"
      ],
      "metadata": {
        "id": "zvuIeInoUz6I"
      },
      "execution_count": null,
      "outputs": []
    },
    {
      "cell_type": "code",
      "source": [
        "c1 = Car()\n",
        "c1.brake()"
      ],
      "metadata": {
        "colab": {
          "base_uri": "https://localhost:8080/"
        },
        "id": "tUazzYt1Uz7b",
        "outputId": "72fc9e23-6672-4974-8ee3-a8fb5c530c4c"
      },
      "execution_count": null,
      "outputs": [
        {
          "output_type": "stream",
          "name": "stdout",
          "text": [
            "car is stoping\n"
          ]
        }
      ]
    },
    {
      "cell_type": "code",
      "source": [
        "#passing data in the class>> can also be called as property/attribute\n",
        "class Bank:\n",
        "    def deposit(self):\n",
        "        print(\"I am depositing the money\")\n",
        "    def withdraw(self):\n",
        "        print(\"I am trying to withdraw money\")"
      ],
      "metadata": {
        "id": "K32jRW7mUz8w"
      },
      "execution_count": null,
      "outputs": []
    },
    {
      "cell_type": "code",
      "source": [
        "c1 = Bank()\n",
        "c1.deposit()"
      ],
      "metadata": {
        "colab": {
          "base_uri": "https://localhost:8080/"
        },
        "id": "voF0dSxIUz-H",
        "outputId": "c2ce9411-e5cc-47ef-e91e-fb9aa94735e8"
      },
      "execution_count": null,
      "outputs": [
        {
          "output_type": "stream",
          "name": "stdout",
          "text": [
            "I am depositing the money\n"
          ]
        }
      ]
    },
    {
      "cell_type": "code",
      "source": [
        "c1.withdraw()"
      ],
      "metadata": {
        "colab": {
          "base_uri": "https://localhost:8080/"
        },
        "id": "g3xxB1nlUz_d",
        "outputId": "ce556666-dce3-41d5-c5c7-f579fb14f39f"
      },
      "execution_count": null,
      "outputs": [
        {
          "output_type": "stream",
          "name": "stdout",
          "text": [
            "I am trying to withdraw money\n"
          ]
        }
      ]
    },
    {
      "cell_type": "code",
      "source": [
        "c2 = Bank()\n",
        "c2.deposit()"
      ],
      "metadata": {
        "colab": {
          "base_uri": "https://localhost:8080/"
        },
        "id": "Aa1FIVc_SS9h",
        "outputId": "96863350-2ce7-46e4-d672-ed08d5540949"
      },
      "execution_count": null,
      "outputs": [
        {
          "output_type": "stream",
          "name": "stdout",
          "text": [
            "I am depositing the money\n"
          ]
        }
      ]
    },
    {
      "cell_type": "code",
      "source": [
        "ajay = Bank()\n",
        "ajay.deposit() #throw an error"
      ],
      "metadata": {
        "colab": {
          "base_uri": "https://localhost:8080/"
        },
        "id": "62EhOzQJSTAC",
        "outputId": "4d299b67-3287-4359-e9fb-e3e5e67b29a2"
      },
      "execution_count": null,
      "outputs": [
        {
          "output_type": "stream",
          "name": "stdout",
          "text": [
            "I am depositing the money\n"
          ]
        }
      ]
    },
    {
      "cell_type": "code",
      "source": [
        "ajay.deposit(1000)"
      ],
      "metadata": {
        "colab": {
          "base_uri": "https://localhost:8080/",
          "height": 141
        },
        "id": "9FYvCdJoSTCY",
        "outputId": "5c0645d9-937c-4bd5-bb78-516ac59db779"
      },
      "execution_count": null,
      "outputs": [
        {
          "output_type": "error",
          "ename": "TypeError",
          "evalue": "Bank.deposit() takes 1 positional argument but 2 were given",
          "traceback": [
            "\u001b[0;31m---------------------------------------------------------------------------\u001b[0m",
            "\u001b[0;31mTypeError\u001b[0m                                 Traceback (most recent call last)",
            "\u001b[0;32m/tmp/ipython-input-47-2952862798.py\u001b[0m in \u001b[0;36m<cell line: 0>\u001b[0;34m()\u001b[0m\n\u001b[0;32m----> 1\u001b[0;31m \u001b[0majay\u001b[0m\u001b[0;34m.\u001b[0m\u001b[0mdeposit\u001b[0m\u001b[0;34m(\u001b[0m\u001b[0;36m1000\u001b[0m\u001b[0;34m)\u001b[0m\u001b[0;34m\u001b[0m\u001b[0;34m\u001b[0m\u001b[0m\n\u001b[0m",
            "\u001b[0;31mTypeError\u001b[0m: Bank.deposit() takes 1 positional argument but 2 were given"
          ]
        }
      ]
    },
    {
      "cell_type": "code",
      "source": [
        "#bank will ask for a default amount, amount is attribute/property/data of class Bank\n",
        "class Bank:\n",
        "    amount = 1000\n",
        "    def deposit(self, amount):\n",
        "        print(\"I am depositing the money\")\n",
        "    def withdraw(self, amount_withdraw):\n",
        "        print(\"I am trying to withdraw money\")"
      ],
      "metadata": {
        "id": "tYZHtyKDZWqn"
      },
      "execution_count": null,
      "outputs": []
    },
    {
      "cell_type": "code",
      "source": [
        "ajay = Bank()\n",
        "ajay.deposit(1000)"
      ],
      "metadata": {
        "colab": {
          "base_uri": "https://localhost:8080/"
        },
        "id": "MfvSB9t5ZWzZ",
        "outputId": "2070d925-c2a4-4373-d9c8-25d6efe8d43e"
      },
      "execution_count": null,
      "outputs": [
        {
          "output_type": "stream",
          "name": "stdout",
          "text": [
            "I am depositing the money\n"
          ]
        }
      ]
    },
    {
      "cell_type": "code",
      "source": [
        "#attributes/property can be also accessed the same way as methods/functions are accessed\n",
        "ajay.amount"
      ],
      "metadata": {
        "colab": {
          "base_uri": "https://localhost:8080/"
        },
        "id": "vcMsgFQrZW3v",
        "outputId": "55abdbd9-4c08-4d21-aef8-6d8b7ee59b14"
      },
      "execution_count": null,
      "outputs": [
        {
          "output_type": "execute_result",
          "data": {
            "text/plain": [
              "1000"
            ]
          },
          "metadata": {},
          "execution_count": 50
        }
      ]
    },
    {
      "cell_type": "code",
      "source": [
        "# extract odd and even numbers"
      ],
      "metadata": {
        "id": "KnAJ13NHZW7A"
      },
      "execution_count": null,
      "outputs": []
    },
    {
      "cell_type": "code",
      "source": [
        "#extract odd and even nos from a list\n",
        "\n",
        "class ListOps:\n",
        "    l = [1, 2, 3, 4, 5]\n",
        "    def extract_even(self, l):\n",
        "        l1 = []\n",
        "        for i in l:\n",
        "            if i%2 == 0:\n",
        "                l1.append(i)\n",
        "        return l1\n",
        "    def extract_odd(self, l):\n",
        "        l1 = []\n",
        "        for i in l:\n",
        "            if i%2 != 0:\n",
        "                l1.append(i)\n",
        "        return l1"
      ],
      "metadata": {
        "id": "k6ujbdKqZW-R"
      },
      "execution_count": null,
      "outputs": []
    },
    {
      "cell_type": "code",
      "source": [
        "ops1 = ListOps()"
      ],
      "metadata": {
        "id": "tw68k1TyZXBQ"
      },
      "execution_count": null,
      "outputs": []
    },
    {
      "cell_type": "code",
      "source": [
        "ops1.l"
      ],
      "metadata": {
        "colab": {
          "base_uri": "https://localhost:8080/"
        },
        "id": "oNoxmJmtZXER",
        "outputId": "463db5db-3c53-4c56-cb83-8f3f9933b511"
      },
      "execution_count": null,
      "outputs": [
        {
          "output_type": "execute_result",
          "data": {
            "text/plain": [
              "[1, 2, 3, 4, 5]"
            ]
          },
          "metadata": {},
          "execution_count": 54
        }
      ]
    },
    {
      "cell_type": "code",
      "source": [
        "ops1.extract_even(ops1.l)"
      ],
      "metadata": {
        "colab": {
          "base_uri": "https://localhost:8080/"
        },
        "id": "UA2-MrL3ZXHm",
        "outputId": "4e153bc9-c67f-474b-97db-2ea64e5a2dcb"
      },
      "execution_count": null,
      "outputs": [
        {
          "output_type": "execute_result",
          "data": {
            "text/plain": [
              "[2, 4]"
            ]
          },
          "metadata": {},
          "execution_count": 55
        }
      ]
    },
    {
      "cell_type": "code",
      "source": [
        "ops1.extract_odd(ops1.l)"
      ],
      "metadata": {
        "colab": {
          "base_uri": "https://localhost:8080/"
        },
        "id": "_blyfPIcZXKp",
        "outputId": "fb2be0e9-3203-45fc-bebb-52547434785e"
      },
      "execution_count": null,
      "outputs": [
        {
          "output_type": "execute_result",
          "data": {
            "text/plain": [
              "[1, 3, 5]"
            ]
          },
          "metadata": {},
          "execution_count": 56
        }
      ]
    },
    {
      "cell_type": "code",
      "source": [
        "ops1.extract_odd([8, 11, 12, 14])"
      ],
      "metadata": {
        "colab": {
          "base_uri": "https://localhost:8080/"
        },
        "id": "DtDXT-rnZXNi",
        "outputId": "f0ba9472-aa8e-4774-cad6-abbdcf840526"
      },
      "execution_count": null,
      "outputs": [
        {
          "output_type": "execute_result",
          "data": {
            "text/plain": [
              "[11]"
            ]
          },
          "metadata": {},
          "execution_count": 57
        }
      ]
    },
    {
      "cell_type": "code",
      "source": [
        "#if you make any object the attribute l is fixed\n",
        "#inspite of passing a different list above you are still getting the fixed l([1, 2, 3, 4,5])\n",
        "ops1.l"
      ],
      "metadata": {
        "colab": {
          "base_uri": "https://localhost:8080/"
        },
        "id": "9bR2KYdIZXQU",
        "outputId": "7f0675f1-bc02-4a02-d5ec-85bdbf7c6add"
      },
      "execution_count": null,
      "outputs": [
        {
          "output_type": "execute_result",
          "data": {
            "text/plain": [
              "[1, 2, 3, 4, 5]"
            ]
          },
          "metadata": {},
          "execution_count": 58
        }
      ]
    },
    {
      "cell_type": "code",
      "source": [
        "#yyou want to take the attribute value of the class for each object differently"
      ],
      "metadata": {
        "id": "sRzyCv1-ZXS8"
      },
      "execution_count": null,
      "outputs": []
    },
    {
      "cell_type": "code",
      "source": [
        "#extract odd and even nos from a list\n",
        "\n",
        "class ListOps:\n",
        "    def __init__(self, l): #magic method/dunder method. init means initialisation>>of variable\n",
        "        self.l = l\n",
        "\n",
        "    def extract_even(self, l):\n",
        "        l1 = []\n",
        "        for i in l:\n",
        "            if i%2 == 0:\n",
        "                l1.append(i)\n",
        "        return l1\n",
        "\n",
        "    def extract_odd(self, l):\n",
        "        l1 = []\n",
        "        for i in l:\n",
        "            if i%2 != 0:\n",
        "                l1.append(i)\n",
        "        return l1"
      ],
      "metadata": {
        "id": "MaSF92ftZXVx"
      },
      "execution_count": null,
      "outputs": []
    },
    {
      "cell_type": "code",
      "source": [
        "ops1 = ListOps() #throw an error, while making object/instance of the class, the first method that is executed is __init__\n",
        "#and init needs an arguement"
      ],
      "metadata": {
        "colab": {
          "base_uri": "https://localhost:8080/",
          "height": 176
        },
        "id": "KidazzezZXYi",
        "outputId": "67f066cc-b739-48ef-fced-f5b8d151e76d"
      },
      "execution_count": null,
      "outputs": [
        {
          "output_type": "error",
          "ename": "TypeError",
          "evalue": "ListOps.__init__() missing 1 required positional argument: 'l'",
          "traceback": [
            "\u001b[0;31m---------------------------------------------------------------------------\u001b[0m",
            "\u001b[0;31mTypeError\u001b[0m                                 Traceback (most recent call last)",
            "\u001b[0;32m/tmp/ipython-input-60-2635862015.py\u001b[0m in \u001b[0;36m<cell line: 0>\u001b[0;34m()\u001b[0m\n\u001b[0;32m----> 1\u001b[0;31m \u001b[0mops1\u001b[0m \u001b[0;34m=\u001b[0m \u001b[0mListOps\u001b[0m\u001b[0;34m(\u001b[0m\u001b[0;34m)\u001b[0m \u001b[0;31m#throw an error, while making object/instance of the class, the first method that is executed is __init__\u001b[0m\u001b[0;34m\u001b[0m\u001b[0;34m\u001b[0m\u001b[0m\n\u001b[0m\u001b[1;32m      2\u001b[0m \u001b[0;31m#and init needs an arguement\u001b[0m\u001b[0;34m\u001b[0m\u001b[0;34m\u001b[0m\u001b[0m\n",
            "\u001b[0;31mTypeError\u001b[0m: ListOps.__init__() missing 1 required positional argument: 'l'"
          ]
        }
      ]
    },
    {
      "cell_type": "code",
      "source": [
        "ops1 = ListOps([1,10 ,30, 31, 4, 5])\n"
      ],
      "metadata": {
        "id": "PxImK_1MZXbK"
      },
      "execution_count": null,
      "outputs": []
    },
    {
      "cell_type": "code",
      "source": [
        "ops1.l"
      ],
      "metadata": {
        "colab": {
          "base_uri": "https://localhost:8080/"
        },
        "id": "DXFjv2W0azVp",
        "outputId": "c2f4b9fe-7c3e-4cb6-a3a5-29d0c9ff9844"
      },
      "execution_count": null,
      "outputs": [
        {
          "output_type": "execute_result",
          "data": {
            "text/plain": [
              "[1, 10, 30, 31, 4, 5]"
            ]
          },
          "metadata": {},
          "execution_count": 62
        }
      ]
    },
    {
      "cell_type": "code",
      "source": [
        "ops2 = ListOps([1,1, 1 ,30, 31, 4, 5])\n",
        "ops2.l"
      ],
      "metadata": {
        "colab": {
          "base_uri": "https://localhost:8080/"
        },
        "id": "LVV7ijV0azex",
        "outputId": "69a2b2c8-bdc3-47e2-f650-0f4b7b788c3d"
      },
      "execution_count": null,
      "outputs": [
        {
          "output_type": "execute_result",
          "data": {
            "text/plain": [
              "[1, 1, 1, 30, 31, 4, 5]"
            ]
          },
          "metadata": {},
          "execution_count": 63
        }
      ]
    },
    {
      "cell_type": "code",
      "source": [
        "ops1.extract_even() #throw an error. see the explanation below"
      ],
      "metadata": {
        "colab": {
          "base_uri": "https://localhost:8080/",
          "height": 141
        },
        "id": "-NSEdeR_azgs",
        "outputId": "adda4de1-d311-47b4-ccae-40be1782aefd"
      },
      "execution_count": null,
      "outputs": [
        {
          "output_type": "error",
          "ename": "TypeError",
          "evalue": "ListOps.extract_even() missing 1 required positional argument: 'l'",
          "traceback": [
            "\u001b[0;31m---------------------------------------------------------------------------\u001b[0m",
            "\u001b[0;31mTypeError\u001b[0m                                 Traceback (most recent call last)",
            "\u001b[0;32m/tmp/ipython-input-64-4113505455.py\u001b[0m in \u001b[0;36m<cell line: 0>\u001b[0;34m()\u001b[0m\n\u001b[0;32m----> 1\u001b[0;31m \u001b[0mops1\u001b[0m\u001b[0;34m.\u001b[0m\u001b[0mextract_even\u001b[0m\u001b[0;34m(\u001b[0m\u001b[0;34m)\u001b[0m \u001b[0;31m#throw an error. see the explanation below\u001b[0m\u001b[0;34m\u001b[0m\u001b[0;34m\u001b[0m\u001b[0m\n\u001b[0m",
            "\u001b[0;31mTypeError\u001b[0m: ListOps.extract_even() missing 1 required positional argument: 'l'"
          ]
        }
      ]
    },
    {
      "cell_type": "code",
      "source": [
        "#extract odd and even nos from a list\n",
        "\n",
        "class ListOps:\n",
        "    def __init__(self, l): #magic method/dunder method. init means initialisation>>of variable\n",
        "        self.l = l\n",
        "\n",
        "    def extract_even(self): #be careful as init has been used only pass self in the method and not the variable again\n",
        "        l = self.l\n",
        "        l1 = []\n",
        "        for i in l:\n",
        "            if i%2 == 0:\n",
        "                l1.append(i)\n",
        "        return l1\n",
        "\n",
        "    def extract_odd(self):\n",
        "        l = self.l\n",
        "        l1 = []\n",
        "        for i in l:\n",
        "            if i%2 != 0:\n",
        "                l1.append(i)\n",
        "        return l1"
      ],
      "metadata": {
        "id": "QH_D1MdKazik"
      },
      "execution_count": null,
      "outputs": []
    },
    {
      "cell_type": "code",
      "source": [
        "ops1 = ListOps([1, 8, 9, 11, 12])\n",
        "ops1.extract_odd()"
      ],
      "metadata": {
        "colab": {
          "base_uri": "https://localhost:8080/"
        },
        "id": "ZNRixBTnazkQ",
        "outputId": "3b7fede5-6bd4-43ac-dd7e-f591ab746a86"
      },
      "execution_count": null,
      "outputs": [
        {
          "output_type": "execute_result",
          "data": {
            "text/plain": [
              "[1, 9, 11]"
            ]
          },
          "metadata": {},
          "execution_count": 66
        }
      ]
    },
    {
      "cell_type": "code",
      "source": [
        "#multiple attributes\n",
        "#in a library a book is associated with author, title, name\n",
        "#every variable is fixed\n",
        "class Book:\n",
        "    def __init__(self):\n",
        "        self.name_of_book = \"DSA\"\n",
        "        self.book_author = \"Cormen\"\n",
        "        self.title_name = \"Stacks\"\n",
        "\n",
        "    def extract_details_name_title(self):\n",
        "        print(self.name_of_book, self.title_name)\n",
        "\n",
        "    def extract_details_name_author(self):\n",
        "        print(self.name_of_book, self.book_author)"
      ],
      "metadata": {
        "id": "J-Oxn1Hlazl0"
      },
      "execution_count": null,
      "outputs": []
    },
    {
      "cell_type": "code",
      "source": [
        "student1 = Book()\n",
        "student1.extract_details_name_author()"
      ],
      "metadata": {
        "colab": {
          "base_uri": "https://localhost:8080/"
        },
        "id": "8Y7admCWaznR",
        "outputId": "9d70032e-1170-4c38-ab5d-937fa6438842"
      },
      "execution_count": null,
      "outputs": [
        {
          "output_type": "stream",
          "name": "stdout",
          "text": [
            "DSA Cormen\n"
          ]
        }
      ]
    },
    {
      "cell_type": "code",
      "source": [
        "student2 = Book()\n",
        "student1.extract_details_name_author()"
      ],
      "metadata": {
        "colab": {
          "base_uri": "https://localhost:8080/"
        },
        "id": "_LRP-8grazo1",
        "outputId": "eb112688-1ae6-461f-bb33-0e2b6891622c"
      },
      "execution_count": null,
      "outputs": [
        {
          "output_type": "stream",
          "name": "stdout",
          "text": [
            "DSA Cormen\n"
          ]
        }
      ]
    },
    {
      "cell_type": "code",
      "source": [
        "class Book:\n",
        "    def __init__(self, name, author, title):\n",
        "        self.name_of_book = name\n",
        "        self.book_author = author\n",
        "        self.title_name = title\n",
        "\n",
        "    def extract_details_name_title(self):\n",
        "        print(self.name_of_book, self.title_name)\n",
        "\n",
        "    def extract_details_name_author(self):\n",
        "        print(self.name_of_book, self.book_author)"
      ],
      "metadata": {
        "id": "3QWxME1Yazqb"
      },
      "execution_count": null,
      "outputs": []
    },
    {
      "cell_type": "code",
      "source": [
        "student1 = Book(\"ML\", \"Murphy\", \"Linear regression\")"
      ],
      "metadata": {
        "id": "GeGMCsmdazsA"
      },
      "execution_count": null,
      "outputs": []
    },
    {
      "cell_type": "code",
      "source": [
        "student1.extract_details_name_author()"
      ],
      "metadata": {
        "colab": {
          "base_uri": "https://localhost:8080/"
        },
        "id": "h7ir5Z38aztm",
        "outputId": "04ca1ee9-6169-49fb-d71f-76ee888c248e"
      },
      "execution_count": null,
      "outputs": [
        {
          "output_type": "stream",
          "name": "stdout",
          "text": [
            "ML Murphy\n"
          ]
        }
      ]
    },
    {
      "cell_type": "code",
      "source": [
        "student1.extract_details_name_title()"
      ],
      "metadata": {
        "colab": {
          "base_uri": "https://localhost:8080/"
        },
        "id": "6LSTYI4uazvJ",
        "outputId": "bcba952c-ad3b-4cfa-c1dc-c1c209e8a996"
      },
      "execution_count": null,
      "outputs": [
        {
          "output_type": "stream",
          "name": "stdout",
          "text": [
            "ML Linear regression\n"
          ]
        }
      ]
    },
    {
      "cell_type": "markdown",
      "source": [
        "INHERITANCE AND ABSTRACTION"
      ],
      "metadata": {
        "id": "YQ7ioWnh4qe9"
      }
    },
    {
      "cell_type": "code",
      "source": [
        "#inheritance>> refers to process of child class receiving the properties of parent class\n",
        "#syntax\n",
        "# class BaseClass:\n",
        "#     #body of base class\n",
        "# class DerivedClass(BaseClass):\n",
        "#     #body of derived class"
      ],
      "metadata": {
        "id": "pfmaTBmqazwt"
      },
      "execution_count": null,
      "outputs": []
    },
    {
      "cell_type": "code",
      "source": [
        "#single inheritance >> when a derived class has only one parent class"
      ],
      "metadata": {
        "id": "b9SjnqBZazyM"
      },
      "execution_count": null,
      "outputs": []
    },
    {
      "cell_type": "code",
      "source": [
        "#example\n",
        "\n",
        "class Father:\n",
        "  def Father_property(self):\n",
        "    print(\"this is the father property \")\n",
        "\n"
      ],
      "metadata": {
        "id": "aoNGY6PTazzv"
      },
      "execution_count": null,
      "outputs": []
    },
    {
      "cell_type": "code",
      "source": [
        "class Son(Father):\n",
        "  def job(self):\n",
        "    print(\"son has property from job \")"
      ],
      "metadata": {
        "id": "RY44SGw2az1w"
      },
      "execution_count": null,
      "outputs": []
    },
    {
      "cell_type": "code",
      "source": [
        "child_obj = Son()"
      ],
      "metadata": {
        "id": "2ZFzoG5z55SJ"
      },
      "execution_count": null,
      "outputs": []
    },
    {
      "cell_type": "code",
      "source": [
        "#A child can have his property and also his father property\n",
        "child_obj.job()"
      ],
      "metadata": {
        "colab": {
          "base_uri": "https://localhost:8080/"
        },
        "id": "D4T0TiNS55Ut",
        "outputId": "9d3af917-568e-4a2e-d63a-9113a0310dd0"
      },
      "execution_count": null,
      "outputs": [
        {
          "output_type": "stream",
          "name": "stdout",
          "text": [
            "son has property from job \n"
          ]
        }
      ]
    },
    {
      "cell_type": "code",
      "source": [
        "child_obj.father_property()"
      ],
      "metadata": {
        "colab": {
          "base_uri": "https://localhost:8080/",
          "height": 141
        },
        "id": "Z-BKUyxu55YG",
        "outputId": "a656f365-f22e-4e13-9227-a57842072c44"
      },
      "execution_count": null,
      "outputs": [
        {
          "output_type": "error",
          "ename": "NameError",
          "evalue": "name 'child_obj' is not defined",
          "traceback": [
            "\u001b[0;31m---------------------------------------------------------------------------\u001b[0m",
            "\u001b[0;31mNameError\u001b[0m                                 Traceback (most recent call last)",
            "\u001b[0;32m/tmp/ipython-input-1-3764880103.py\u001b[0m in \u001b[0;36m<cell line: 0>\u001b[0;34m()\u001b[0m\n\u001b[0;32m----> 1\u001b[0;31m \u001b[0mchild_obj\u001b[0m\u001b[0;34m.\u001b[0m\u001b[0mfather_property\u001b[0m\u001b[0;34m(\u001b[0m\u001b[0;34m)\u001b[0m\u001b[0;34m\u001b[0m\u001b[0;34m\u001b[0m\u001b[0m\n\u001b[0m",
            "\u001b[0;31mNameError\u001b[0m: name 'child_obj' is not defined"
          ]
        }
      ]
    },
    {
      "cell_type": "code",
      "source": [
        "#A father will have only his property\n",
        "father_obj = Father()\n",
        "father_obj.father_property()"
      ],
      "metadata": {
        "colab": {
          "base_uri": "https://localhost:8080/",
          "height": 176
        },
        "id": "uB1Kg7c455at",
        "outputId": "9efaf182-d9fb-4341-e2b8-dbe7eefae24d"
      },
      "execution_count": null,
      "outputs": [
        {
          "output_type": "error",
          "ename": "AttributeError",
          "evalue": "'Father' object has no attribute 'father_property'",
          "traceback": [
            "\u001b[0;31m---------------------------------------------------------------------------\u001b[0m",
            "\u001b[0;31mAttributeError\u001b[0m                            Traceback (most recent call last)",
            "\u001b[0;32m/tmp/ipython-input-14-1688657429.py\u001b[0m in \u001b[0;36m<cell line: 0>\u001b[0;34m()\u001b[0m\n\u001b[1;32m      1\u001b[0m \u001b[0;31m#A father will have only his property\u001b[0m\u001b[0;34m\u001b[0m\u001b[0;34m\u001b[0m\u001b[0m\n\u001b[1;32m      2\u001b[0m \u001b[0mfather_obj\u001b[0m \u001b[0;34m=\u001b[0m \u001b[0mFather\u001b[0m\u001b[0;34m(\u001b[0m\u001b[0;34m)\u001b[0m\u001b[0;34m\u001b[0m\u001b[0;34m\u001b[0m\u001b[0m\n\u001b[0;32m----> 3\u001b[0;31m \u001b[0mfather_obj\u001b[0m\u001b[0;34m.\u001b[0m\u001b[0mfather_property\u001b[0m\u001b[0;34m(\u001b[0m\u001b[0;34m)\u001b[0m\u001b[0;34m\u001b[0m\u001b[0;34m\u001b[0m\u001b[0m\n\u001b[0m",
            "\u001b[0;31mAttributeError\u001b[0m: 'Father' object has no attribute 'father_property'"
          ]
        }
      ]
    },
    {
      "cell_type": "code",
      "source": [
        "#parent class will not have access to the property(method/attribute) of child class but child class will have access to both"
      ],
      "metadata": {
        "id": "qmXHFvoT55dL"
      },
      "execution_count": null,
      "outputs": []
    },
    {
      "cell_type": "code",
      "source": [
        "#use case\n",
        "class Fruit:\n",
        "    def fruit_info(self):\n",
        "        print(\"Inside Parent class\")\n",
        "class Apple(Fruit):\n",
        "    def apple_info(self):\n",
        "        print(\"Inside the child class\")"
      ],
      "metadata": {
        "id": "PbyFDnDY55f_"
      },
      "execution_count": null,
      "outputs": []
    },
    {
      "cell_type": "code",
      "source": [
        "obj = Apple()\n",
        "obj.apple_info()"
      ],
      "metadata": {
        "colab": {
          "base_uri": "https://localhost:8080/"
        },
        "id": "7Jc75Hjj55iY",
        "outputId": "a30414fe-4f14-4961-c545-3827dd9c1914"
      },
      "execution_count": null,
      "outputs": [
        {
          "output_type": "stream",
          "name": "stdout",
          "text": [
            "Inside the child class\n"
          ]
        }
      ]
    },
    {
      "cell_type": "code",
      "source": [
        "obj .fruit_info()"
      ],
      "metadata": {
        "id": "Q_XETLPw55lB",
        "colab": {
          "base_uri": "https://localhost:8080/"
        },
        "outputId": "9cca0945-11f6-40bb-e319-b9e0dcee43c0"
      },
      "execution_count": null,
      "outputs": [
        {
          "output_type": "stream",
          "name": "stdout",
          "text": [
            "Inside Parent class\n"
          ]
        }
      ]
    },
    {
      "cell_type": "code",
      "source": [
        "#method overriding >> re-writing/re-defining methods of parent class in derived/child class\n",
        "class Fruit:\n",
        "    def fruit_info(self):\n",
        "        print(\"Inside Parent class\")\n",
        "class Apple(Fruit):\n",
        "    def fruit_info(self):\n",
        "        print(\"Inside the child class (fruit info)\")\n",
        "    def apple_info(self):\n",
        "        print(\"Inside the child class\")\n",
        "\n",
        "#method overriding>> child class is very powerfull\n",
        "#method overriding happend between two class"
      ],
      "metadata": {
        "id": "a8qokUoB55np"
      },
      "execution_count": null,
      "outputs": []
    },
    {
      "cell_type": "code",
      "source": [
        "obj = Apple()\n",
        "obj.fruit_info()"
      ],
      "metadata": {
        "id": "gLIljrme55qH",
        "colab": {
          "base_uri": "https://localhost:8080/"
        },
        "outputId": "55cad093-c947-4538-a91f-2d87fcc8a9d4"
      },
      "execution_count": null,
      "outputs": [
        {
          "output_type": "stream",
          "name": "stdout",
          "text": [
            "Inside the child class (fruit info)\n"
          ]
        }
      ]
    },
    {
      "cell_type": "code",
      "source": [
        "# multi level inheritance\n",
        "\n",
        "class Grandfather:\n",
        "  def prop_grand_father(self):\n",
        "    print(\"i am your grandfather this is my property \")\n",
        "class Father :\n",
        "   def prop_father(self):\n",
        "        print(\"I am your father, I am having my and your grandfather's property\")\n",
        "class Son(Father):\n",
        "    def prop_son(self):\n",
        "        print(\"I am the King. I am having all the properties\")\n"
      ],
      "metadata": {
        "id": "pQcB799kaVWG"
      },
      "execution_count": null,
      "outputs": []
    },
    {
      "cell_type": "code",
      "source": [
        "son = Son()\n",
        "son.prop_father()"
      ],
      "metadata": {
        "colab": {
          "base_uri": "https://localhost:8080/"
        },
        "id": "Ht7Z7H3saVZr",
        "outputId": "ef1f1be0-a754-4e6f-eae6-00ce250233dd"
      },
      "execution_count": null,
      "outputs": [
        {
          "output_type": "stream",
          "name": "stdout",
          "text": [
            "I am your father, I am having my and your grandfather's property\n"
          ]
        }
      ]
    },
    {
      "cell_type": "code",
      "source": [
        "son.prop_son()"
      ],
      "metadata": {
        "colab": {
          "base_uri": "https://localhost:8080/"
        },
        "id": "X2p3FDb3aVfX",
        "outputId": "5eb6ebc1-a768-4822-9588-85e26c7d165e"
      },
      "execution_count": null,
      "outputs": [
        {
          "output_type": "stream",
          "name": "stdout",
          "text": [
            "I am the King. I am having all the properties\n"
          ]
        }
      ]
    },
    {
      "cell_type": "code",
      "source": [
        "fath = Father()\n",
        "fath.prop_father()"
      ],
      "metadata": {
        "colab": {
          "base_uri": "https://localhost:8080/"
        },
        "id": "B-vQg1QSaVh-",
        "outputId": "b5d8f7e5-5f4f-437a-8519-19f051312a05"
      },
      "execution_count": null,
      "outputs": [
        {
          "output_type": "stream",
          "name": "stdout",
          "text": [
            "I am your father, I am having my and your grandfather's property\n"
          ]
        }
      ]
    },
    {
      "cell_type": "code",
      "source": [
        "#use case\n",
        "class Vehicle:\n",
        "    def vehicle_info(self):\n",
        "        print(\"Inside vehicle class\")\n",
        "class Car(Vehicle):\n",
        "    def car_info(self):\n",
        "        print(\"Inside the car class\")\n",
        "class SportsCar(Car):\n",
        "    def sports_car_info(self):\n",
        "        print(\"Inside sports car\")"
      ],
      "metadata": {
        "id": "fB97uVQ2aVq5"
      },
      "execution_count": null,
      "outputs": []
    },
    {
      "cell_type": "code",
      "source": [
        "s1 = SportsCar()\n",
        "s1.sports_car_info()"
      ],
      "metadata": {
        "colab": {
          "base_uri": "https://localhost:8080/"
        },
        "id": "dDxXoVwLaVt-",
        "outputId": "949fb8eb-a20b-4567-8518-5da51c92622c"
      },
      "execution_count": null,
      "outputs": [
        {
          "output_type": "stream",
          "name": "stdout",
          "text": [
            "Inside sports car\n"
          ]
        }
      ]
    },
    {
      "cell_type": "code",
      "source": [
        "s1.car_info()"
      ],
      "metadata": {
        "colab": {
          "base_uri": "https://localhost:8080/"
        },
        "id": "vle_m2rnaVwk",
        "outputId": "0c08c168-9f74-4d0f-b801-5ed1a6656c24"
      },
      "execution_count": null,
      "outputs": [
        {
          "output_type": "stream",
          "name": "stdout",
          "text": [
            "Inside the car class\n"
          ]
        }
      ]
    },
    {
      "cell_type": "code",
      "source": [
        "#another example of method overriding\n",
        "class Vehicle:\n",
        "    def vehicle_info(self):\n",
        "        print(\"Inside vehicle class\")\n",
        "class Car(Vehicle):\n",
        "    def car_info(self):\n",
        "        print(\"Inside the car class\")\n",
        "class SportsCar(Car):\n",
        "    def vehicle_info(self):\n",
        "        print(\"Inside sports car\")\n"
      ],
      "metadata": {
        "id": "iEG8Tk5acrXD"
      },
      "execution_count": null,
      "outputs": []
    },
    {
      "cell_type": "code",
      "source": [
        "s1 = SportsCar()\n",
        "s1.vehicle_info() #method overriding>>child class is most powerful"
      ],
      "metadata": {
        "colab": {
          "base_uri": "https://localhost:8080/"
        },
        "id": "ODlK_pl_cuda",
        "outputId": "3cfacbc2-f0fa-46ee-b5b7-1a6ddd3e97e9"
      },
      "execution_count": null,
      "outputs": [
        {
          "output_type": "stream",
          "name": "stdout",
          "text": [
            "Inside sports car\n"
          ]
        }
      ]
    },
    {
      "cell_type": "code",
      "source": [
        "#multiple inheritance >> one child class may inherit the propety of mutiple parent class"
      ],
      "metadata": {
        "id": "L4KJTQ4wc2Yw"
      },
      "execution_count": null,
      "outputs": []
    },
    {
      "cell_type": "code",
      "source": [
        "class ParentClass1:\n",
        "    def method1(self):\n",
        "        print(\"method 1 of parent class 1\")\n",
        "class ParentClass2:\n",
        "    def method2(self):\n",
        "        print(\"method2 of parent class 2\")"
      ],
      "metadata": {
        "id": "VER-ShRqc6uP"
      },
      "execution_count": null,
      "outputs": []
    },
    {
      "cell_type": "code",
      "source": [
        "class ChildClass(ParentClass1, ParentClass2):\n",
        "    def method(self):\n",
        "        print(\"method of child class\")"
      ],
      "metadata": {
        "id": "iO6JnQv3dYep"
      },
      "execution_count": null,
      "outputs": []
    },
    {
      "cell_type": "code",
      "source": [
        "c1 = ChildClass()\n",
        "c1.method()"
      ],
      "metadata": {
        "colab": {
          "base_uri": "https://localhost:8080/"
        },
        "id": "fC5tHQgGdcwE",
        "outputId": "822fe11e-9225-4b83-d8e1-fa62d9d19f07"
      },
      "execution_count": null,
      "outputs": [
        {
          "output_type": "stream",
          "name": "stdout",
          "text": [
            "method of child class\n"
          ]
        }
      ]
    },
    {
      "cell_type": "code",
      "source": [
        "c1.method1()"
      ],
      "metadata": {
        "colab": {
          "base_uri": "https://localhost:8080/"
        },
        "id": "CDgh4AAedc4y",
        "outputId": "8503b685-4ee9-4539-9db8-7733ee6a4cbb"
      },
      "execution_count": null,
      "outputs": [
        {
          "output_type": "stream",
          "name": "stdout",
          "text": [
            "method 1 of parent class 1\n"
          ]
        }
      ]
    },
    {
      "cell_type": "code",
      "source": [
        "c1.method2()"
      ],
      "metadata": {
        "colab": {
          "base_uri": "https://localhost:8080/"
        },
        "id": "VPV5lzBwdc5x",
        "outputId": "03bf52ec-ef10-40ed-ac61-fedddcde5e72"
      },
      "execution_count": null,
      "outputs": [
        {
          "output_type": "stream",
          "name": "stdout",
          "text": [
            "method2 of parent class 2\n"
          ]
        }
      ]
    },
    {
      "cell_type": "code",
      "source": [
        "#diamond problem>> it occurs when a class inherits from 2 or more than 2 class>> will lead to ambiguity in execution of methods\n",
        "#To remove diamond problem>> python uses method resolution order(MRO) algorithm called c3 linearization\n",
        "#meaning that the class that is inherited first in the derived class, that method will be called>>in this case method 1\n",
        "\n",
        "class ParentClass1:\n",
        "    def method_par(self):\n",
        "        print(\"method 1 of parent class 1\")\n",
        "class ParentClass2:\n",
        "    def method_par(self):\n",
        "        print(\"method2 of parent class 2\")\n",
        "class ChildClass(ParentClass1, ParentClass2):\n",
        "    def method(self):\n",
        "        print(\"method of child class\")"
      ],
      "metadata": {
        "id": "ti5Ojvqodc6q"
      },
      "execution_count": null,
      "outputs": []
    },
    {
      "cell_type": "code",
      "source": [
        "c2 = ChildClass()\n",
        "c2 . method_par()"
      ],
      "metadata": {
        "colab": {
          "base_uri": "https://localhost:8080/"
        },
        "id": "FQTYUKjRdc7h",
        "outputId": "f93727ed-6219-4e60-e34d-08d7dcab1b3a"
      },
      "execution_count": null,
      "outputs": [
        {
          "output_type": "stream",
          "name": "stdout",
          "text": [
            "method 1 of parent class 1\n"
          ]
        }
      ]
    },
    {
      "cell_type": "code",
      "source": [
        "c2 = ParentClass1()\n",
        "c2.method_par()"
      ],
      "metadata": {
        "colab": {
          "base_uri": "https://localhost:8080/"
        },
        "id": "VwXpJGP0dc8q",
        "outputId": "8ce0b35c-8ed0-4b02-972f-a4f989b34223"
      },
      "execution_count": null,
      "outputs": [
        {
          "output_type": "stream",
          "name": "stdout",
          "text": [
            "method 1 of parent class 1\n"
          ]
        }
      ]
    },
    {
      "cell_type": "code",
      "source": [
        "#diamond problem\n",
        "class A:\n",
        "    def method(self):\n",
        "        print(\"Method of class A\")\n",
        "class B(A):\n",
        "    def method(self):\n",
        "        print(\"Method of class B\")\n",
        "class C(A):\n",
        "    def method(self):\n",
        "        print(\"Method of class C\")\n",
        "class D(B, C):\n",
        "    pass"
      ],
      "metadata": {
        "id": "PlqerfoVdc9h"
      },
      "execution_count": null,
      "outputs": []
    },
    {
      "cell_type": "code",
      "source": [
        "d = D()\n",
        "d.method()"
      ],
      "metadata": {
        "colab": {
          "base_uri": "https://localhost:8080/"
        },
        "id": "KcUnCIWfdc-l",
        "outputId": "c9703d4f-1581-43c0-8fff-e0bae645a66a"
      },
      "execution_count": null,
      "outputs": [
        {
          "output_type": "stream",
          "name": "stdout",
          "text": [
            "Method of class B\n"
          ]
        }
      ]
    },
    {
      "cell_type": "code",
      "source": [
        "#hierarchical inheritance >>one parent class>>multiple(more than two childclass)"
      ],
      "metadata": {
        "id": "Cpmk72J4dc_l"
      },
      "execution_count": null,
      "outputs": []
    },
    {
      "cell_type": "code",
      "source": [
        "class Vehicle:\n",
        "    def info(self):\n",
        "        print(\"This is vehicle\")\n",
        "class Car(Vehicle):\n",
        "    def car_info(self, name):\n",
        "        print(\"This is car info\", name)\n",
        "class Truck(Vehicle):\n",
        "    def truck_info(self, name):\n",
        "        print(\"Truck info\", name)"
      ],
      "metadata": {
        "id": "Vticz5q6ddAl"
      },
      "execution_count": null,
      "outputs": []
    },
    {
      "cell_type": "code",
      "source": [
        "c1 = Car()\n",
        "c1.info()"
      ],
      "metadata": {
        "colab": {
          "base_uri": "https://localhost:8080/"
        },
        "id": "wk9WMCHhddBf",
        "outputId": "20f08ae3-a197-460e-eb34-1aa9dc981beb"
      },
      "execution_count": null,
      "outputs": [
        {
          "output_type": "stream",
          "name": "stdout",
          "text": [
            "This is vehicle\n"
          ]
        }
      ]
    },
    {
      "cell_type": "code",
      "source": [
        "c1.car_info(\"BMW\")"
      ],
      "metadata": {
        "colab": {
          "base_uri": "https://localhost:8080/"
        },
        "id": "K9Q36jypddCe",
        "outputId": "52e746c5-b772-4437-80be-6aa3122ce6f3"
      },
      "execution_count": null,
      "outputs": [
        {
          "output_type": "stream",
          "name": "stdout",
          "text": [
            "This is car info BMW\n"
          ]
        }
      ]
    },
    {
      "cell_type": "code",
      "source": [
        "obj2 = Truck()\n",
        "obj2.info()"
      ],
      "metadata": {
        "colab": {
          "base_uri": "https://localhost:8080/"
        },
        "id": "yH2AvwqnddDb",
        "outputId": "b90206be-7e9e-4baa-9c19-93e777321c4c"
      },
      "execution_count": null,
      "outputs": [
        {
          "output_type": "stream",
          "name": "stdout",
          "text": [
            "This is vehicle\n"
          ]
        }
      ]
    },
    {
      "cell_type": "code",
      "source": [
        "class Vehicle:\n",
        "    def vehicle_info(self):\n",
        "        print(\"Inside the vehicle class\")\n",
        "\n",
        "class Car(Vehicle):\n",
        "    def car_info(self):\n",
        "        print(\"Inside the car class\")\n",
        "\n",
        "class Truck(Vehicle):\n",
        "    def truck_info(self, name):\n",
        "        print(\"Inside truck info\", name)\n",
        "\n",
        "class SportsCar(Car, Vehicle):\n",
        "    def sports_info(self):\n",
        "        print(\"Inside sports car class\")\n"
      ],
      "metadata": {
        "id": "HVBxFMTxfBsx"
      },
      "execution_count": null,
      "outputs": []
    },
    {
      "cell_type": "code",
      "source": [
        "obj1 = SportsCar()\n",
        "obj1.car_info()"
      ],
      "metadata": {
        "colab": {
          "base_uri": "https://localhost:8080/"
        },
        "id": "QvRjLaInfBw9",
        "outputId": "a9f334fa-b40b-4f98-fe33-b5bb498d9eec"
      },
      "execution_count": null,
      "outputs": [
        {
          "output_type": "stream",
          "name": "stdout",
          "text": [
            "Inside the car class\n"
          ]
        }
      ]
    },
    {
      "cell_type": "code",
      "source": [
        "#example>> if you use an pwskills to attend class. do you see the backedn code or just an interface to attend the class\n",
        "#you just interface\n",
        "#abstraction can be achieved using abstract class>> import abc\n"
      ],
      "metadata": {
        "id": "28n4_fvzfB1M"
      },
      "execution_count": null,
      "outputs": []
    },
    {
      "cell_type": "code",
      "source": [
        "import abc #collection of multiple functions is a module"
      ],
      "metadata": {
        "id": "xGwnLWp-fB4T"
      },
      "execution_count": null,
      "outputs": []
    },
    {
      "cell_type": "code",
      "source": [
        "#use case\n",
        "#in any class at pwskills>>data science/ frontend/backend, the following three methods will be common\n",
        "class PwSkills:\n",
        "\n",
        "    @abc.abstractmethod\n",
        "    def student_details(self):\n",
        "        pass\n",
        "\n",
        "    @abc.abstractmethod\n",
        "    def student_assignment(self):\n",
        "        pass\n",
        "\n",
        "    @abc.abstractmethod\n",
        "    def student_marks(self):\n",
        "        pass"
      ],
      "metadata": {
        "id": "qLXj9wsxfB-T"
      },
      "execution_count": null,
      "outputs": []
    },
    {
      "cell_type": "code",
      "source": [],
      "metadata": {
        "id": "YZpSIJg-fCEy"
      },
      "execution_count": null,
      "outputs": []
    },
    {
      "cell_type": "code",
      "source": [],
      "metadata": {
        "id": "RWRbNaTpfCIc"
      },
      "execution_count": null,
      "outputs": []
    },
    {
      "cell_type": "code",
      "source": [],
      "metadata": {
        "id": "diYLQYzHfCKJ"
      },
      "execution_count": null,
      "outputs": []
    },
    {
      "cell_type": "code",
      "source": [],
      "metadata": {
        "id": "InynwrkWfCMm"
      },
      "execution_count": null,
      "outputs": []
    },
    {
      "cell_type": "code",
      "source": [],
      "metadata": {
        "id": "vtSvOgJrfCPI"
      },
      "execution_count": null,
      "outputs": []
    },
    {
      "cell_type": "code",
      "source": [],
      "metadata": {
        "id": "t6PnJ5etfCR0"
      },
      "execution_count": null,
      "outputs": []
    }
  ]
}
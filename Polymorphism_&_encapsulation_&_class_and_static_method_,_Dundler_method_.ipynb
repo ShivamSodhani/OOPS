{
  "nbformat": 4,
  "nbformat_minor": 0,
  "metadata": {
    "colab": {
      "provenance": []
    },
    "kernelspec": {
      "name": "python3",
      "display_name": "Python 3"
    },
    "language_info": {
      "name": "python"
    }
  },
  "cells": [
    {
      "cell_type": "code",
      "execution_count": null,
      "metadata": {
        "id": "duGfHcKV42yc"
      },
      "outputs": [],
      "source": [
        "# poly morphism >> poly means many and morphi means form/states\n",
        "#refers to an object taking several forms depending on the methods/data"
      ]
    },
    {
      "cell_type": "code",
      "source": [
        "len(\"ajay\")"
      ],
      "metadata": {
        "colab": {
          "base_uri": "https://localhost:8080/"
        },
        "id": "aKhTnJxj5GpX",
        "outputId": "a512f896-acab-4149-d736-006324c7ce1d"
      },
      "execution_count": null,
      "outputs": [
        {
          "output_type": "execute_result",
          "data": {
            "text/plain": [
              "4"
            ]
          },
          "metadata": {},
          "execution_count": 2
        }
      ]
    },
    {
      "cell_type": "code",
      "source": [
        "len([1,2,3,4,5])"
      ],
      "metadata": {
        "colab": {
          "base_uri": "https://localhost:8080/"
        },
        "id": "653fFoIm5GsZ",
        "outputId": "0c8eeefd-f74f-4dfd-b940-215c2bfda4b7"
      },
      "execution_count": null,
      "outputs": [
        {
          "output_type": "execute_result",
          "data": {
            "text/plain": [
              "5"
            ]
          },
          "metadata": {},
          "execution_count": 3
        }
      ]
    },
    {
      "cell_type": "code",
      "source": [
        "len((1 ,2 ,3 ,4,5))"
      ],
      "metadata": {
        "colab": {
          "base_uri": "https://localhost:8080/"
        },
        "id": "YPxVVdCY5Gu6",
        "outputId": "0f49e760-7d42-41a4-e999-859d058829bc"
      },
      "execution_count": null,
      "outputs": [
        {
          "output_type": "execute_result",
          "data": {
            "text/plain": [
              "5"
            ]
          },
          "metadata": {},
          "execution_count": 4
        }
      ]
    },
    {
      "cell_type": "code",
      "source": [
        "def func(a,b):\n",
        "  return a+b"
      ],
      "metadata": {
        "id": "T88Q3u3K5Gxv"
      },
      "execution_count": null,
      "outputs": []
    },
    {
      "cell_type": "code",
      "source": [
        "func(2,3)"
      ],
      "metadata": {
        "colab": {
          "base_uri": "https://localhost:8080/"
        },
        "id": "akr8KRde5G0F",
        "outputId": "e247d9d8-41c2-4e91-a5ed-fece86754f5a"
      },
      "execution_count": null,
      "outputs": [
        {
          "output_type": "execute_result",
          "data": {
            "text/plain": [
              "5"
            ]
          },
          "metadata": {},
          "execution_count": 6
        }
      ]
    },
    {
      "cell_type": "code",
      "source": [
        "func(\"pw \",\"skills\")  #same + adding two numbers"
      ],
      "metadata": {
        "colab": {
          "base_uri": "https://localhost:8080/",
          "height": 36
        },
        "id": "-s3gtMmc5G24",
        "outputId": "4d449eff-9925-407a-ae98-e501dc3a5b13"
      },
      "execution_count": null,
      "outputs": [
        {
          "output_type": "execute_result",
          "data": {
            "text/plain": [
              "'pw skills'"
            ],
            "application/vnd.google.colaboratory.intrinsic+json": {
              "type": "string"
            }
          },
          "metadata": {},
          "execution_count": 10
        }
      ]
    },
    {
      "cell_type": "code",
      "source": [
        "func ([ 1,2,3], [4,5,6]) #the list concatenation"
      ],
      "metadata": {
        "colab": {
          "base_uri": "https://localhost:8080/"
        },
        "id": "AYpOj3uk5G5z",
        "outputId": "8584da1b-c0c8-4ab0-a091-b721d5700209"
      },
      "execution_count": null,
      "outputs": [
        {
          "output_type": "execute_result",
          "data": {
            "text/plain": [
              "[1, 2, 3, 4, 5, 6]"
            ]
          },
          "metadata": {},
          "execution_count": 11
        }
      ]
    },
    {
      "cell_type": "code",
      "source": [
        "#observation>> func is taking different forms with respect to different data passed"
      ],
      "metadata": {
        "id": "XO_FV13f5G8Q"
      },
      "execution_count": null,
      "outputs": []
    },
    {
      "cell_type": "code",
      "source": [
        "class teacher_lecture:\n",
        "  def lec_info(self):\n",
        "    print(\"This is lec info with teacher perspective\")\n",
        "class student_lecture:\n",
        "    def lec_info(self):\n",
        "        print(\"This is lec info with student perspective\")\n"
      ],
      "metadata": {
        "id": "8bNNcU0i5HCC"
      },
      "execution_count": null,
      "outputs": []
    },
    {
      "cell_type": "code",
      "source": [
        "obj1 = teacher_lecture()\n",
        "obj2 = student_lecture()\n",
        "class_obj = [ obj1 , obj2]"
      ],
      "metadata": {
        "id": "iuNNGOvR6HTQ"
      },
      "execution_count": null,
      "outputs": []
    },
    {
      "cell_type": "code",
      "source": [
        "def parcer(class_obj):\n",
        "  for i in class_obj:\n",
        "    i.lec_info()"
      ],
      "metadata": {
        "id": "hiVtHyNX6Hnw"
      },
      "execution_count": null,
      "outputs": []
    },
    {
      "cell_type": "code",
      "source": [
        "parcer(class_obj)"
      ],
      "metadata": {
        "colab": {
          "base_uri": "https://localhost:8080/"
        },
        "id": "0sAVSncn6Hqz",
        "outputId": "23e1bcd5-8a45-4f8d-e6ea-170f91929ed5"
      },
      "execution_count": null,
      "outputs": [
        {
          "output_type": "stream",
          "name": "stdout",
          "text": [
            "This is lec info with teacher perspective\n",
            "This is lec info with student perspective\n"
          ]
        }
      ]
    },
    {
      "cell_type": "code",
      "source": [
        "# polymorphis, in oops takes place in two ways :\n",
        "# method overloading >> python does not support true method overloading\n",
        "# method overriding\n"
      ],
      "metadata": {
        "id": "hbML4Kak6Htw"
      },
      "execution_count": null,
      "outputs": []
    },
    {
      "cell_type": "code",
      "source": [
        "class Student:\n",
        "    def student(self):\n",
        "        print(\"Wecome to pwskills class\")\n",
        "    def student(self, name = \"\"):\n",
        "        print(\"Wecome to pwskills class\", name)\n",
        "    def student(self, name = \"\", course = \"\"):\n",
        "        print(\"Wecome to pwskills class\", name, course)"
      ],
      "metadata": {
        "id": "WVQ5ZuT96Hwb"
      },
      "execution_count": null,
      "outputs": []
    },
    {
      "cell_type": "code",
      "source": [
        "stud = Student()"
      ],
      "metadata": {
        "id": "9U12epdn6Hy6"
      },
      "execution_count": null,
      "outputs": []
    },
    {
      "cell_type": "code",
      "source": [
        "stud.student()"
      ],
      "metadata": {
        "id": "vTIP2EiU6H1W",
        "colab": {
          "base_uri": "https://localhost:8080/"
        },
        "outputId": "8a1d3896-edf4-498e-f514-dc3293732042"
      },
      "execution_count": null,
      "outputs": [
        {
          "output_type": "stream",
          "name": "stdout",
          "text": [
            "Wecome to pwskills class  \n"
          ]
        }
      ]
    },
    {
      "cell_type": "code",
      "source": [
        "stud.student(\"shivam\")"
      ],
      "metadata": {
        "id": "wbkLkMHG6H4E",
        "colab": {
          "base_uri": "https://localhost:8080/"
        },
        "outputId": "cee0aa1e-52cf-431e-8ecf-6be2eb105162"
      },
      "execution_count": null,
      "outputs": [
        {
          "output_type": "stream",
          "name": "stdout",
          "text": [
            "Wecome to pwskills class shivam \n"
          ]
        }
      ]
    },
    {
      "cell_type": "code",
      "source": [
        "stud.student(\"shivam\", \"data science\")"
      ],
      "metadata": {
        "id": "BFnpt2f66H6l",
        "colab": {
          "base_uri": "https://localhost:8080/"
        },
        "outputId": "88de5e4f-10bf-4cb0-a577-145f39438328"
      },
      "execution_count": null,
      "outputs": [
        {
          "output_type": "stream",
          "name": "stdout",
          "text": [
            "Wecome to pwskills class shivam data science\n"
          ]
        }
      ]
    },
    {
      "cell_type": "code",
      "source": [
        "#method overloading >> student method is taking different forms, the last methods overloads the previous ones in the same class\n",
        "class Student:\n",
        "    def student(self, name = \"\", course = \"\"):\n",
        "        print(\"Wecome to pwskills class\", name, course)"
      ],
      "metadata": {
        "id": "TmHnQqJ6-biz"
      },
      "execution_count": null,
      "outputs": []
    },
    {
      "cell_type": "code",
      "source": [
        "stud = Student()"
      ],
      "metadata": {
        "id": "FuG02sx_-bl-"
      },
      "execution_count": null,
      "outputs": []
    },
    {
      "cell_type": "code",
      "source": [
        "stud.student(\"ajay\")"
      ],
      "metadata": {
        "colab": {
          "base_uri": "https://localhost:8080/"
        },
        "id": "LkByAdlk-bon",
        "outputId": "b644c86e-ad16-48d2-d4e9-3233f679c52a"
      },
      "execution_count": null,
      "outputs": [
        {
          "output_type": "stream",
          "name": "stdout",
          "text": [
            "Wecome to pwskills class ajay \n"
          ]
        }
      ]
    },
    {
      "cell_type": "code",
      "source": [
        "#method overloading happens in the same class"
      ],
      "metadata": {
        "id": "c-GAiScR-bra"
      },
      "execution_count": null,
      "outputs": []
    },
    {
      "cell_type": "code",
      "source": [
        "#method overriding >> method in parent class and child class with same signature, the child class method will be executed"
      ],
      "metadata": {
        "id": "aLAjAZCC-buX"
      },
      "execution_count": null,
      "outputs": []
    },
    {
      "cell_type": "code",
      "source": [
        "class Animal:\n",
        "  def sound(self):\n",
        "    print(\"This is animal sound\")\n",
        "class dog(Animal):\n",
        "  def sound(self):\n",
        "    print(\"dog bark \")"
      ],
      "metadata": {
        "id": "0Azg32j2-bxS"
      },
      "execution_count": null,
      "outputs": []
    },
    {
      "cell_type": "code",
      "source": [
        "anm = Animal()"
      ],
      "metadata": {
        "id": "erDHRznv-bz5"
      },
      "execution_count": null,
      "outputs": []
    },
    {
      "cell_type": "code",
      "source": [
        "anm.sound()"
      ],
      "metadata": {
        "colab": {
          "base_uri": "https://localhost:8080/"
        },
        "id": "_4GVRBGu-b2t",
        "outputId": "ba3bfd4f-b8af-404d-fdf3-03e35fb36324"
      },
      "execution_count": null,
      "outputs": [
        {
          "output_type": "stream",
          "name": "stdout",
          "text": [
            "This is animal sound\n"
          ]
        }
      ]
    },
    {
      "cell_type": "code",
      "source": [
        "#Encapsulation>> means hiding something\n",
        "#bundling of data and methods of a class\n",
        "#access modifier>>public, protected, private"
      ],
      "metadata": {
        "id": "A3DbzBfF-b7f"
      },
      "execution_count": null,
      "outputs": []
    },
    {
      "cell_type": "code",
      "source": [
        "class Student:\n",
        "    def __init__(self, name, degree):\n",
        "        self.name = name\n",
        "        self.degree = degree"
      ],
      "metadata": {
        "id": "qTh6QHaW-b97"
      },
      "execution_count": null,
      "outputs": []
    },
    {
      "cell_type": "code",
      "source": [
        "stud1 = Student(\"Ram\", \"Masters\")"
      ],
      "metadata": {
        "id": "rfL5Grfw__mF"
      },
      "execution_count": null,
      "outputs": []
    },
    {
      "cell_type": "code",
      "source": [
        "stud1.name"
      ],
      "metadata": {
        "colab": {
          "base_uri": "https://localhost:8080/",
          "height": 36
        },
        "id": "wssqaTyF__-q",
        "outputId": "f1137f6b-d42d-423b-df75-69deb1f5148f"
      },
      "execution_count": null,
      "outputs": [
        {
          "output_type": "execute_result",
          "data": {
            "text/plain": [
              "'Ram'"
            ],
            "application/vnd.google.colaboratory.intrinsic+json": {
              "type": "string"
            }
          },
          "metadata": {},
          "execution_count": 49
        }
      ]
    },
    {
      "cell_type": "code",
      "source": [
        "stud1.degree"
      ],
      "metadata": {
        "colab": {
          "base_uri": "https://localhost:8080/",
          "height": 36
        },
        "id": "aEKY_7fzAAB1",
        "outputId": "05642f0c-f210-4b97-9f24-b42133a7eebc"
      },
      "execution_count": null,
      "outputs": [
        {
          "output_type": "execute_result",
          "data": {
            "text/plain": [
              "'Masters'"
            ],
            "application/vnd.google.colaboratory.intrinsic+json": {
              "type": "string"
            }
          },
          "metadata": {},
          "execution_count": 53
        }
      ]
    },
    {
      "cell_type": "code",
      "source": [
        "#accessing the public data member inside the other method of same class"
      ],
      "metadata": {
        "id": "Vsn0EbVHAAEp"
      },
      "execution_count": null,
      "outputs": []
    },
    {
      "cell_type": "code",
      "source": [
        "class Student:\n",
        "    def __init__(self, name, degree):\n",
        "        self.name = name\n",
        "        self.degree = degree\n",
        "\n",
        "    def show(self):\n",
        "        #accessing the  public data member\n",
        "        print(\"name\", self.name, 'degree', self.degree)\n",
        "\n",
        "aj = Student(\"Ajay\", \"Masters\")"
      ],
      "metadata": {
        "id": "Kr-63KeGBJWp"
      },
      "execution_count": null,
      "outputs": []
    },
    {
      "cell_type": "code",
      "source": [
        "aj.show()"
      ],
      "metadata": {
        "colab": {
          "base_uri": "https://localhost:8080/"
        },
        "id": "jjKeRSlRBJdp",
        "outputId": "54463ae5-dc04-41c6-ca56-870de142cc24"
      },
      "execution_count": null,
      "outputs": [
        {
          "output_type": "stream",
          "name": "stdout",
          "text": [
            "name Ajay degree Masters\n"
          ]
        }
      ]
    },
    {
      "cell_type": "code",
      "source": [
        "#private >> the data and method is only accessible within its class, use __ to make privat"
      ],
      "metadata": {
        "id": "v94jM-h3BJhD"
      },
      "execution_count": null,
      "outputs": []
    },
    {
      "cell_type": "code",
      "source": [
        "class Student:\n",
        "    def __init__(self, name, degree):\n",
        "        self.name = name\n",
        "        self.__degree = degree #private data\n",
        "\n",
        "    def show(self):\n",
        "        #accessing the private data member\n",
        "        print(\"name\", self.name, 'degree', self.__degree)"
      ],
      "metadata": {
        "id": "-7paJUdQBJne"
      },
      "execution_count": null,
      "outputs": []
    },
    {
      "cell_type": "code",
      "source": [
        "aj = Student(\"Ajay\", \"Masters\")"
      ],
      "metadata": {
        "id": "8pQoQfGjBJsP"
      },
      "execution_count": null,
      "outputs": []
    },
    {
      "cell_type": "code",
      "source": [
        "aj.name"
      ],
      "metadata": {
        "colab": {
          "base_uri": "https://localhost:8080/",
          "height": 36
        },
        "id": "U1smDgECBJv_",
        "outputId": "79ec42d6-fc39-4f62-f76c-bb7710f3d184"
      },
      "execution_count": null,
      "outputs": [
        {
          "output_type": "execute_result",
          "data": {
            "text/plain": [
              "'Ajay'"
            ],
            "application/vnd.google.colaboratory.intrinsic+json": {
              "type": "string"
            }
          },
          "metadata": {},
          "execution_count": 66
        }
      ]
    },
    {
      "cell_type": "code",
      "source": [
        "aj.show()"
      ],
      "metadata": {
        "colab": {
          "base_uri": "https://localhost:8080/"
        },
        "id": "Bg89Ag3UBJ3Q",
        "outputId": "097e0917-009b-4e5d-c427-03cc622caffe"
      },
      "execution_count": null,
      "outputs": [
        {
          "output_type": "stream",
          "name": "stdout",
          "text": [
            "name Ajay degree Masters\n"
          ]
        }
      ]
    },
    {
      "cell_type": "code",
      "source": [
        "aj.degree #it will throw an error as degree is now private data"
      ],
      "metadata": {
        "colab": {
          "base_uri": "https://localhost:8080/",
          "height": 146
        },
        "id": "KnRy_YV0BJ6q",
        "outputId": "2d336efb-dbfa-41c4-8397-542511365f05"
      },
      "execution_count": null,
      "outputs": [
        {
          "output_type": "error",
          "ename": "AttributeError",
          "evalue": "'Student' object has no attribute 'degree'",
          "traceback": [
            "\u001b[0;31m---------------------------------------------------------------------------\u001b[0m",
            "\u001b[0;31mAttributeError\u001b[0m                            Traceback (most recent call last)",
            "\u001b[0;32m/tmp/ipython-input-68-1135597418.py\u001b[0m in \u001b[0;36m<cell line: 0>\u001b[0;34m()\u001b[0m\n\u001b[0;32m----> 1\u001b[0;31m \u001b[0maj\u001b[0m\u001b[0;34m.\u001b[0m\u001b[0mdegree\u001b[0m \u001b[0;31m#it will throw an error as degree is now private data\u001b[0m\u001b[0;34m\u001b[0m\u001b[0;34m\u001b[0m\u001b[0m\n\u001b[0m",
            "\u001b[0;31mAttributeError\u001b[0m: 'Student' object has no attribute 'degree'"
          ]
        }
      ]
    },
    {
      "cell_type": "code",
      "source": [
        "aj._Student__degree #say you want to access the private variable using class name"
      ],
      "metadata": {
        "colab": {
          "base_uri": "https://localhost:8080/",
          "height": 36
        },
        "id": "B4gm7w-RBJ9a",
        "outputId": "50e9e562-9c69-4728-9aa9-e64592e4c311"
      },
      "execution_count": null,
      "outputs": [
        {
          "output_type": "execute_result",
          "data": {
            "text/plain": [
              "'Masters'"
            ],
            "application/vnd.google.colaboratory.intrinsic+json": {
              "type": "string"
            }
          },
          "metadata": {},
          "execution_count": 70
        }
      ]
    },
    {
      "cell_type": "code",
      "source": [
        "class Student:\n",
        "    def __init__(self, name, degree):\n",
        "        self.name = name\n",
        "        self.__degree = degree #private data\n",
        "\n",
        "    def show(self):\n",
        "        #accessing the private data member\n",
        "        print(\"name\", self.name, 'degree', self.__degree)\n",
        "\n",
        "    def __private_method(self):\n",
        "        print(\"This is private method\")"
      ],
      "metadata": {
        "id": "y4t3tW7mBKAb"
      },
      "execution_count": null,
      "outputs": []
    },
    {
      "cell_type": "code",
      "source": [
        "Student(\"ajay \", \" masters\")"
      ],
      "metadata": {
        "colab": {
          "base_uri": "https://localhost:8080/"
        },
        "id": "RREmlyi6BKDB",
        "outputId": "ac20adac-a094-4cab-a0e0-9e4727124690"
      },
      "execution_count": null,
      "outputs": [
        {
          "output_type": "execute_result",
          "data": {
            "text/plain": [
              "<__main__.Student at 0x7d99f942abd0>"
            ]
          },
          "metadata": {},
          "execution_count": 78
        }
      ]
    },
    {
      "cell_type": "code",
      "source": [
        "obj1.private_method() #throw an error"
      ],
      "metadata": {
        "colab": {
          "base_uri": "https://localhost:8080/",
          "height": 146
        },
        "id": "tbtIl8WjBKGi",
        "outputId": "40b3dd37-32ba-4d32-92ee-5990fb96842d"
      },
      "execution_count": null,
      "outputs": [
        {
          "output_type": "error",
          "ename": "AttributeError",
          "evalue": "'teacher_lecture' object has no attribute 'private_method'",
          "traceback": [
            "\u001b[0;31m---------------------------------------------------------------------------\u001b[0m",
            "\u001b[0;31mAttributeError\u001b[0m                            Traceback (most recent call last)",
            "\u001b[0;32m/tmp/ipython-input-80-168614211.py\u001b[0m in \u001b[0;36m<cell line: 0>\u001b[0;34m()\u001b[0m\n\u001b[0;32m----> 1\u001b[0;31m \u001b[0mobj1\u001b[0m\u001b[0;34m.\u001b[0m\u001b[0mprivate_method\u001b[0m\u001b[0;34m(\u001b[0m\u001b[0;34m)\u001b[0m \u001b[0;31m#throw an error\u001b[0m\u001b[0;34m\u001b[0m\u001b[0;34m\u001b[0m\u001b[0m\n\u001b[0m",
            "\u001b[0;31mAttributeError\u001b[0m: 'teacher_lecture' object has no attribute 'private_method'"
          ]
        }
      ]
    },
    {
      "cell_type": "code",
      "source": [
        "obj1._Student__private_method() #accesing private method using class name"
      ],
      "metadata": {
        "colab": {
          "base_uri": "https://localhost:8080/",
          "height": 164
        },
        "id": "cgXyD49YCur0",
        "outputId": "144a2327-f6ee-4e72-a3f1-c1e7c4835fed"
      },
      "execution_count": null,
      "outputs": [
        {
          "output_type": "error",
          "ename": "AttributeError",
          "evalue": "'teacher_lecture' object has no attribute '_Student__private_method'",
          "traceback": [
            "\u001b[0;31m---------------------------------------------------------------------------\u001b[0m",
            "\u001b[0;31mAttributeError\u001b[0m                            Traceback (most recent call last)",
            "\u001b[0;32m/tmp/ipython-input-81-50209392.py\u001b[0m in \u001b[0;36m<cell line: 0>\u001b[0;34m()\u001b[0m\n\u001b[0;32m----> 1\u001b[0;31m \u001b[0mobj1\u001b[0m\u001b[0;34m.\u001b[0m\u001b[0m_Student__private_method\u001b[0m\u001b[0;34m(\u001b[0m\u001b[0;34m)\u001b[0m \u001b[0;31m#accesing private method using class name\u001b[0m\u001b[0;34m\u001b[0m\u001b[0;34m\u001b[0m\u001b[0m\n\u001b[0m",
            "\u001b[0;31mAttributeError\u001b[0m: 'teacher_lecture' object has no attribute '_Student__private_method'"
          ]
        }
      ]
    },
    {
      "cell_type": "code",
      "source": [
        "#way to provide an option to see the private method>> a wrapper\n",
        "\n",
        "class Student:\n",
        "    def __init__(self, name, degree):\n",
        "        self.name = name\n",
        "        self.__degree = degree #private data\n",
        "\n",
        "    def show(self):\n",
        "        #accessing the private data member\n",
        "        print(\"name\", self.name, 'degree', self.__degree)\n",
        "\n",
        "    def __private_method(self):\n",
        "        print(\"This is a private method\")\n",
        "\n",
        "    def access_private_method(self):\n",
        "        self.__private_method()"
      ],
      "metadata": {
        "id": "pbpnGcpCAAHa"
      },
      "execution_count": null,
      "outputs": []
    },
    {
      "cell_type": "code",
      "source": [
        "obj1 = Student(\"AJ\", \"Masters\")\n",
        "obj1.access_private_method()"
      ],
      "metadata": {
        "colab": {
          "base_uri": "https://localhost:8080/"
        },
        "id": "dLJJN_dBAAJ_",
        "outputId": "bed841b3-db7a-4b6f-91b7-a30a761ebda9"
      },
      "execution_count": null,
      "outputs": [
        {
          "output_type": "stream",
          "name": "stdout",
          "text": [
            "This is a private method\n"
          ]
        }
      ]
    },
    {
      "cell_type": "code",
      "source": [
        "# another case\n",
        "\n",
        "class Car:\n",
        "  def __init__(self, year, make, model, speed):\n",
        "    self.__year = year\n",
        "    self.__make = make\n",
        "    self.__model = model\n",
        "    self.__speed = 0"
      ],
      "metadata": {
        "id": "0hk2yiohAAMQ"
      },
      "execution_count": null,
      "outputs": []
    },
    {
      "cell_type": "code",
      "source": [
        "c1 = Car(\"1995\", \"Maruti\", \"80\", \"Brezza\")\n",
        "c1.year #since all variables are private, it will throw an error"
      ],
      "metadata": {
        "colab": {
          "base_uri": "https://localhost:8080/",
          "height": 164
        },
        "id": "3-cEKIrDDXLw",
        "outputId": "c5233011-faa7-438c-a882-e6ec7f090cf8"
      },
      "execution_count": null,
      "outputs": [
        {
          "output_type": "error",
          "ename": "AttributeError",
          "evalue": "'Car' object has no attribute 'year'",
          "traceback": [
            "\u001b[0;31m---------------------------------------------------------------------------\u001b[0m",
            "\u001b[0;31mAttributeError\u001b[0m                            Traceback (most recent call last)",
            "\u001b[0;32m/tmp/ipython-input-87-819562183.py\u001b[0m in \u001b[0;36m<cell line: 0>\u001b[0;34m()\u001b[0m\n\u001b[1;32m      1\u001b[0m \u001b[0mc1\u001b[0m \u001b[0;34m=\u001b[0m \u001b[0mCar\u001b[0m\u001b[0;34m(\u001b[0m\u001b[0;34m\"1995\"\u001b[0m\u001b[0;34m,\u001b[0m \u001b[0;34m\"Maruti\"\u001b[0m\u001b[0;34m,\u001b[0m \u001b[0;34m\"80\"\u001b[0m\u001b[0;34m,\u001b[0m \u001b[0;34m\"Brezza\"\u001b[0m\u001b[0;34m)\u001b[0m\u001b[0;34m\u001b[0m\u001b[0;34m\u001b[0m\u001b[0m\n\u001b[0;32m----> 2\u001b[0;31m \u001b[0mc1\u001b[0m\u001b[0;34m.\u001b[0m\u001b[0myear\u001b[0m \u001b[0;31m#since all variables are private, it will throw an error\u001b[0m\u001b[0;34m\u001b[0m\u001b[0;34m\u001b[0m\u001b[0m\n\u001b[0m",
            "\u001b[0;31mAttributeError\u001b[0m: 'Car' object has no attribute 'year'"
          ]
        }
      ]
    },
    {
      "cell_type": "code",
      "source": [
        "class Car:\n",
        "    def __init__(self, year, make, speed, model):\n",
        "        self.__year = year\n",
        "        self.__make = make\n",
        "        self.__speed = speed\n",
        "        self.__model = model\n",
        "    def set_speed(self, speed):\n",
        "        self.__speed = 0 if speed < 0 else speed\n",
        "    def get_speed(self):\n",
        "        return self.__speed"
      ],
      "metadata": {
        "id": "T0B7W-O-DXOp"
      },
      "execution_count": null,
      "outputs": []
    },
    {
      "cell_type": "code",
      "source": [
        "c1 = Car(\"1995\", \"Maruti\", \"80\", \"Brezza\")\n",
        "c1.get_speed()"
      ],
      "metadata": {
        "colab": {
          "base_uri": "https://localhost:8080/",
          "height": 36
        },
        "id": "rFnh4fJwDXRg",
        "outputId": "ce8520d6-3b17-4b9e-d7f2-f23c8ad56fd3"
      },
      "execution_count": null,
      "outputs": [
        {
          "output_type": "execute_result",
          "data": {
            "text/plain": [
              "'80'"
            ],
            "application/vnd.google.colaboratory.intrinsic+json": {
              "type": "string"
            }
          },
          "metadata": {},
          "execution_count": 89
        }
      ]
    },
    {
      "cell_type": "code",
      "source": [
        "c1.set_speed(-1000)"
      ],
      "metadata": {
        "id": "uxWA9KvnDXUK"
      },
      "execution_count": null,
      "outputs": []
    },
    {
      "cell_type": "code",
      "source": [
        "c1.get_speed()"
      ],
      "metadata": {
        "colab": {
          "base_uri": "https://localhost:8080/"
        },
        "id": "cFw768pTDXWl",
        "outputId": "2dbb0e18-e12d-446c-bf8a-3a87d7349001"
      },
      "execution_count": null,
      "outputs": [
        {
          "output_type": "execute_result",
          "data": {
            "text/plain": [
              "0"
            ]
          },
          "metadata": {},
          "execution_count": 91
        }
      ]
    },
    {
      "cell_type": "code",
      "source": [
        "c1.set_speed(100)"
      ],
      "metadata": {
        "id": "bLCft0B6DXZT"
      },
      "execution_count": null,
      "outputs": []
    },
    {
      "cell_type": "code",
      "source": [
        "c1.get_speed()"
      ],
      "metadata": {
        "colab": {
          "base_uri": "https://localhost:8080/"
        },
        "id": "GpwWCyNDD4Nl",
        "outputId": "7978834e-1d4f-4827-fbb7-387532e07132"
      },
      "execution_count": null,
      "outputs": [
        {
          "output_type": "execute_result",
          "data": {
            "text/plain": [
              "100"
            ]
          },
          "metadata": {},
          "execution_count": 94
        }
      ]
    },
    {
      "cell_type": "code",
      "source": [
        "# another use case\n",
        "\n",
        "class Bank: #either you deposit or withdraw\n",
        "\n",
        "    def __init__(self, balance):\n",
        "        self.__balance = balance\n",
        "\n",
        "    def deposit(self, amount): #amount is new deposition\n",
        "        self.__balance = self.__balance + amount\n",
        "\n",
        "    def withdraw(self, amount):\n",
        "        if self.__balance >= amount:\n",
        "            self.__balance = self.__balance - amount\n",
        "            return True\n",
        "        else:\n",
        "            return False\n",
        "\n",
        "    def get_balance(self):\n",
        "        return self.__balance"
      ],
      "metadata": {
        "id": "Gk3gCgZhD4ZF"
      },
      "execution_count": null,
      "outputs": []
    },
    {
      "cell_type": "code",
      "source": [
        "acc1 = Bank(1000)"
      ],
      "metadata": {
        "id": "ncAXT02KD4c6"
      },
      "execution_count": null,
      "outputs": []
    },
    {
      "cell_type": "code",
      "source": [
        "acc1.get_balance()"
      ],
      "metadata": {
        "colab": {
          "base_uri": "https://localhost:8080/"
        },
        "id": "GF_OLFcgD4gm",
        "outputId": "d80351fb-dab1-4fd8-be13-32d6c7a82765"
      },
      "execution_count": null,
      "outputs": [
        {
          "output_type": "execute_result",
          "data": {
            "text/plain": [
              "1000"
            ]
          },
          "metadata": {},
          "execution_count": 98
        }
      ]
    },
    {
      "cell_type": "code",
      "source": [
        "acc1.deposit(500)"
      ],
      "metadata": {
        "id": "FJlwZnujD4kL"
      },
      "execution_count": null,
      "outputs": []
    },
    {
      "cell_type": "code",
      "source": [
        "acc1.get_balance()"
      ],
      "metadata": {
        "colab": {
          "base_uri": "https://localhost:8080/"
        },
        "id": "4wviDLlGD4nl",
        "outputId": "6717e887-9530-4c0f-b982-3415ccc77b64"
      },
      "execution_count": null,
      "outputs": [
        {
          "output_type": "execute_result",
          "data": {
            "text/plain": [
              "1500"
            ]
          },
          "metadata": {},
          "execution_count": 100
        }
      ]
    },
    {
      "cell_type": "code",
      "source": [
        "acc1.withdraw(100)"
      ],
      "metadata": {
        "colab": {
          "base_uri": "https://localhost:8080/"
        },
        "id": "JhIp0ADzD4qv",
        "outputId": "07efe5a9-f9fd-470e-a569-4015c2d9cda1"
      },
      "execution_count": null,
      "outputs": [
        {
          "output_type": "execute_result",
          "data": {
            "text/plain": [
              "True"
            ]
          },
          "metadata": {},
          "execution_count": 101
        }
      ]
    },
    {
      "cell_type": "code",
      "source": [
        "acc1.get_balance()"
      ],
      "metadata": {
        "colab": {
          "base_uri": "https://localhost:8080/"
        },
        "id": "CUUmszWtD4y1",
        "outputId": "b437a02b-908d-4f2f-9a4d-64a81253b504"
      },
      "execution_count": null,
      "outputs": [
        {
          "output_type": "execute_result",
          "data": {
            "text/plain": [
              "1400"
            ]
          },
          "metadata": {},
          "execution_count": 102
        }
      ]
    },
    {
      "cell_type": "markdown",
      "source": [
        "**Lecture : Class and Static Method**"
      ],
      "metadata": {
        "id": "HgoKc7F2FNFM"
      }
    },
    {
      "cell_type": "code",
      "source": [
        "#class methods >> bound to the class (and not to a particular instance of the class), access/modify methods\n",
        "#and attributes associated to class accross all the instances\n",
        "#@classmethod decorator\n",
        "#instead of self, cls as first parameter\n",
        "#alternative of init method to pass the data"
      ],
      "metadata": {
        "id": "6ZH0hPBOD42d"
      },
      "execution_count": null,
      "outputs": []
    },
    {
      "cell_type": "code",
      "source": [
        "class Student:\n",
        "  def __init__(self , name):\n",
        "    self.name = name"
      ],
      "metadata": {
        "id": "ZNFev_c6Fpwb"
      },
      "execution_count": null,
      "outputs": []
    },
    {
      "cell_type": "code",
      "source": [
        "obj = Student(\"ajay\")"
      ],
      "metadata": {
        "id": "jf-M7W8DF8VN"
      },
      "execution_count": null,
      "outputs": []
    },
    {
      "cell_type": "code",
      "source": [
        "obj.name"
      ],
      "metadata": {
        "colab": {
          "base_uri": "https://localhost:8080/",
          "height": 36
        },
        "id": "ghHIxVRLF_UV",
        "outputId": "012c271e-9963-4e8a-8e4f-045621f22d48"
      },
      "execution_count": null,
      "outputs": [
        {
          "output_type": "execute_result",
          "data": {
            "text/plain": [
              "'ajay'"
            ],
            "application/vnd.google.colaboratory.intrinsic+json": {
              "type": "string"
            }
          },
          "metadata": {},
          "execution_count": 106
        }
      ]
    },
    {
      "cell_type": "code",
      "source": [
        "class Student:\n",
        "  def __init__(self , name):\n",
        "    self.name = name #self means this variable/method is refererring to current instance of the class\n",
        "\n",
        "    @classmethod #bound/binds to the class\n",
        "    def student_details(cls, name): #instead of self as first param, you are using cls>>meaning this method is associated/referring to the class itself\n",
        "        return cls(name)"
      ],
      "metadata": {
        "id": "Ygtro8jLGASu"
      },
      "execution_count": null,
      "outputs": []
    },
    {
      "cell_type": "code",
      "source": [
        "#what is the meaning that it is referring the class?\n",
        "#earlier to access any method/attribute>>first make instance/object of class\n",
        "#then obj.attribute\n",
        "#but if it is class method you can directly access it"
      ],
      "metadata": {
        "id": "h6gXdRvEGAWA"
      },
      "execution_count": null,
      "outputs": []
    },
    {
      "cell_type": "code",
      "source": [
        "obj1 = Student.student_details(\"Ajay\") #since student_details directly binds to the class you can directly call it without making any object"
      ],
      "metadata": {
        "id": "vkRPUs6KGAY4"
      },
      "execution_count": null,
      "outputs": []
    },
    {
      "cell_type": "code",
      "source": [
        "#how class method is overloading the init method?\n",
        "#modifying the instance method\n",
        "class Student:\n",
        "    def __init__(self, name): #init method is an instance method\n",
        "        self.name = name\n",
        "\n",
        "    @classmethod\n",
        "    def student_details(cls, name1):\n",
        "        return cls(name1)"
      ],
      "metadata": {
        "id": "mJ-5C6X0GAdB"
      },
      "execution_count": 1,
      "outputs": []
    },
    {
      "cell_type": "code",
      "source": [
        "stud = Student.student_details(\"ajay\")\n"
      ],
      "metadata": {
        "id": "eyYvifTuGAgt"
      },
      "execution_count": 2,
      "outputs": []
    },
    {
      "cell_type": "code",
      "source": [
        "stud.name\n",
        "#you will get Ajay inspite the variable name1\n",
        "#because it is overloading the init method>> alternative of init method"
      ],
      "metadata": {
        "id": "2ELimuy-GAjE",
        "colab": {
          "base_uri": "https://localhost:8080/",
          "height": 36
        },
        "outputId": "a8cc40eb-aab1-4a83-99f8-d1e9d02863ca"
      },
      "execution_count": 15,
      "outputs": [
        {
          "output_type": "execute_result",
          "data": {
            "text/plain": [
              "'ajay'"
            ],
            "application/vnd.google.colaboratory.intrinsic+json": {
              "type": "string"
            }
          },
          "metadata": {},
          "execution_count": 15
        }
      ]
    },
    {
      "cell_type": "code",
      "source": [
        "#class method can modify class state applicable to all the instances of the class\n",
        "class Student:\n",
        "\n",
        "    total_students = 0 #class variable\n",
        "    def __init__(self, name):#instance method\n",
        "        self.name = name #instance variable\n",
        "        Student.total_students = Student.total_students+1 #total_student is the class variable associated with all the instances\n",
        "\n",
        "    @classmethod\n",
        "    def get_total_students(cls):\n",
        "        return cls.total_students\n"
      ],
      "metadata": {
        "id": "gBz7dWhwGAli"
      },
      "execution_count": 17,
      "outputs": []
    },
    {
      "cell_type": "code",
      "source": [
        "std1 = Student(\"Ajay\")\n",
        "std2 = Student(\"Shivam\")"
      ],
      "metadata": {
        "id": "6ElU9HYYGAoC"
      },
      "execution_count": 18,
      "outputs": []
    },
    {
      "cell_type": "code",
      "source": [
        "std1.name"
      ],
      "metadata": {
        "colab": {
          "base_uri": "https://localhost:8080/",
          "height": 36
        },
        "id": "JfgIwQ7JFc6w",
        "outputId": "6717b711-5954-436c-b8ad-f6bb4ab50034"
      },
      "execution_count": 19,
      "outputs": [
        {
          "output_type": "execute_result",
          "data": {
            "text/plain": [
              "'Ajay'"
            ],
            "application/vnd.google.colaboratory.intrinsic+json": {
              "type": "string"
            }
          },
          "metadata": {},
          "execution_count": 19
        }
      ]
    },
    {
      "cell_type": "code",
      "source": [
        "std2.name"
      ],
      "metadata": {
        "colab": {
          "base_uri": "https://localhost:8080/",
          "height": 36
        },
        "id": "W_hYOLYVFhGE",
        "outputId": "b3d6063b-3865-4a07-8572-c8d69665f88f"
      },
      "execution_count": 21,
      "outputs": [
        {
          "output_type": "execute_result",
          "data": {
            "text/plain": [
              "'Shivam'"
            ],
            "application/vnd.google.colaboratory.intrinsic+json": {
              "type": "string"
            }
          },
          "metadata": {},
          "execution_count": 21
        }
      ]
    },
    {
      "cell_type": "code",
      "source": [
        "Student.get_total_students() #class method can modify class state applicable to all the instances of the class\n",
        "#thats why you see increase in the count"
      ],
      "metadata": {
        "colab": {
          "base_uri": "https://localhost:8080/"
        },
        "id": "RHSe908TFkl3",
        "outputId": "3736a2d5-71b7-4cb6-8d6c-f10974580947"
      },
      "execution_count": 22,
      "outputs": [
        {
          "output_type": "execute_result",
          "data": {
            "text/plain": [
              "2"
            ]
          },
          "metadata": {},
          "execution_count": 22
        }
      ]
    },
    {
      "cell_type": "code",
      "source": [
        "#To make external function as class method\n",
        "\n",
        "class Student:\n",
        "\n",
        "    total_students = 0 #class variable\n",
        "    def __init__(self, name):#instance method\n",
        "        self.name = name #instance variable\n",
        "        Student.total_students = Student.total_students+1 #total_student is the class variable associated with all the instances\n",
        "\n",
        "    @classmethod\n",
        "    def get_total_students(cls):\n",
        "        return cls.total_students"
      ],
      "metadata": {
        "id": "GjvMZGbtFko6"
      },
      "execution_count": 23,
      "outputs": []
    },
    {
      "cell_type": "code",
      "source": [
        "def course_details(cls, course_name):\n",
        "    print(\"The details of the course are :\", course_name)"
      ],
      "metadata": {
        "id": "Cf7MUqD2Fkrt"
      },
      "execution_count": 24,
      "outputs": []
    },
    {
      "cell_type": "code",
      "source": [
        "Student.course_details = classmethod(course_details) #adding external function as class method"
      ],
      "metadata": {
        "id": "iZap_ITfFku9"
      },
      "execution_count": 25,
      "outputs": []
    },
    {
      "cell_type": "code",
      "source": [
        "Student.course_details(\"Data Science\")"
      ],
      "metadata": {
        "colab": {
          "base_uri": "https://localhost:8080/"
        },
        "id": "egzgV619FkyE",
        "outputId": "d4e38e5a-d2ed-4de1-827c-752debca6651"
      },
      "execution_count": 26,
      "outputs": [
        {
          "output_type": "stream",
          "name": "stdout",
          "text": [
            "The details of the course are : Data Science\n"
          ]
        }
      ]
    },
    {
      "cell_type": "code",
      "source": [
        "Student.get_total_students()"
      ],
      "metadata": {
        "colab": {
          "base_uri": "https://localhost:8080/"
        },
        "id": "QroTZ8JWFk1G",
        "outputId": "6e57bfff-dce3-4409-c891-891a67200b97"
      },
      "execution_count": 28,
      "outputs": [
        {
          "output_type": "execute_result",
          "data": {
            "text/plain": [
              "0"
            ]
          },
          "metadata": {},
          "execution_count": 28
        }
      ]
    },
    {
      "cell_type": "code",
      "source": [
        "#another way to delete\n",
        "delattr(Student, \"get_total_students\")"
      ],
      "metadata": {
        "id": "-pFuzVz1Fk6y"
      },
      "execution_count": 30,
      "outputs": []
    },
    {
      "cell_type": "code",
      "source": [
        "Student.get_total_students() #error"
      ],
      "metadata": {
        "colab": {
          "base_uri": "https://localhost:8080/",
          "height": 146
        },
        "id": "XUQzkqtWFk9j",
        "outputId": "3ce55499-dd4b-40d9-c7e4-f11dac2f5c74"
      },
      "execution_count": 31,
      "outputs": [
        {
          "output_type": "error",
          "ename": "AttributeError",
          "evalue": "type object 'Student' has no attribute 'get_total_students'",
          "traceback": [
            "\u001b[0;31m---------------------------------------------------------------------------\u001b[0m",
            "\u001b[0;31mAttributeError\u001b[0m                            Traceback (most recent call last)",
            "\u001b[0;32m/tmp/ipython-input-31-1581693336.py\u001b[0m in \u001b[0;36m<cell line: 0>\u001b[0;34m()\u001b[0m\n\u001b[0;32m----> 1\u001b[0;31m \u001b[0mStudent\u001b[0m\u001b[0;34m.\u001b[0m\u001b[0mget_total_students\u001b[0m\u001b[0;34m(\u001b[0m\u001b[0;34m)\u001b[0m \u001b[0;31m#error\u001b[0m\u001b[0;34m\u001b[0m\u001b[0;34m\u001b[0m\u001b[0m\n\u001b[0m",
            "\u001b[0;31mAttributeError\u001b[0m: type object 'Student' has no attribute 'get_total_students'"
          ]
        }
      ]
    },
    {
      "cell_type": "code",
      "source": [
        "#Static method\n",
        "#doesnot modify class or instance state, doesnt access instance or class state\n",
        "#doesnt depend on class/instance\n",
        "#it behaves like a plain function that belongs to class\n",
        "#it doesn't take either self or cls\n",
        "#@static method is used\n",
        "#works with parameter passed"
      ],
      "metadata": {
        "id": "ZDlQnzjRFlAR"
      },
      "execution_count": 21,
      "outputs": []
    },
    {
      "cell_type": "code",
      "source": [
        "class Calculator:\n",
        "\n",
        "  @staticmethod\n",
        "  def add(x,y):\n",
        "    return x + y\n",
        "\n",
        "  @staticmethod\n",
        "  def subtract(x,y):\n",
        "        return x-y\n"
      ],
      "metadata": {
        "id": "eUhzoZ7mFlCJ"
      },
      "execution_count": 37,
      "outputs": []
    },
    {
      "cell_type": "code",
      "source": [
        "Calculator.add(66 , 33)"
      ],
      "metadata": {
        "colab": {
          "base_uri": "https://localhost:8080/"
        },
        "id": "gfQqTKiPG5lQ",
        "outputId": "d7056ede-e0bd-401d-baae-62aac06169b4"
      },
      "execution_count": 35,
      "outputs": [
        {
          "output_type": "execute_result",
          "data": {
            "text/plain": [
              "99"
            ]
          },
          "metadata": {},
          "execution_count": 35
        }
      ]
    },
    {
      "cell_type": "code",
      "source": [
        "Calculator.subtract(66 , 33)"
      ],
      "metadata": {
        "colab": {
          "base_uri": "https://localhost:8080/"
        },
        "id": "new2MBWjG5oS",
        "outputId": "349ecdb6-dc9b-4edf-a97f-5ed14791e060"
      },
      "execution_count": 38,
      "outputs": [
        {
          "output_type": "execute_result",
          "data": {
            "text/plain": [
              "33"
            ]
          },
          "metadata": {},
          "execution_count": 38
        }
      ]
    },
    {
      "cell_type": "markdown",
      "source": [
        "**DUNDLER METHOD **"
      ],
      "metadata": {
        "id": "8gBIQkyMHRcO"
      }
    },
    {
      "cell_type": "code",
      "source": [
        "#dunder/magic/special method"
      ],
      "metadata": {
        "id": "0ZaHsWdMG5rA"
      },
      "execution_count": 34,
      "outputs": []
    },
    {
      "cell_type": "code",
      "source": [
        "print(\"HELLO WORLD\") #print is a keyword/inbuiltfunction"
      ],
      "metadata": {
        "colab": {
          "base_uri": "https://localhost:8080/"
        },
        "id": "VPgLffLvG5td",
        "outputId": "4550e397-4c39-423c-876c-2ab56aba448f"
      },
      "execution_count": 41,
      "outputs": [
        {
          "output_type": "stream",
          "name": "stdout",
          "text": [
            "HELLO WORLD\n"
          ]
        }
      ]
    },
    {
      "cell_type": "code",
      "source": [
        "#Dunder/magic/special methods are the methods defined by built-in classess in Python\n",
        "#classes define these type of methods for creating custom objects >> for init it means data for every object\n",
        "#implementing operator overloading in Python"
      ],
      "metadata": {
        "id": "w7V84InFG5wO"
      },
      "execution_count": 42,
      "outputs": []
    },
    {
      "cell_type": "code",
      "source": [
        "#d+under\n",
        "#double underscore >> all the methods surrounding double underscore is a dunder method"
      ],
      "metadata": {
        "id": "L_OTFGQHHnMf"
      },
      "execution_count": 42,
      "outputs": []
    },
    {
      "cell_type": "code",
      "source": [
        "a = \"pw\"\n",
        "b = \"skills\"\n",
        "a+b"
      ],
      "metadata": {
        "colab": {
          "base_uri": "https://localhost:8080/",
          "height": 36
        },
        "id": "R_cCN-DVHnPX",
        "outputId": "749fbb87-fe08-4a43-bef5-22b1bac97739"
      },
      "execution_count": 43,
      "outputs": [
        {
          "output_type": "execute_result",
          "data": {
            "text/plain": [
              "'pwskills'"
            ],
            "application/vnd.google.colaboratory.intrinsic+json": {
              "type": "string"
            }
          },
          "metadata": {},
          "execution_count": 43
        }
      ]
    },
    {
      "cell_type": "code",
      "source": [
        "a.__add__(b)  #a dunder method/special/magic method associated with strings"
      ],
      "metadata": {
        "colab": {
          "base_uri": "https://localhost:8080/",
          "height": 36
        },
        "id": "aiyoIGeSHnSF",
        "outputId": "e66f5e08-460d-464e-8cd5-5d8386b7892d"
      },
      "execution_count": 44,
      "outputs": [
        {
          "output_type": "execute_result",
          "data": {
            "text/plain": [
              "'pwskills'"
            ],
            "application/vnd.google.colaboratory.intrinsic+json": {
              "type": "string"
            }
          },
          "metadata": {},
          "execution_count": 44
        }
      ]
    },
    {
      "cell_type": "code",
      "source": [
        "#all dunder methods associated with strings\n",
        "dir(str)"
      ],
      "metadata": {
        "colab": {
          "base_uri": "https://localhost:8080/"
        },
        "id": "AzYfN-yvHnUl",
        "outputId": "2815c5d3-93e1-4b5d-8fe3-b8444689ef8e"
      },
      "execution_count": 45,
      "outputs": [
        {
          "output_type": "execute_result",
          "data": {
            "text/plain": [
              "['__add__',\n",
              " '__class__',\n",
              " '__contains__',\n",
              " '__delattr__',\n",
              " '__dir__',\n",
              " '__doc__',\n",
              " '__eq__',\n",
              " '__format__',\n",
              " '__ge__',\n",
              " '__getattribute__',\n",
              " '__getitem__',\n",
              " '__getnewargs__',\n",
              " '__getstate__',\n",
              " '__gt__',\n",
              " '__hash__',\n",
              " '__init__',\n",
              " '__init_subclass__',\n",
              " '__iter__',\n",
              " '__le__',\n",
              " '__len__',\n",
              " '__lt__',\n",
              " '__mod__',\n",
              " '__mul__',\n",
              " '__ne__',\n",
              " '__new__',\n",
              " '__reduce__',\n",
              " '__reduce_ex__',\n",
              " '__repr__',\n",
              " '__rmod__',\n",
              " '__rmul__',\n",
              " '__setattr__',\n",
              " '__sizeof__',\n",
              " '__str__',\n",
              " '__subclasshook__',\n",
              " 'capitalize',\n",
              " 'casefold',\n",
              " 'center',\n",
              " 'count',\n",
              " 'encode',\n",
              " 'endswith',\n",
              " 'expandtabs',\n",
              " 'find',\n",
              " 'format',\n",
              " 'format_map',\n",
              " 'index',\n",
              " 'isalnum',\n",
              " 'isalpha',\n",
              " 'isascii',\n",
              " 'isdecimal',\n",
              " 'isdigit',\n",
              " 'isidentifier',\n",
              " 'islower',\n",
              " 'isnumeric',\n",
              " 'isprintable',\n",
              " 'isspace',\n",
              " 'istitle',\n",
              " 'isupper',\n",
              " 'join',\n",
              " 'ljust',\n",
              " 'lower',\n",
              " 'lstrip',\n",
              " 'maketrans',\n",
              " 'partition',\n",
              " 'removeprefix',\n",
              " 'removesuffix',\n",
              " 'replace',\n",
              " 'rfind',\n",
              " 'rindex',\n",
              " 'rjust',\n",
              " 'rpartition',\n",
              " 'rsplit',\n",
              " 'rstrip',\n",
              " 'split',\n",
              " 'splitlines',\n",
              " 'startswith',\n",
              " 'strip',\n",
              " 'swapcase',\n",
              " 'title',\n",
              " 'translate',\n",
              " 'upper',\n",
              " 'zfill']"
            ]
          },
          "metadata": {},
          "execution_count": 45
        }
      ]
    },
    {
      "cell_type": "code",
      "source": [
        "a = 3\n",
        "b = 5\n",
        "a.__add__(b)"
      ],
      "metadata": {
        "colab": {
          "base_uri": "https://localhost:8080/"
        },
        "id": "xO07P9lzHnW-",
        "outputId": "db10269b-3487-4dc6-806f-8461ace3fd8d"
      },
      "execution_count": 46,
      "outputs": [
        {
          "output_type": "execute_result",
          "data": {
            "text/plain": [
              "8"
            ]
          },
          "metadata": {},
          "execution_count": 46
        }
      ]
    },
    {
      "cell_type": "code",
      "source": [
        "#useful dunder methods\n",
        "#__init__ >>to take data with respect to object\n",
        "class Student:\\\n",
        "#to initialize the newly created instance/object>>it sets up any intial state/properties of the object\n",
        "#also known as constructor\n",
        "    def __init__(self, name):\n",
        "        print(name, \"This is the first thing that will be executed when you make instance/object of the class\")"
      ],
      "metadata": {
        "id": "KAfXkMpeHnZi"
      },
      "execution_count": 48,
      "outputs": []
    },
    {
      "cell_type": "code",
      "source": [
        "obj1 = Student(\"Ajay\")"
      ],
      "metadata": {
        "colab": {
          "base_uri": "https://localhost:8080/"
        },
        "id": "eAjbEASaHnc0",
        "outputId": "82eb3447-d297-42d4-c805-7ab648f3a835"
      },
      "execution_count": 49,
      "outputs": [
        {
          "output_type": "stream",
          "name": "stdout",
          "text": [
            "Ajay This is the first thing that will be executed when you make instance/object of the class\n"
          ]
        }
      ]
    },
    {
      "cell_type": "code",
      "source": [
        "obj2 = Student(\"Bijay\")"
      ],
      "metadata": {
        "colab": {
          "base_uri": "https://localhost:8080/"
        },
        "id": "Py0OQR5lHnfL",
        "outputId": "0fa0f66b-12db-4256-9f43-80f465fae615"
      },
      "execution_count": 50,
      "outputs": [
        {
          "output_type": "stream",
          "name": "stdout",
          "text": [
            "Bijay This is the first thing that will be executed when you make instance/object of the class\n"
          ]
        }
      ]
    },
    {
      "cell_type": "code",
      "source": [
        "#another magic method >> __new__\n",
        "class Student:\n",
        "    #__new__ is responsible for creating a new instance of the class\n",
        "    def __new__(cls): #since cls>>so it will be referring to the class directly\n",
        "        print(\"This will be executed even before init.\")\n",
        "    #to initialize teh newly created instance/object>>it sets up any intial state/properties of the object\n",
        "    def __init__(self, name):\n",
        "        print(name, \"This is the first thing that will be executed when you make instance/object of the class\")"
      ],
      "metadata": {
        "id": "vMMyVeSTHnh6"
      },
      "execution_count": 51,
      "outputs": []
    },
    {
      "cell_type": "code",
      "source": [
        "obj = Student()"
      ],
      "metadata": {
        "colab": {
          "base_uri": "https://localhost:8080/"
        },
        "id": "VmorIu91Hnkd",
        "outputId": "b4533fd5-37b9-45dc-afda-71bb083ab152"
      },
      "execution_count": 52,
      "outputs": [
        {
          "output_type": "stream",
          "name": "stdout",
          "text": [
            "This will be executed even before init.\n"
          ]
        }
      ]
    },
    {
      "cell_type": "code",
      "source": [],
      "metadata": {
        "id": "5OIyHQJSJ6w9"
      },
      "execution_count": null,
      "outputs": []
    },
    {
      "cell_type": "code",
      "source": [
        "#another dunder method>> __str__ >> which returns string representation of method\n",
        "class Student:\n",
        "    def __init__(self):\n",
        "        self.phone = 999999999"
      ],
      "metadata": {
        "id": "9ATDa4OpHnm9"
      },
      "execution_count": 53,
      "outputs": []
    },
    {
      "cell_type": "code",
      "source": [
        "Student()"
      ],
      "metadata": {
        "colab": {
          "base_uri": "https://localhost:8080/"
        },
        "id": "UZc3lEVXHnpq",
        "outputId": "ba673a1b-5cb3-45a3-87d9-a3ac6a6a9349"
      },
      "execution_count": 56,
      "outputs": [
        {
          "output_type": "execute_result",
          "data": {
            "text/plain": [
              "<__main__.Student at 0x7f116e721410>"
            ]
          },
          "metadata": {},
          "execution_count": 56
        }
      ]
    },
    {
      "cell_type": "code",
      "source": [
        "print(Student())"
      ],
      "metadata": {
        "colab": {
          "base_uri": "https://localhost:8080/"
        },
        "id": "YSYygM_2HnsD",
        "outputId": "03c64ac3-b206-4bbd-c4ac-0609724da8d2"
      },
      "execution_count": 57,
      "outputs": [
        {
          "output_type": "stream",
          "name": "stdout",
          "text": [
            "<__main__.Student object at 0x7f116e70e050>\n"
          ]
        }
      ]
    },
    {
      "cell_type": "code",
      "source": [
        "class Student:\n",
        "    def __init__(self):\n",
        "        self.phone = 999999999\n",
        "    def __str__(self): #__str__  will return a string representation of object\n",
        "        return \"This method overloads the print statement of object\""
      ],
      "metadata": {
        "id": "OQRq7AmzHnus"
      },
      "execution_count": 58,
      "outputs": []
    },
    {
      "cell_type": "code",
      "source": [
        "Student()"
      ],
      "metadata": {
        "colab": {
          "base_uri": "https://localhost:8080/"
        },
        "id": "_hyovTwVHnxW",
        "outputId": "aec27b96-db13-44d9-a033-dbaa82cef893"
      },
      "execution_count": 59,
      "outputs": [
        {
          "output_type": "execute_result",
          "data": {
            "text/plain": [
              "<__main__.Student at 0x7f116e71b710>"
            ]
          },
          "metadata": {},
          "execution_count": 59
        }
      ]
    },
    {
      "cell_type": "code",
      "source": [
        "print(Student())"
      ],
      "metadata": {
        "colab": {
          "base_uri": "https://localhost:8080/"
        },
        "id": "2E2bH2eoHn0H",
        "outputId": "99240adc-e607-4f6f-abed-669e0853e26c"
      },
      "execution_count": 60,
      "outputs": [
        {
          "output_type": "stream",
          "name": "stdout",
          "text": [
            "This method overloads the print statement of object\n"
          ]
        }
      ]
    },
    {
      "cell_type": "code",
      "source": [
        "#another dunder method __repr__ >> meaning representation of class\n",
        "#it returns unambiguous string representation of teh object as it is that can be used recreate the object"
      ],
      "metadata": {
        "id": "AmTz9zVqHn29"
      },
      "execution_count": 42,
      "outputs": []
    },
    {
      "cell_type": "code",
      "source": [
        "class MyClass:\n",
        "    def __init__(self, x):\n",
        "        self.x = x\n",
        "    def __repr__(self):\n",
        "        return f\"MyClass({self.x})\""
      ],
      "metadata": {
        "id": "3kjnBoa6Hn6X"
      },
      "execution_count": 61,
      "outputs": []
    },
    {
      "cell_type": "code",
      "source": [
        "obj = MyClass(5)"
      ],
      "metadata": {
        "id": "SLcNfpy5Hn8_"
      },
      "execution_count": 62,
      "outputs": []
    },
    {
      "cell_type": "code",
      "source": [
        "obj"
      ],
      "metadata": {
        "colab": {
          "base_uri": "https://localhost:8080/"
        },
        "id": "_rGksg19Hn_i",
        "outputId": "a4e4bac0-3223-4b70-99e3-ed07f3d1af08"
      },
      "execution_count": 63,
      "outputs": [
        {
          "output_type": "execute_result",
          "data": {
            "text/plain": [
              "MyClass(5)"
            ]
          },
          "metadata": {},
          "execution_count": 63
        }
      ]
    },
    {
      "cell_type": "code",
      "source": [
        "print(repr(obj))"
      ],
      "metadata": {
        "colab": {
          "base_uri": "https://localhost:8080/"
        },
        "id": "IxaCtn6vHoCD",
        "outputId": "8650d16e-7705-4417-f0e4-31957fe75b48"
      },
      "execution_count": 64,
      "outputs": [
        {
          "output_type": "stream",
          "name": "stdout",
          "text": [
            "MyClass(5)\n"
          ]
        }
      ]
    },
    {
      "cell_type": "code",
      "source": [
        "# __eq__\n",
        "True == True"
      ],
      "metadata": {
        "colab": {
          "base_uri": "https://localhost:8080/"
        },
        "id": "N0ohYpzkHoDy",
        "outputId": "f625df11-4ffc-4a83-b60b-385e6a820565"
      },
      "execution_count": 67,
      "outputs": [
        {
          "output_type": "execute_result",
          "data": {
            "text/plain": [
              "True"
            ]
          },
          "metadata": {},
          "execution_count": 67
        }
      ]
    },
    {
      "cell_type": "code",
      "source": [
        "3 == 3"
      ],
      "metadata": {
        "colab": {
          "base_uri": "https://localhost:8080/"
        },
        "id": "3yoc_NL4LMii",
        "outputId": "c5079d0e-a363-4314-c660-e5909d59ae55"
      },
      "execution_count": 69,
      "outputs": [
        {
          "output_type": "execute_result",
          "data": {
            "text/plain": [
              "True"
            ]
          },
          "metadata": {},
          "execution_count": 69
        }
      ]
    },
    {
      "cell_type": "code",
      "source": [
        "a = 3\n",
        "b = 3\n",
        "a.__eq__(b)"
      ],
      "metadata": {
        "colab": {
          "base_uri": "https://localhost:8080/"
        },
        "id": "LkW_t_vyLOZg",
        "outputId": "6a5b12af-5d10-422a-f237-06963d5b5dfd"
      },
      "execution_count": 71,
      "outputs": [
        {
          "output_type": "execute_result",
          "data": {
            "text/plain": [
              "True"
            ]
          },
          "metadata": {},
          "execution_count": 71
        }
      ]
    },
    {
      "cell_type": "code",
      "source": [
        "# use case of this\n",
        "\n",
        "class Point:\n",
        "  def __init__(self , x, y):\n",
        "    self.x = x\n",
        "    self.y = y\n",
        "  def __eq__(self , other):\n",
        "    return self.x == other.x and self.y == other.y"
      ],
      "metadata": {
        "id": "qG0jyoZeLOcI"
      },
      "execution_count": 72,
      "outputs": []
    },
    {
      "cell_type": "code",
      "source": [
        "p1 = Point(1, 2)\n",
        "p2 = Point(1, 2)\n",
        "print(p1 == p2) #comparing both of the object\n",
        "##when you are using == operator with point Objects, python internally calls __add__"
      ],
      "metadata": {
        "colab": {
          "base_uri": "https://localhost:8080/"
        },
        "id": "WC-OS9ecLOfG",
        "outputId": "e54823c0-f0ff-4997-dfbd-6ad64e0b7432"
      },
      "execution_count": 73,
      "outputs": [
        {
          "output_type": "stream",
          "name": "stdout",
          "text": [
            "True\n"
          ]
        }
      ]
    },
    {
      "cell_type": "code",
      "source": [
        "p1 = Point(3, 2)\n",
        "p2 = Point(1, 2)\n",
        "print(p1 == p2)"
      ],
      "metadata": {
        "colab": {
          "base_uri": "https://localhost:8080/"
        },
        "id": "P8OIVFPOLOh-",
        "outputId": "14710497-92f3-49e0-f9ba-1b282ca3b43f"
      },
      "execution_count": 74,
      "outputs": [
        {
          "output_type": "stream",
          "name": "stdout",
          "text": [
            "False\n"
          ]
        }
      ]
    },
    {
      "cell_type": "code",
      "source": [
        "#__add__\n",
        "a = 3\n",
        "b = 5\n",
        "a+b"
      ],
      "metadata": {
        "colab": {
          "base_uri": "https://localhost:8080/"
        },
        "id": "rz9rY-pmLOko",
        "outputId": "7f3ccfef-5379-40c0-d13d-07fc65cd0bf3"
      },
      "execution_count": 75,
      "outputs": [
        {
          "output_type": "execute_result",
          "data": {
            "text/plain": [
              "8"
            ]
          },
          "metadata": {},
          "execution_count": 75
        }
      ]
    },
    {
      "cell_type": "code",
      "source": [
        "class Point:\n",
        "    def __init__(self, x, y):\n",
        "        self.x = x\n",
        "        self.y = y\n",
        "    def __add__(self, other):\n",
        "        return Point(self.x + other.x,  self.y + other.y)"
      ],
      "metadata": {
        "id": "BiHJa_MTLOnS"
      },
      "execution_count": 77,
      "outputs": []
    },
    {
      "cell_type": "code",
      "source": [
        "p1 = Point(1, 2)\n",
        "p2 = Point(1, 2)\n",
        "p3 = p1+p2 #when you are using + operator with point Objects, python internally calls __add__\n",
        "print(p3.x, p3.y)"
      ],
      "metadata": {
        "colab": {
          "base_uri": "https://localhost:8080/"
        },
        "id": "MXI1mck3LOpo",
        "outputId": "e5467822-7f6f-4bab-efaf-3145d4c53aba"
      },
      "execution_count": 78,
      "outputs": [
        {
          "output_type": "stream",
          "name": "stdout",
          "text": [
            "2 4\n"
          ]
        }
      ]
    },
    {
      "cell_type": "code",
      "source": [
        "p1 = Point(5, 2)\n",
        "p2 = Point(1, 8)\n",
        "p3 = p1+p2\n",
        "print(p3.x, p3.y)"
      ],
      "metadata": {
        "colab": {
          "base_uri": "https://localhost:8080/"
        },
        "id": "rVDnpFEDL__x",
        "outputId": "69ccefb3-5ffa-45cd-e374-5be8660f39f1"
      },
      "execution_count": 79,
      "outputs": [
        {
          "output_type": "stream",
          "name": "stdout",
          "text": [
            "6 10\n"
          ]
        }
      ]
    }
  ]
}
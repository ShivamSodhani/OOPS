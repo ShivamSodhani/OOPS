{
  "nbformat": 4,
  "nbformat_minor": 0,
  "metadata": {
    "colab": {
      "provenance": []
    },
    "kernelspec": {
      "name": "python3",
      "display_name": "Python 3"
    },
    "language_info": {
      "name": "python"
    }
  },
  "cells": [
    {
      "cell_type": "markdown",
      "source": [
        "**Python OOPs Questions**"
      ],
      "metadata": {
        "id": "cDuXGWP1DjvH"
      }
    },
    {
      "cell_type": "markdown",
      "source": [
        "Q1 . What is Object-Oriented Programming ?\n",
        "\n",
        "Answer - Object-Oriented Programming (OOP) is a programming style based on objects that combine data and functions. It uses concepts like classes, objects, inheritance, encapsulation, polymorphism, and abstraction. OOP makes code reusable, modular, and easier to maintain, helping developers build complex software in a more organized and secure way."
      ],
      "metadata": {
        "id": "GFXETuI7DpK8"
      }
    },
    {
      "cell_type": "markdown",
      "source": [
        "Q 2 What is a class in OOP ?\n",
        "\n",
        "\n",
        "Answer - In Object-Oriented Programming (OOP), a class is a blueprint or template for creating objects. It defines the attributes (data) and methods (functions) that the objects created from it will have. Classes help organize and structure code by bundling related data and behavior together."
      ],
      "metadata": {
        "id": "Cwu_XUYlD-ND"
      }
    },
    {
      "cell_type": "markdown",
      "source": [
        "Q 3 What is an object in OOP ?\n",
        "\n",
        "Answer - In OOP, an object is an instance of a class. It represents a real-world entity with attributes (data) and methods (behavior). Objects are created from classes and can interact with each other. Each object has its own unique state but shares the structure defined by the class.\n"
      ],
      "metadata": {
        "id": "OvyuvJdZEVzz"
      }
    },
    {
      "cell_type": "markdown",
      "source": [
        "Q 4 . What is the difference between abstraction and encapsulation ?\n",
        "\n",
        "Answer -\n",
        "\n",
        "1 . Abstraction in Python : In Python, abstraction is a key idea in object-oriented programming (OOP) that\n",
        "allows you to describe complicated systems by hiding unneeded details and exposing just essential aspects.\n",
        "It aids in the management of programme complexity by breaking it down into smaller, more manageable\n",
        "sections.\n",
        "\n",
        "2.Encapsulation in Python : Encapsulation is a Python technique for combining data and functions into a\n",
        "single object. A class, for instance, contains all the data (methods and variables). Encapsulation refers to the\n",
        "broad concealment of an object's internal representation from areas outside of its specification."
      ],
      "metadata": {
        "id": "OKw4vLwXEqqB"
      }
    },
    {
      "cell_type": "markdown",
      "source": [
        "Q 5  What are dunder methods in Python ?\n",
        "\n",
        "Answer - Dunder methods, also known as magic methods or special methods, in Python are special reserved methods\n",
        "that are surrounded by double underscores (i.e., __method__). These methods allow you to define how\n",
        "instances of your classes behave when they are used with built-in Python functions or operators. Understanding\n",
        "dunder methods is crucial for creating custom objects that behave like built-in types or implementing operator\n",
        "overloading in Python. Here's a detailed explanation of some commonly used dunder methods:\n",
        "\n",
        "- __init__(self, ...):\n",
        "- __str__(self):\n",
        "- __repr__(self):\n",
        "- __add__(self, other):\n",
        "- __eq__(self, other):"
      ],
      "metadata": {
        "id": "vhzCNP73FPg-"
      }
    },
    {
      "cell_type": "markdown",
      "source": [
        "Q 6 Explain the concept of inheritance in OOP ?\n",
        "\n",
        "Answer - Inheritance in Object-Oriented Programming (OOP) is the concept where one class (called the child or subclass) inherits properties and behaviors (attributes and methods) from another class (called the parent or superclass). It promotes code reusability and allows for building hierarchical relationships between classes.\n",
        "\n"
      ],
      "metadata": {
        "id": "_Zi-JNBcF5nM"
      }
    },
    {
      "cell_type": "markdown",
      "source": [
        "Q 7  What is polymorphism in OOP ?\n",
        "\n",
        "Answer - Polymorphism in Python: In OOP, polymorphism refers to an object's capacity to assume several forms.\n",
        "Simply said, polymorphism enables us to carry out a single activity in a variety of ways"
      ],
      "metadata": {
        "id": "FnBlduJdGQCQ"
      }
    },
    {
      "cell_type": "markdown",
      "source": [
        "Q 8 H How is encapsulation achieved in Python ?\n",
        "\n",
        "Answer - Encapsulation in Python is achieved by restricting direct access to class variables and methods, and controlling it through public methods (getters and setters).\n",
        "- Public Member : from outside of class, anywhere accessible.\n",
        "- Protected Member : Within the class and its subclasses, accessible.\n",
        "- Private Member : Within the class, accessible.\n"
      ],
      "metadata": {
        "id": "dKufVwjiGdIv"
      }
    },
    {
      "cell_type": "markdown",
      "source": [
        "Q 9  What is a constructor in Python ?\n",
        "\n",
        "Answer - In Python, a constructor is a special method used to initialize objects when a class is instantiated. It is defined using the __init__() method."
      ],
      "metadata": {
        "id": "3bAVtfB0HDSY"
      }
    },
    {
      "cell_type": "code",
      "source": [
        "class Student:\n",
        "    def __init__(self, name, age):\n",
        "        self.name = name\n",
        "        self.age = age\n",
        "\n",
        "s1 = Student(\"Shivam\", 20)\n",
        "print(s1.name, s1.age)\n"
      ],
      "metadata": {
        "colab": {
          "base_uri": "https://localhost:8080/"
        },
        "id": "tohBrJdPHdqY",
        "outputId": "4de79d09-eb74-4b83-dd31-dc0e76a017be"
      },
      "execution_count": null,
      "outputs": [
        {
          "output_type": "stream",
          "name": "stdout",
          "text": [
            "Shivam 20\n"
          ]
        }
      ]
    },
    {
      "cell_type": "markdown",
      "source": [
        "Q 10 What are class and static methods in Python ?\n",
        "\n",
        "Answer -\n",
        "\n",
        "1 . Class Method - Class methods are methods that are bound to the class and not the instance of the class. They can access or\n",
        "modify class state that applies across all instances of the class. Class methods are defined using the @classmethod decorator.\n",
        "\n",
        "2 . Static method -\n",
        "Static methods are methods that belong to the class and don't access or modify class or instance state. They\n",
        "are defined using the @staticmethod decorator."
      ],
      "metadata": {
        "id": "0tL7-IX8ICGn"
      }
    },
    {
      "cell_type": "code",
      "source": [
        "# class method\n",
        "class Student:\n",
        "    # Class variable to keep track of the total number of students\n",
        "    total_students = 0\n",
        "\n",
        "    def __init__(self, name):\n",
        "        self.name = name\n",
        "        Student.total_students += 1\n",
        "\n",
        "    @classmethod\n",
        "    def get_total_students(cls):\n",
        "        return cls.total_students\n",
        "\n",
        "# Creating student objects\n",
        "student1 = Student(\"Alice\")\n",
        "student2 = Student(\"Bob\")\n",
        "\n",
        "# Accessing the class method\n",
        "print(\"Total students:\", Student.get_total_students())\n"
      ],
      "metadata": {
        "colab": {
          "base_uri": "https://localhost:8080/"
        },
        "id": "Cp_94Gu-IY9J",
        "outputId": "96b4c5c3-31c2-4f15-c3aa-c4072cdbb4c0"
      },
      "execution_count": null,
      "outputs": [
        {
          "output_type": "stream",
          "name": "stdout",
          "text": [
            "Total students: 2\n"
          ]
        }
      ]
    },
    {
      "cell_type": "code",
      "execution_count": null,
      "metadata": {
        "colab": {
          "base_uri": "https://localhost:8080/"
        },
        "id": "dagO2PfMDUdr",
        "outputId": "54043428-20b7-45a6-c112-6d149583e58e"
      },
      "outputs": [
        {
          "output_type": "stream",
          "name": "stdout",
          "text": [
            "5\n",
            "6\n"
          ]
        }
      ],
      "source": [
        "# static method\n",
        "\n",
        "class Calculator:\n",
        "    @staticmethod\n",
        "    def add(a, b):\n",
        "        return a + b\n",
        "\n",
        "    @staticmethod\n",
        "    def multiply(a, b):\n",
        "        return a * b\n",
        "\n",
        "# using static method\n",
        "print(Calculator.add(2, 3))\n",
        "print(Calculator.multiply(2, 3))\n",
        "\n",
        "\n"
      ]
    },
    {
      "cell_type": "markdown",
      "source": [
        "Q 11 What is method overloading in Python ?\n",
        "\n"
      ],
      "metadata": {
        "id": "-zYrF6rSJsiw"
      }
    },
    {
      "cell_type": "markdown",
      "source": [
        "Answer = Method Overloading in Python refers to the ability to define multiple methods in the same class with the same name but different number or types of arguments."
      ],
      "metadata": {
        "id": "9PK3HN2afZCz"
      }
    },
    {
      "cell_type": "code",
      "source": [
        "class Calculator:\n",
        "    def add(self, a=0, b=0, c=0):\n",
        "        return a + b + c\n",
        "\n",
        "calc = Calculator()\n",
        "print(calc.add())\n",
        "print(calc.add(5, 10))\n",
        "print(calc.add(1, 2, 3))\n"
      ],
      "metadata": {
        "colab": {
          "base_uri": "https://localhost:8080/"
        },
        "id": "4n6WVBQYfiXq",
        "outputId": "a053f833-eab1-4956-cd21-85807c87636b"
      },
      "execution_count": 19,
      "outputs": [
        {
          "output_type": "stream",
          "name": "stdout",
          "text": [
            "0\n",
            "15\n",
            "6\n"
          ]
        }
      ]
    },
    {
      "cell_type": "markdown",
      "source": [
        "Q 12 What is method overriding in OOP\n",
        "\n",
        "Answer -Method Overriding occurs when a subclass provides a specific implementation of a method that is already defined in its parent class. The overridden method in the subclass replaces the version in the parent class.\n"
      ],
      "metadata": {
        "id": "oyEJI8x4KcNX"
      }
    },
    {
      "cell_type": "code",
      "source": [
        "class Animal:\n",
        "  def speak(self):\n",
        "    print(\"Animal spaeaks\")\n",
        "\n",
        "class Dog(Animal):\n",
        "  def speak(self):\n",
        "    print(\"Dog barks\")\n",
        "\n",
        "class Cat(Animal):\n",
        "  def speak(self):\n",
        "    print(\"Cat meows\")"
      ],
      "metadata": {
        "id": "_orxRf2lKk3a"
      },
      "execution_count": null,
      "outputs": []
    },
    {
      "cell_type": "code",
      "source": [
        "a = Animal()\n",
        "a.speak()"
      ],
      "metadata": {
        "colab": {
          "base_uri": "https://localhost:8080/"
        },
        "id": "Zt-ThqhfLCXW",
        "outputId": "cd4f9274-2f69-4966-a50f-7437e521d58e"
      },
      "execution_count": null,
      "outputs": [
        {
          "output_type": "stream",
          "name": "stdout",
          "text": [
            "Animal spaeaks\n"
          ]
        }
      ]
    },
    {
      "cell_type": "code",
      "source": [
        "d = Dog()\n",
        "d.speak()"
      ],
      "metadata": {
        "colab": {
          "base_uri": "https://localhost:8080/"
        },
        "id": "2Ip1zMRmKx3S",
        "outputId": "25c1d7a0-0cdb-4839-f8df-725f6e7a8321"
      },
      "execution_count": null,
      "outputs": [
        {
          "output_type": "stream",
          "name": "stdout",
          "text": [
            "Dog barks\n"
          ]
        }
      ]
    },
    {
      "cell_type": "code",
      "source": [
        "c = Cat()\n",
        "c.speak()\n"
      ],
      "metadata": {
        "colab": {
          "base_uri": "https://localhost:8080/"
        },
        "id": "_NedGQU5Kx6j",
        "outputId": "4d4a39b8-b025-4298-ebd1-21796f178207"
      },
      "execution_count": null,
      "outputs": [
        {
          "output_type": "stream",
          "name": "stdout",
          "text": [
            "Cat meows\n"
          ]
        }
      ]
    },
    {
      "cell_type": "markdown",
      "source": [
        "Q 13 What is a property decorator in Python ?\n",
        "\n",
        "Answer - The @property decorator in Python is used to turn a method into a \"read-only\" attribute. It allows you to access method results like attributes, without using parentheses."
      ],
      "metadata": {
        "id": "VnryTrFdLGxq"
      }
    },
    {
      "cell_type": "code",
      "source": [
        "class Student:\n",
        "    def __init__(self, name):\n",
        "        self._name = name\n",
        "\n",
        "    @property\n",
        "    def name(self):\n",
        "        return self._name\n",
        "\n",
        "s = Student(\"Shivam\")\n",
        "print(s.name)\n"
      ],
      "metadata": {
        "colab": {
          "base_uri": "https://localhost:8080/"
        },
        "id": "4jeL0e9LLZdl",
        "outputId": "585e0368-16c8-4446-be58-e95eda97a822"
      },
      "execution_count": null,
      "outputs": [
        {
          "output_type": "stream",
          "name": "stdout",
          "text": [
            "Shivam\n"
          ]
        }
      ]
    },
    {
      "cell_type": "markdown",
      "source": [
        "Q 14 Why is polymorphism important in OOP ?\n",
        "\n",
        "Answer - Polymorphism allows objects of different classes to be treated as objects of a common parent class, enabling a single function or method to work with different types of objects."
      ],
      "metadata": {
        "id": "fEFff4qgLerw"
      }
    },
    {
      "cell_type": "code",
      "source": [
        "class Animal:\n",
        "  def speak(self):\n",
        "    print(\"Animal spaeaks\")\n",
        "\n",
        "class Dog(Animal):\n",
        "  def speak(self):\n",
        "    print(\"Dog barks\")\n",
        "\n",
        "class Cat(Animal):\n",
        "  def speak(self):\n",
        "    print(\"Cat meows\")"
      ],
      "metadata": {
        "id": "ZYdNeYChLeO5"
      },
      "execution_count": null,
      "outputs": []
    },
    {
      "cell_type": "code",
      "source": [
        "a = Animal()\n",
        "a.speak()"
      ],
      "metadata": {
        "colab": {
          "base_uri": "https://localhost:8080/"
        },
        "id": "iHItnUOeMFeR",
        "outputId": "9a12f55b-b6d3-4368-d33d-969c107da12a"
      },
      "execution_count": null,
      "outputs": [
        {
          "output_type": "stream",
          "name": "stdout",
          "text": [
            "Animal spaeaks\n"
          ]
        }
      ]
    },
    {
      "cell_type": "code",
      "source": [
        "d = Dog()\n",
        "d.speak()"
      ],
      "metadata": {
        "colab": {
          "base_uri": "https://localhost:8080/"
        },
        "id": "3A_dw8nEMFin",
        "outputId": "e4465a8f-69bb-418e-f05d-f0df54986e4a"
      },
      "execution_count": null,
      "outputs": [
        {
          "output_type": "stream",
          "name": "stdout",
          "text": [
            "Dog barks\n"
          ]
        }
      ]
    },
    {
      "cell_type": "code",
      "source": [
        "c = Cat()\n",
        "c.speak()"
      ],
      "metadata": {
        "colab": {
          "base_uri": "https://localhost:8080/"
        },
        "id": "CP3EFUTpMFmg",
        "outputId": "8daef66f-83ac-4345-c7b0-5c97f4c420b4"
      },
      "execution_count": null,
      "outputs": [
        {
          "output_type": "stream",
          "name": "stdout",
          "text": [
            "Cat meows\n"
          ]
        }
      ]
    },
    {
      "cell_type": "markdown",
      "source": [
        "Q 15 .  What is an abstract class in Python ?\n",
        "\n",
        "Answer - An abstract class in Python is a class that cannot be instantiated directly. It is used to define a common interface or blueprint for other classes. Abstract classes may have abstract methods (methods without implementation) that must be implemented by any subclass."
      ],
      "metadata": {
        "id": "JqMlLNxdMW-Z"
      }
    },
    {
      "cell_type": "code",
      "source": [
        "from abc import ABC , abstractmethod\n",
        "class Animal(ABC):\n",
        "  @abstractmethod\n",
        "  def speak(self):\n",
        "    pass\n",
        "\n",
        "class Dog(Animal):\n",
        "  def speak(self):\n",
        "    print(\"Dog barks\")\n",
        "\n",
        "class Cat(Animal):\n",
        "  def speak(self):\n",
        "    print(\"Cat meows\")"
      ],
      "metadata": {
        "id": "gWqHXwHjM9d3"
      },
      "execution_count": null,
      "outputs": []
    },
    {
      "cell_type": "code",
      "source": [
        "dog = Dog()\n",
        "dog.speak()"
      ],
      "metadata": {
        "colab": {
          "base_uri": "https://localhost:8080/"
        },
        "id": "W2kH5xPANN1U",
        "outputId": "ccbe6f2a-bc7c-4d1e-cf55-a5d4232ee72e"
      },
      "execution_count": null,
      "outputs": [
        {
          "output_type": "stream",
          "name": "stdout",
          "text": [
            "Dog barks\n"
          ]
        }
      ]
    },
    {
      "cell_type": "markdown",
      "source": [
        "Q 16 What are the advantages of OOP ?\n",
        "\n",
        "Answer -\n",
        "\n",
        "- Modularity – Code is divided into classes, making it organized and manageable.\n",
        "\n",
        "- Reusability – Inheritance lets you reuse existing code across new classes.\n",
        "\n",
        "- Encapsulation – Keeps data safe by hiding internal object details.\n",
        "\n",
        "- Polymorphism – Same method works differently for different objects.\n",
        "\n",
        "- Maintainability – Easier to update or fix code without affecting other parts.\n"
      ],
      "metadata": {
        "id": "Aun7TvWTNfKM"
      }
    },
    {
      "cell_type": "markdown",
      "source": [
        "Q 17 What is the difference between a class variable and an instance variable ?\n",
        "\n",
        "Answer -\n",
        "- Class Variable: A variable that is shared by all instances of a class and is defined inside the class but outside any instance methods.\n",
        "\n",
        "- Instance Variable: A variable that is unique to each object (instance) and is defined inside the constructor using self.\n"
      ],
      "metadata": {
        "id": "B3fUyn0LN9Wm"
      }
    },
    {
      "cell_type": "code",
      "source": [
        "class Student:\n",
        "    school_name = \"ABC School\"      # Class variable\n",
        "\n",
        "    def __init__(self, name):\n",
        "        self.name = name            # Instance variable\n"
      ],
      "metadata": {
        "id": "Ovy9RZALOSaY"
      },
      "execution_count": null,
      "outputs": []
    },
    {
      "cell_type": "markdown",
      "source": [
        "Q 18 What is multiple inheritance in Python ?\n",
        "\n",
        "Answer\n",
        "\n",
        "- Multiple inheritance : One child class may inherit from several parent classes when there is multiple\n",
        "inheritance\n",
        "\n"
      ],
      "metadata": {
        "id": "BDmjHNjoOdTd"
      }
    },
    {
      "cell_type": "code",
      "source": [
        "class ParentClass1:\n",
        "  def method1(self):\n",
        "    print(\"Method 1 from parent class \")\n",
        "class ParentClass2:\n",
        "  def method2(self):\n",
        "    print(\"Method 2 from parent class \")\n",
        "class ChildClass(ParentClass1,ParentClass2):\n",
        "  def ChildClass(self):\n",
        "    print(\"Child Class\")"
      ],
      "metadata": {
        "id": "d90LqC74Ov7x"
      },
      "execution_count": null,
      "outputs": []
    },
    {
      "cell_type": "code",
      "source": [
        "child = ChildClass()\n",
        "child.method1()\n",
        "child.method2()\n"
      ],
      "metadata": {
        "colab": {
          "base_uri": "https://localhost:8080/"
        },
        "id": "AL9b8o-GOcZ9",
        "outputId": "3a1974c7-3cde-48b2-c3f5-89112408544c"
      },
      "execution_count": null,
      "outputs": [
        {
          "output_type": "stream",
          "name": "stdout",
          "text": [
            "Method 1 from parent class \n",
            "Method 2 from parent class \n"
          ]
        }
      ]
    },
    {
      "cell_type": "markdown",
      "source": [
        "Q 19 H Explain the purpose of ‘’__str__’ and ‘__repr__’ ‘ methods in Python ?\n",
        "\n",
        "Answer -\n",
        "\n",
        "- __str__(self): This method is called when the str() function is used on an instance of the class. It should\n",
        "return a string representation of the object.\n",
        "- __repr__(self): This method is called when the repr() function is used on an instance of the class. It\n",
        "should return an unambiguous string representation of the object, which can be used to recreate the\n",
        "object.\n"
      ],
      "metadata": {
        "id": "cO4D7uhQPn4N"
      }
    },
    {
      "cell_type": "code",
      "source": [
        "# __str__(self)\n",
        "\n",
        "class Student:\n",
        "    def __init__(self, name, age):\n",
        "        self.name = name\n",
        "        self.age = age\n",
        "\n",
        "    def __str__(self):\n",
        "       return f\"Name: {self.name}, Age: {self.age}\"\n",
        "\n",
        "s1 = Student(\"Shivam\", 20)\n",
        "print(s1)\n",
        "\n"
      ],
      "metadata": {
        "colab": {
          "base_uri": "https://localhost:8080/"
        },
        "id": "aHhl25mhA66N",
        "outputId": "218d38b5-c88a-4bad-c26a-62fa566f98a2"
      },
      "execution_count": 2,
      "outputs": [
        {
          "output_type": "stream",
          "name": "stdout",
          "text": [
            "Name: Shivam, Age: 20\n"
          ]
        }
      ]
    },
    {
      "cell_type": "code",
      "source": [
        "# __repr__ (self)\n",
        "\n",
        "\n",
        "class Student:\n",
        "  def __init__(self, name, age):\n",
        "    self.name = name\n",
        "    self.age = age\n",
        "\n",
        "  def __repr__(self):\n",
        "    return f\"Student(name={self.name}, age={self.age})\""
      ],
      "metadata": {
        "id": "tm5QDXchPnnh"
      },
      "execution_count": 4,
      "outputs": []
    },
    {
      "cell_type": "code",
      "source": [
        "  s1 = Student(\"Shivam\", 20)\n",
        "  print(s1)"
      ],
      "metadata": {
        "colab": {
          "base_uri": "https://localhost:8080/"
        },
        "id": "ZDw7CGRuBjQ2",
        "outputId": "4c273386-9f3f-41eb-fe8c-309a0b7845a5"
      },
      "execution_count": 5,
      "outputs": [
        {
          "output_type": "stream",
          "name": "stdout",
          "text": [
            "Student(name=Shivam, age=20)\n"
          ]
        }
      ]
    },
    {
      "cell_type": "markdown",
      "source": [
        "Q 20 . What is the significance of the ‘super()’ function in Python ?\n",
        "\n",
        "\n",
        "Answer - The super() function in Python is used to call methods from the parent (super) class inside a subclass. It is commonly used in inheritance to access the parent class’s constructor or methods without directly referring to the parent’s name."
      ],
      "metadata": {
        "id": "ixsI8Px6Bqk3"
      }
    },
    {
      "cell_type": "code",
      "source": [
        "class Parent:\n",
        "  def __init__(self):\n",
        "    print(\"Parent constructor\")\n",
        "\n",
        "class Child:\n",
        "  def __init__(self) :\n",
        "    print(\"Child constructor\")\n",
        "    super().__init__()\n",
        ""
      ],
      "metadata": {
        "id": "sn3ZUVQWBjT_"
      },
      "execution_count": 6,
      "outputs": []
    },
    {
      "cell_type": "code",
      "source": [
        "c = Child()"
      ],
      "metadata": {
        "colab": {
          "base_uri": "https://localhost:8080/"
        },
        "id": "a_kNc6nqBjWj",
        "outputId": "08cf65ee-284e-461a-a915-ca014c5f8852"
      },
      "execution_count": 8,
      "outputs": [
        {
          "output_type": "stream",
          "name": "stdout",
          "text": [
            "Child constructor\n"
          ]
        }
      ]
    },
    {
      "cell_type": "markdown",
      "source": [
        "Q 21 . What is the significance of the __del__ method in Python ?\n",
        "\n",
        "Answer - The __del__ method is a destructor in Python. It is automatically called when an object is about to be destroyed (i.e., garbage collected). It is used to perform cleanup actions, such as closing files or releasing external resources."
      ],
      "metadata": {
        "id": "MHBz6eYlCkcR"
      }
    },
    {
      "cell_type": "code",
      "source": [
        "class Student:\n",
        "    def __init__(self, name):\n",
        "        self.name = name\n",
        "        print(f\"Student {self.name} has been created.\")\n",
        "\n",
        "    def __del__(self):\n",
        "        print(f\"Student {self.name} has been deleted.\")\n",
        "\n",
        "# Creating and deleting an object\n",
        "s1 = Student(\"Shivam\")\n",
        "del s1  # Triggers __del__ method\n",
        "\n"
      ],
      "metadata": {
        "colab": {
          "base_uri": "https://localhost:8080/"
        },
        "id": "qi-6cnNuC4WH",
        "outputId": "3d0ccd0b-17e9-4864-e1c5-cbaca238428c"
      },
      "execution_count": 19,
      "outputs": [
        {
          "output_type": "stream",
          "name": "stdout",
          "text": [
            "Student Shivam has been created.\n",
            "Student Shivam has been deleted.\n"
          ]
        }
      ]
    },
    {
      "cell_type": "markdown",
      "source": [
        "Q 22  What is the difference between @staticmethod and @classmethod in Python?\n",
        "\n",
        "Answer -\n",
        "\n",
        "- @staticmethod = Static methods are methods that belong to the class and don't access or modify class or instance state. They\n",
        "are defined using the @staticmethod decorator.\n",
        "\n",
        "\n",
        "- @classmethod = Class methods are methods that are bound to the class and not the instance of the class. They can access or\n",
        "modify class state that applies across all instances of the class. Class methods are defined using the\n",
        "@classmethod decorator.\n",
        "\n",
        " - Belongs to the Class: Class methods are associated with the class rather than a specific instance. They\n",
        "operate on class-level data that applies to all instances of the class.\n",
        "\n",
        " -  Access to Class Variables: Class methods can access and modify class variables, which are shared by all\n",
        "instances of the class. This makes them useful for tasks that involve manipulating shared data.\n",
        " - Use Cases: Class methods are often used to create utility functions that perform operations related to the\n",
        "class but don't depend on specific instance data.\n",
        "\n"
      ],
      "metadata": {
        "id": "P6LUacR7D0lx"
      }
    },
    {
      "cell_type": "code",
      "source": [
        "# static method\n",
        "# static method\n",
        "\n",
        "class Calculator:\n",
        "    @staticmethod\n",
        "    def add(a, b):\n",
        "        return a + b\n",
        "\n",
        "    @staticmethod\n",
        "    def multiply(a, b):\n",
        "        return a * b\n",
        "\n",
        "# using static method\n",
        "print(Calculator.add(2, 3))\n",
        "print(Calculator.multiply(2, 3))\n"
      ],
      "metadata": {
        "colab": {
          "base_uri": "https://localhost:8080/"
        },
        "id": "VT1rH211DLvS",
        "outputId": "12aaeb87-1264-48a0-f370-84b36d89ea8d"
      },
      "execution_count": 21,
      "outputs": [
        {
          "output_type": "stream",
          "name": "stdout",
          "text": [
            "5\n",
            "6\n"
          ]
        }
      ]
    },
    {
      "cell_type": "code",
      "source": [
        "# class method\n",
        "class Student:\n",
        "    # Class variable to keep track of the total number of students\n",
        "    total_students = 0\n",
        "\n",
        "    def __init__(self, name):\n",
        "        self.name = name\n",
        "        Student.total_students += 1\n",
        "\n",
        "    @classmethod\n",
        "    def get_total_students(cls):\n",
        "        return cls.total_students\n",
        "\n",
        "# Creating student objects\n",
        "student1 = Student(\"Alice\")\n",
        "student2 = Student(\"Bob\")\n",
        "\n",
        "# Accessing the class method\n",
        "print(\"Total students:\", Student.get_total_students())\n"
      ],
      "metadata": {
        "colab": {
          "base_uri": "https://localhost:8080/"
        },
        "id": "XLSdARFTFouv",
        "outputId": "6bcf1d5e-4311-4373-f6a6-9e50119d80ae"
      },
      "execution_count": 20,
      "outputs": [
        {
          "output_type": "stream",
          "name": "stdout",
          "text": [
            "Total students: 2\n"
          ]
        }
      ]
    },
    {
      "cell_type": "markdown",
      "source": [
        "Q 23 - How does polymorphism work in Python with inheritance ?\n",
        "\n",
        "Answer - n Python, polymorphism allows objects of different classes (that share a common parent) to be used interchangeably, especially when inheriting from a base class. This works by overriding methods in child classes, allowing the same method name to behave differently"
      ],
      "metadata": {
        "id": "c-II6r9FFw8O"
      }
    },
    {
      "cell_type": "code",
      "source": [
        "class Animal:\n",
        "    def speak(self):\n",
        "        print(\"Animal speaks\")\n",
        "\n",
        "class Dog(Animal):\n",
        "    def speak(self):\n",
        "        print(\"Dog barks\")\n",
        "\n",
        "class Cat(Animal):\n",
        "    def speak(self):\n",
        "        print(\"Cat meows\")\n",
        "\n",
        "# Function that uses polymorphism\n",
        "def make_sound(animal):\n",
        "    animal.speak()\n",
        "\n",
        "# All are treated as Animal, but behave differently\n",
        "make_sound(Dog())\n",
        "make_sound(Cat())\n"
      ],
      "metadata": {
        "colab": {
          "base_uri": "https://localhost:8080/"
        },
        "id": "7465uYdpGGXa",
        "outputId": "f8df2531-971b-415e-b89e-b0943bc41ae7"
      },
      "execution_count": 22,
      "outputs": [
        {
          "output_type": "stream",
          "name": "stdout",
          "text": [
            "Dog barks\n",
            "Cat meows\n"
          ]
        }
      ]
    },
    {
      "cell_type": "markdown",
      "source": [
        "Q 24 What is method chaining in Python OOP ?\n",
        "\n",
        "Answer = Method chaining is a technique in Python where multiple methods are called sequentially on the same object in a single line, by having each method return self."
      ],
      "metadata": {
        "id": "8KXYc4zmGPKO"
      }
    },
    {
      "cell_type": "code",
      "source": [
        "class Student:\n",
        "    def __init__(self, name):\n",
        "        self.name = name\n",
        "        self.marks = 0\n",
        "\n",
        "    def set_marks(self, marks):\n",
        "        self.marks = marks\n",
        "        return self\n",
        "\n",
        "    def display(self):\n",
        "        print(f\"Name: {self.name}, Marks: {self.marks}\")\n",
        "        return self\n",
        "\n",
        "# Method chaining\n",
        "Student(\"Shivam\").set_marks(90).display()\n",
        "\n"
      ],
      "metadata": {
        "colab": {
          "base_uri": "https://localhost:8080/"
        },
        "id": "ClzDQeHdGOPt",
        "outputId": "2cf7f11b-8e6c-4210-97a6-2332321cbbf7"
      },
      "execution_count": 24,
      "outputs": [
        {
          "output_type": "stream",
          "name": "stdout",
          "text": [
            "Name: Shivam, Marks: 90\n"
          ]
        },
        {
          "output_type": "execute_result",
          "data": {
            "text/plain": [
              "<__main__.Student at 0x7b0f8a8bcf50>"
            ]
          },
          "metadata": {},
          "execution_count": 24
        }
      ]
    },
    {
      "cell_type": "markdown",
      "source": [
        "Q 25 . What is the purpose of the __call__ method in Python?\n",
        "\n",
        "Answer = The __call__() method allows an instance of a class to be called like a regular function. When you use object(), Python internally runs object.__call__(). This makes objects callable, just like functions.\n",
        "\n"
      ],
      "metadata": {
        "id": "7DTvWqSpGtPL"
      }
    },
    {
      "cell_type": "code",
      "source": [
        "class Greet:\n",
        "    def __init__(self, name):\n",
        "        self.name = name\n",
        "\n",
        "    def __call__(self):\n",
        "        print(f\"Hello, {self.name}!\")\n",
        "\n",
        "g = Greet(\"Shivam\")\n",
        "g()\n"
      ],
      "metadata": {
        "colab": {
          "base_uri": "https://localhost:8080/"
        },
        "id": "pNqHR_xpG9pv",
        "outputId": "ea5cf756-cd8b-4fc6-8b13-47ad005a33d3"
      },
      "execution_count": 30,
      "outputs": [
        {
          "output_type": "stream",
          "name": "stdout",
          "text": [
            "Hello, Shivam!\n"
          ]
        }
      ]
    },
    {
      "cell_type": "markdown",
      "source": [
        "**PRACTICAL QUESTION **"
      ],
      "metadata": {
        "id": "bUQSSnLZHiF7"
      }
    },
    {
      "cell_type": "markdown",
      "source": [
        "Q1 .  Create a parent class Animal with a method speak() that prints a generic message. Create a child class Dog\n",
        "that overrides the speak() method to print \"Bark!\" ?\n",
        "\n",
        "Answer"
      ],
      "metadata": {
        "id": "LbRxzPyBHrRF"
      }
    },
    {
      "cell_type": "code",
      "source": [
        "class Animal:\n",
        "  def speak(self):\n",
        "    print(\"Animal speaks\")\n",
        "\n",
        "class Dog(Animal):\n",
        "  def speak(self):\n",
        "    print(\"Dog barks\")\n"
      ],
      "metadata": {
        "id": "W9oPuZ_rHSH-"
      },
      "execution_count": 33,
      "outputs": []
    },
    {
      "cell_type": "code",
      "source": [
        "d1 = Dog()\n",
        "d1.speak()"
      ],
      "metadata": {
        "colab": {
          "base_uri": "https://localhost:8080/"
        },
        "id": "pCfpp3XbH1G3",
        "outputId": "e7f9dcf5-a90d-4e22-8c20-84bdc7fabf7f"
      },
      "execution_count": 34,
      "outputs": [
        {
          "output_type": "stream",
          "name": "stdout",
          "text": [
            "Dog barks\n"
          ]
        }
      ]
    },
    {
      "cell_type": "markdown",
      "source": [
        "Q 2 . Write a program to create an abstract class Shape with a method area(). Derive classes Circle and Rectangle\n",
        "from it and implement the area() method in both.\n",
        "\n",
        "Answer ="
      ],
      "metadata": {
        "id": "KyAMUtZpIFoD"
      }
    },
    {
      "cell_type": "code",
      "source": [
        "class Shape:\n",
        "  def area(self):\n",
        "    pass\n",
        "\n",
        "class Circle(Shape):\n",
        "  def __init__(self,radius):\n",
        "    self.radius = radius\n",
        "  def area(self):\n",
        "    return 3.14*self.radius*self.radius\n",
        "\n",
        "class Rectangle(Shape):\n",
        "  def __init__(self,length,width):\n",
        "    self.length = length\n",
        "    self.width = width\n",
        "  def area(self):\n",
        "    return self.length*self.width\n",
        "\n"
      ],
      "metadata": {
        "id": "ujqDPdulIKjj"
      },
      "execution_count": 38,
      "outputs": []
    },
    {
      "cell_type": "code",
      "source": [
        "c = Circle(9)\n",
        "r = Rectangle(9,8)\n",
        "\n",
        "print(\"Area of Circle:\", round(c.area(), 2))\n",
        "print(\"Area of Rectangle:\", r.area())"
      ],
      "metadata": {
        "colab": {
          "base_uri": "https://localhost:8080/"
        },
        "id": "MdFHQe0FI7PP",
        "outputId": "d744a6d9-37c8-4d48-bd10-6746ff909c33"
      },
      "execution_count": 40,
      "outputs": [
        {
          "output_type": "stream",
          "name": "stdout",
          "text": [
            "Area of Circle: 254.34\n",
            "Area of Rectangle: 72\n"
          ]
        }
      ]
    },
    {
      "cell_type": "markdown",
      "source": [
        "Q 3 Implement a multi-level inheritance scenario where a class Vehicle has an attribute type. Derive a class Car\n",
        "and further derive a class ElectricCar that adds a battery attribute ?\n",
        "\n",
        "Answer ="
      ],
      "metadata": {
        "id": "wwPLyF9HJYVu"
      }
    },
    {
      "cell_type": "code",
      "source": [
        "\n",
        "\n",
        "# Derived class from Vehicle\n",
        "class Car(Vehicle):\n",
        "    def __init__(self, vehicle_type, brand):\n",
        "        super().__init__(vehicle_type)\n",
        "        self.brand = brand\n",
        "\n",
        "    def show_brand(self):\n",
        "        print(\"Car Brand:\", self.brand)\n",
        "\n",
        "# Derived class from Car (multi-level inheritance)\n",
        "class ElectricCar(Car):\n",
        "    def __init__(self, vehicle_type, brand, battery_capacity):\n",
        "        super().__init__(vehicle_type, brand)\n",
        "        self.battery_capacity = battery_capacity\n",
        "\n",
        "    def show_battery(self):\n",
        "        print(\"Battery Capacity:\", self.battery_capacity, \"kWh\")\n",
        "\n",
        "# Creating an object of ElectricCar\n",
        "e_car = ElectricCar(\"Four Wheeler\", \"Tesla\", 75)\n",
        "\n",
        "# Displaying information\n",
        "e_car.show_type()\n",
        "e_car.show_brand()\n",
        "e_car.show_battery()\n"
      ],
      "metadata": {
        "colab": {
          "base_uri": "https://localhost:8080/"
        },
        "id": "v4u_xAr8JeiA",
        "outputId": "3c8c670e-bf40-4691-c7ba-72254140b66d"
      },
      "execution_count": 49,
      "outputs": [
        {
          "output_type": "stream",
          "name": "stdout",
          "text": [
            "Vehicle Type: Four Wheeler\n",
            "Car Brand: Tesla\n",
            "Battery Capacity: 75 kWh\n"
          ]
        }
      ]
    },
    {
      "cell_type": "markdown",
      "source": [
        "Q 4  Demonstrate polymorphism by creating a base class Bird with a method fly(). Create two derived classes\n",
        "Sparrow and Penguin that override the fly() method.\n"
      ],
      "metadata": {
        "id": "Ddwe0Mo3Lhds"
      }
    },
    {
      "cell_type": "code",
      "source": [
        "class Bird:\n",
        "    def fly(self):\n",
        "        print(\"Bird is flying\")\n",
        "\n",
        "class Sparrow(Bird):\n",
        "    def fly(self):\n",
        "        print(\"Sparrow is flying\")\n",
        "\n",
        "class Penguin(Bird):\n",
        "    def fly(self):\n",
        "        print(\"Penguin is not flying\")"
      ],
      "metadata": {
        "id": "qm73l__nKBn8"
      },
      "execution_count": 50,
      "outputs": []
    },
    {
      "cell_type": "code",
      "source": [
        "s1 = Sparrow()\n",
        "s1.fly()"
      ],
      "metadata": {
        "colab": {
          "base_uri": "https://localhost:8080/"
        },
        "id": "GzdkXvTfLn0B",
        "outputId": "84a03c63-b288-4558-87fd-82e141e4ac5e"
      },
      "execution_count": 52,
      "outputs": [
        {
          "output_type": "stream",
          "name": "stdout",
          "text": [
            "Sparrow is flying\n"
          ]
        }
      ]
    },
    {
      "cell_type": "code",
      "source": [
        "p1 = Penguin()\n",
        "p1.fly()"
      ],
      "metadata": {
        "colab": {
          "base_uri": "https://localhost:8080/"
        },
        "id": "Dzx9pFQELt5f",
        "outputId": "d4e16f2a-7703-4704-cb77-02ec6989256c"
      },
      "execution_count": 53,
      "outputs": [
        {
          "output_type": "stream",
          "name": "stdout",
          "text": [
            "Penguin is not flying\n"
          ]
        }
      ]
    },
    {
      "cell_type": "markdown",
      "source": [
        "Q 5 . Write a program to demonstrate encapsulation by creating a class BankAccount with private attributes\n",
        "balance and methods to deposit, withdraw, and check balance ?\n",
        "\n",
        "Answer ="
      ],
      "metadata": {
        "id": "Xw6TQQqqL7jn"
      }
    },
    {
      "cell_type": "code",
      "source": [
        "class BankAccount:\n",
        "    def __init__(self, initial_balance=0):\n",
        "        self.__balance = initial_balance  # Private attribute\n",
        "\n",
        "    def deposit(self, amount):\n",
        "        if amount > 0:\n",
        "            self.__balance += amount\n",
        "            print(f\"Deposited: ₹{amount}\")\n",
        "        else:\n",
        "            print(\"Invalid deposit amount!\")\n",
        "\n",
        "    def withdraw(self, amount):\n",
        "        if 0 < amount <= self.__balance:\n",
        "            self.__balance -= amount\n",
        "            print(f\"Withdrew: ₹{amount}\")\n",
        "        else:\n",
        "            print(\"Invalid or insufficient funds for withdrawal!\")\n",
        "\n",
        "    def check_balance(self):\n",
        "        print(f\"Current balance: ₹{self.__balance}\")\n",
        "\n",
        "# Example usage\n",
        "account = BankAccount(1000)\n",
        "account.check_balance()\n",
        "account.deposit(500)\n",
        "account.withdraw(300)\n",
        "account.check_balance()\n",
        "\n"
      ],
      "metadata": {
        "colab": {
          "base_uri": "https://localhost:8080/"
        },
        "id": "rubQL3h3L7SF",
        "outputId": "b2ea6cc5-7fd5-42cf-96c9-c2ef86db6924"
      },
      "execution_count": 13,
      "outputs": [
        {
          "output_type": "stream",
          "name": "stdout",
          "text": [
            "Current balance: ₹1000\n",
            "Deposited: ₹500\n",
            "Withdrew: ₹300\n",
            "Current balance: ₹1200\n"
          ]
        }
      ]
    },
    {
      "cell_type": "markdown",
      "source": [
        "Q 6 Demonstrate runtime polymorphism using a method play() in a base class Instrument. Derive classes Guitar\n",
        "and Piano that implement their own version of play ?\n",
        "\n",
        "Answer -\n",
        "\n",
        "\n"
      ],
      "metadata": {
        "id": "VEmtY1hba1DD"
      }
    },
    {
      "cell_type": "code",
      "source": [
        "# Base class\n",
        "class Instrument:\n",
        "    def play(self):\n",
        "        print(\"Playing an instrument\")\n",
        "\n",
        "# Derived class 1\n",
        "class Guitar(Instrument):\n",
        "    def play(self):\n",
        "        print(\"Strumming the guitar\")\n",
        "\n",
        "# Derived class 2\n",
        "class Piano(Instrument):\n",
        "    def play(self):\n",
        "        print(\"Playing the piano keys\")\n",
        "\n",
        "# Function to demonstrate polymorphism\n",
        "def perform(instrument):\n",
        "    instrument.play()\n",
        "\n",
        "# Creating objects\n",
        "g = Guitar()\n",
        "p = Piano()\n",
        "\n",
        "# Calling the same method via base class reference\n",
        "perform(g)\n",
        "perform(p)\n"
      ],
      "metadata": {
        "colab": {
          "base_uri": "https://localhost:8080/"
        },
        "id": "jzIvRDNFa7nJ",
        "outputId": "2c142801-cb38-408f-c100-888f8e7f028d"
      },
      "execution_count": 3,
      "outputs": [
        {
          "output_type": "stream",
          "name": "stdout",
          "text": [
            "Strumming the guitar\n",
            "Playing the piano keys\n"
          ]
        }
      ]
    },
    {
      "cell_type": "markdown",
      "source": [
        "Q 9  Write a class Fraction with attributes numerator and denominator. Override the str method to display the\n",
        "fraction as \"numerator/denominator\" ?\n",
        "\n",
        "Answer =\n"
      ],
      "metadata": {
        "id": "cO_C-AcRbMjz"
      }
    },
    {
      "cell_type": "code",
      "source": [
        "class Fraction:\n",
        "    def __init__(self, numerator, denominator):\n",
        "        self.numerator = numerator\n",
        "        self.denominator = denominator\n",
        "\n",
        "    def __str__(self):\n",
        "        return f\"{self.numerator}/{self.denominator}\"\n",
        "\n",
        "# Creating an object of Fraction\n",
        "f1 = Fraction(3, 4)\n",
        "\n",
        "# Displaying the fraction\n",
        "print(\"The fraction is:\", f1)\n"
      ],
      "metadata": {
        "colab": {
          "base_uri": "https://localhost:8080/"
        },
        "id": "fPZCZyoJbSea",
        "outputId": "213c0f49-10c2-44d9-f284-4403963528e8"
      },
      "execution_count": 4,
      "outputs": [
        {
          "output_type": "stream",
          "name": "stdout",
          "text": [
            "The fraction is: 3/4\n"
          ]
        }
      ]
    },
    {
      "cell_type": "markdown",
      "source": [
        "Q 10  Demonstrate operator overloading by creating a class Vector and overriding the add method to add two\n",
        "vectors."
      ],
      "metadata": {
        "id": "_3WDonAPbYhi"
      }
    },
    {
      "cell_type": "code",
      "source": [
        "class Vector:\n",
        "    def __init__(self, x, y):\n",
        "        self.x = x\n",
        "        self.y = y\n",
        "\n",
        "    # Overloading + operator using __add__\n",
        "    def __add__(self, other):\n",
        "        return Vector(self.x + other.x, self.y + other.y)\n",
        "\n",
        "    # String representation of the vector\n",
        "    def __str__(self):\n",
        "        return f\"Vector({self.x}, {self.y})\"\n",
        "\n",
        "# Example usage:\n",
        "v1 = Vector(3, 4)\n",
        "v2 = Vector(1, 2)\n",
        "v3 = v1 + v2  # Calls v1.__add__(v2)\n",
        "\n",
        "print(\"Vector 1:\", v1)\n",
        "print(\"Vector 2:\", v2)\n",
        "print(\"Vector 1 + Vector 2 =\", v3)\n"
      ],
      "metadata": {
        "colab": {
          "base_uri": "https://localhost:8080/"
        },
        "id": "yZRyU2LebdaA",
        "outputId": "8302fd77-fe5c-4be4-d980-2606be9b9a44"
      },
      "execution_count": 5,
      "outputs": [
        {
          "output_type": "stream",
          "name": "stdout",
          "text": [
            "Vector 1: Vector(3, 4)\n",
            "Vector 2: Vector(1, 2)\n",
            "Vector 1 + Vector 2 = Vector(4, 6)\n"
          ]
        }
      ]
    },
    {
      "cell_type": "markdown",
      "source": [
        "Q 11 . Create a class Person with attributes name and age. Add a method greet() that prints \"Hello, my name is\n",
        "{name} and I am {age} years old.\""
      ],
      "metadata": {
        "id": "GRCkF3WfblVZ"
      }
    },
    {
      "cell_type": "code",
      "source": [
        "class Person:\n",
        "    def __init__(self, name, age):\n",
        "        self.name = name\n",
        "        self.age = age\n",
        "\n",
        "    def greet(self):\n",
        "        print(f\"Hello, my name is {self.name} and I am {self.age} years old.\")\n",
        "\n",
        "# Example usage\n",
        "person1 = Person(\"Shivam\", 21)\n",
        "person1.greet()\n"
      ],
      "metadata": {
        "colab": {
          "base_uri": "https://localhost:8080/"
        },
        "id": "bW7FyuCWbrZv",
        "outputId": "d7816b60-17cd-4f6a-8173-9387a7fbb171"
      },
      "execution_count": 6,
      "outputs": [
        {
          "output_type": "stream",
          "name": "stdout",
          "text": [
            "Hello, my name is Shivam and I am 21 years old.\n"
          ]
        }
      ]
    },
    {
      "cell_type": "markdown",
      "source": [
        "Q 12 . Implement a class Student with attributes name and grades. Create a method average_grade() to compute\n",
        "the average of the grades.\n",
        "\n",
        "Answer ="
      ],
      "metadata": {
        "id": "HX24C3wLb1EX"
      }
    },
    {
      "cell_type": "code",
      "source": [
        "class Student:\n",
        "    def __init__(self, name, grades):\n",
        "        self.name = name\n",
        "        self.grades = grades  # grades should be a list of numbers\n",
        "\n",
        "    def average_grade(self):\n",
        "        if not self.grades:\n",
        "            return 0\n",
        "        return sum(self.grades) / len(self.grades)\n",
        "\n",
        "# Example usage\n",
        "student1 = Student(\"Shivam\", [85, 90, 78, 92])\n",
        "print(f\"{student1.name}'s average grade is: {student1.average_grade():.2f}\")\n"
      ],
      "metadata": {
        "colab": {
          "base_uri": "https://localhost:8080/"
        },
        "id": "Zi-ES_Ojb0v-",
        "outputId": "e6b65d98-c623-415d-d72f-84122292e0da"
      },
      "execution_count": 9,
      "outputs": [
        {
          "output_type": "stream",
          "name": "stdout",
          "text": [
            "Shivam's average grade is: 86.25\n"
          ]
        }
      ]
    },
    {
      "cell_type": "markdown",
      "source": [
        "Q 13  Create a class Rectangle with methods set_dimensions() to set the dimensions and area() to calculate the\n",
        "area.\n",
        "\n",
        "Answer ="
      ],
      "metadata": {
        "id": "GEIhemI8cK3F"
      }
    },
    {
      "cell_type": "code",
      "source": [
        "class Rectangle:\n",
        "    def __init__(self):\n",
        "        self.length = 0\n",
        "        self.width = 0\n",
        "\n",
        "    def set_dimensions(self, length, width):\n",
        "        self.length = length\n",
        "        self.width = width\n",
        "\n",
        "    def area(self):\n",
        "        return self.length * self.width\n",
        "\n",
        "\n",
        "# Example usage:\n",
        "rect = Rectangle()\n",
        "rect.set_dimensions(7, 5)\n",
        "print(\"Area of the rectangle:\", rect.area())\n"
      ],
      "metadata": {
        "colab": {
          "base_uri": "https://localhost:8080/"
        },
        "id": "dq6a2cSCcQ4m",
        "outputId": "8f0b08aa-afdc-441f-a4e2-b8fc997e45ae"
      },
      "execution_count": 11,
      "outputs": [
        {
          "output_type": "stream",
          "name": "stdout",
          "text": [
            "Area of the rectangle: 35\n"
          ]
        }
      ]
    },
    {
      "cell_type": "markdown",
      "source": [
        " Q 14 Create a class Employee with a method calculate_salary() that computes the salary based on hours worked\n",
        "and hourly rate. Create a derived class Manager that adds a bonus to the salary.\n",
        "\n",
        "Answer ="
      ],
      "metadata": {
        "id": "XDDVlu0jcbUk"
      }
    },
    {
      "cell_type": "code",
      "source": [
        "# Base class\n",
        "class Employee:\n",
        "    def __init__(self, name, hours_worked, hourly_rate):\n",
        "        self.name = name\n",
        "        self.hours_worked = hours_worked\n",
        "        self.hourly_rate = hourly_rate\n",
        "\n",
        "    def calculate_salary(self):\n",
        "        return self.hours_worked * self.hourly_rate\n",
        "\n",
        "# Derived class\n",
        "class Manager(Employee):\n",
        "    def __init__(self, name, hours_worked, hourly_rate, bonus):\n",
        "        super().__init__(name, hours_worked, hourly_rate)\n",
        "        self.bonus = bonus\n",
        "\n",
        "    def calculate_salary(self):\n",
        "        base_salary = super().calculate_salary()\n",
        "        return base_salary + self.bonus\n",
        "\n",
        "# Example usage\n",
        "emp = Employee(\"Alice\", 40, 25)\n",
        "print(f\"Employee Salary: ₹{emp.calculate_salary()}\")\n",
        "\n",
        "mgr = Manager(\"Bob\", 40, 30, 5000)\n",
        "print(f\"Manager Salary: ₹{mgr.calculate_salary()}\")\n"
      ],
      "metadata": {
        "colab": {
          "base_uri": "https://localhost:8080/"
        },
        "id": "VqM3JOi-ch4H",
        "outputId": "f006f55a-a554-486e-e7b7-88ada5730aec"
      },
      "execution_count": 12,
      "outputs": [
        {
          "output_type": "stream",
          "name": "stdout",
          "text": [
            "Employee Salary: ₹1000\n",
            "Manager Salary: ₹6200\n"
          ]
        }
      ]
    },
    {
      "cell_type": "markdown",
      "source": [
        "Q 15  Create a class Product with attributes name, price, and quantity. Implement a method total_price() that\n",
        "calculates the total price of the product ?\n",
        "\n",
        "Answer ="
      ],
      "metadata": {
        "id": "C5Y4tRUaeFtC"
      }
    },
    {
      "cell_type": "code",
      "source": [
        "class Product:\n",
        "    def __init__(self, name, price, quantity):\n",
        "        self.name = name\n",
        "        self.price = price\n",
        "        self.quantity = quantity\n",
        "\n",
        "    def total_price(self):\n",
        "        return self.price * self.quantity\n",
        "\n",
        "\n",
        "# Example usage\n",
        "product1 = Product(\"Notebook\", 50, 3)\n",
        "print(\"Product Name:\", product1.name)\n",
        "print(\"Unit Price:\", product1.price)\n",
        "print(\"Quantity:\", product1.quantity)\n",
        "print(\"Total Price:\", product1.total_price())\n"
      ],
      "metadata": {
        "colab": {
          "base_uri": "https://localhost:8080/"
        },
        "id": "iwdx18e4eNCS",
        "outputId": "9189ac15-f601-4ec3-949a-6299d90765a5"
      },
      "execution_count": 14,
      "outputs": [
        {
          "output_type": "stream",
          "name": "stdout",
          "text": [
            "Product Name: Notebook\n",
            "Unit Price: 50\n",
            "Quantity: 3\n",
            "Total Price: 150\n"
          ]
        }
      ]
    },
    {
      "cell_type": "markdown",
      "source": [
        "Q 16  Create a class Animal with an abstract method sound(). Create two derived classes Cow and Sheep that\n",
        "implement the sound() method."
      ],
      "metadata": {
        "id": "buZMaelaeVzt"
      }
    },
    {
      "cell_type": "code",
      "source": [
        "from abc import ABC, abstractmethod\n",
        "\n",
        "# Abstract class\n",
        "class Animal(ABC):\n",
        "    @abstractmethod\n",
        "    def sound(self):\n",
        "        pass\n",
        "\n",
        "# Derived class Cow\n",
        "class Cow(Animal):\n",
        "    def sound(self):\n",
        "        return \"Moo\"\n",
        "\n",
        "# Derived class Sheep\n",
        "class Sheep(Animal):\n",
        "    def sound(self):\n",
        "        return \"Baa\"\n",
        "\n",
        "# Testing the classes\n",
        "cow = Cow()\n",
        "sheep = Sheep()\n",
        "\n",
        "print(\"Cow sound:\", cow.sound())\n",
        "print(\"Sheep sound:\", sheep.sound())\n"
      ],
      "metadata": {
        "colab": {
          "base_uri": "https://localhost:8080/"
        },
        "id": "YD8Uuq9NebRm",
        "outputId": "a1ca1a08-510f-4f48-dff1-2d12896e0929"
      },
      "execution_count": 15,
      "outputs": [
        {
          "output_type": "stream",
          "name": "stdout",
          "text": [
            "Cow sound: Moo\n",
            "Sheep sound: Baa\n"
          ]
        }
      ]
    },
    {
      "cell_type": "markdown",
      "source": [
        "Q 17  Create a class Book with attributes title, author, and year_published. Add a method get_book_info() that\n",
        "returns a formatted string with the book's details."
      ],
      "metadata": {
        "id": "QRnmzK1ieifP"
      }
    },
    {
      "cell_type": "code",
      "source": [
        "class Book:\n",
        "    def __init__(self, title, author, year_published):\n",
        "        self.title = title\n",
        "        self.author = author\n",
        "        self.year_published = year_published\n",
        "\n",
        "    def get_book_info(self):\n",
        "        return f\"Title: {self.title}, Author: {self.author}, Year Published: {self.year_published}\"\n",
        "\n",
        "# Example usage:\n",
        "book1 = Book(\"The Alchemist\", \"Paulo Coelho\", 1988)\n",
        "print(book1.get_book_info())\n"
      ],
      "metadata": {
        "colab": {
          "base_uri": "https://localhost:8080/"
        },
        "id": "86lTozoieoGB",
        "outputId": "103e8eb4-9911-496b-df3e-3c9d46e70326"
      },
      "execution_count": 16,
      "outputs": [
        {
          "output_type": "stream",
          "name": "stdout",
          "text": [
            "Title: The Alchemist, Author: Paulo Coelho, Year Published: 1988\n"
          ]
        }
      ]
    },
    {
      "cell_type": "markdown",
      "source": [
        "Q 18  Create a class House with attributes address and price. Create a derived class Mansion that adds an\n",
        "attribute number_of_rooms.\n",
        "\n",
        "Answer="
      ],
      "metadata": {
        "id": "spnJatr4eytG"
      }
    },
    {
      "cell_type": "code",
      "source": [
        "# Base class\n",
        "class House:\n",
        "    def __init__(self, address, price):\n",
        "        self.address = address\n",
        "        self.price = price\n",
        "\n",
        "    def get_info(self):\n",
        "        return f\"Address: {self.address}, Price: ₹{self.price}\"\n",
        "\n",
        "# Derived class\n",
        "class Mansion(House):\n",
        "    def __init__(self, address, price, number_of_rooms):\n",
        "        super().__init__(address, price)\n",
        "        self.number_of_rooms = number_of_rooms\n",
        "\n",
        "    def get_info(self):\n",
        "        base_info = super().get_info()\n",
        "        return f\"{base_info}, Number of Rooms: {self.number_of_rooms}\"\n",
        "\n",
        "# Example usage\n",
        "m1 = Mansion(\"48 SHANKAR COLONY NAYA KHERA AMBABARI JAIPUR \", 50000000, 12)\n",
        "print(m1.get_info())\n"
      ],
      "metadata": {
        "colab": {
          "base_uri": "https://localhost:8080/"
        },
        "id": "tGPPZyG_e2-c",
        "outputId": "d64e0dc8-65f2-4927-c1c2-84da4243119e"
      },
      "execution_count": 18,
      "outputs": [
        {
          "output_type": "stream",
          "name": "stdout",
          "text": [
            "Address: 48 SHANKAR COLONY NAYA KHERA AMBABARI JAIPUR , Price: ₹50000000, Number of Rooms: 12\n"
          ]
        }
      ]
    }
  ]
}